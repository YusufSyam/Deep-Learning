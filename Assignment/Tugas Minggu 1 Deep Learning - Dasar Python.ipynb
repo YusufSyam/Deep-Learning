{
 "cells": [
  {
   "cell_type": "markdown",
   "id": "3dc1ada7",
   "metadata": {},
   "source": [
    "## Tugas 1 Deep Learning\n",
    "<br>\n",
    "Nama: Muh. Yusuf Syam\n",
    "<br>\n",
    "NIM: H071191044\n",
    "\n",
    "Soal: Pelajari python"
   ]
  },
  {
   "cell_type": "markdown",
   "id": "2dbcc65d",
   "metadata": {},
   "source": [
    "### Print Hello World!"
   ]
  },
  {
   "cell_type": "code",
   "execution_count": 1,
   "id": "eaf31c91",
   "metadata": {},
   "outputs": [
    {
     "name": "stdout",
     "output_type": "stream",
     "text": [
      "Hello World!\n"
     ]
    }
   ],
   "source": [
    "print('Hello World!')"
   ]
  },
  {
   "cell_type": "markdown",
   "id": "1c1f5bb4",
   "metadata": {},
   "source": [
    "### Variabel dan Tipe Data"
   ]
  },
  {
   "cell_type": "markdown",
   "id": "3c623505",
   "metadata": {},
   "source": [
    "Variabel singkatnya merupakan tempat menyimpan data pada memori. Berikut cara menginialisasi variabel serta penjelasan masing-masing tipe data"
   ]
  },
  {
   "cell_type": "code",
   "execution_count": 2,
   "id": "fd9112d6",
   "metadata": {},
   "outputs": [],
   "source": [
    "# Variabel dengan tipe data integer atau bilangan bulat\n",
    "var_int= 1\n",
    "\n",
    "# Float/Double = Bilangan desimal\n",
    "var_float= 0.5\n",
    "\n",
    "# String = Berisi kumpulan karakter\n",
    "var_string= 'hello'\n",
    "\n",
    "# Boolean = Mempunyai 2 value, True atau False\n",
    "var_bool= True\n",
    "\n",
    "# List = Himpunan\n",
    "var_list= [1, 2, 3]\n",
    "\n",
    "# Tuple = Serupa dengan list tapi tidak bisa dirubah (immutable)\n",
    "var_tuple= (1, 2, 3)\n",
    "\n",
    "# Numpy array = Berfungsi mirip dengan list, \n",
    "# Namun dimodifikasi agar dapat melakukan operasi aritmatika layaknya matriks, juga lebih cepat\n",
    "import numpy as np\n",
    "var_arr= np.array([1, 2, 3])\n",
    "\n",
    "# Dictionary = List tapi setiap elemennya berupa pasangan key dan value\n",
    "var_dict= {'satu': 1, 'dua': 2, 'tiga':3}\n",
    "\n",
    "# Set = Merupakan himpunan yang tidak memperbolehkan nilai duplikat\n",
    "var_set= set([1, 2, 1])"
   ]
  },
  {
   "cell_type": "markdown",
   "id": "7770ecfe",
   "metadata": {},
   "source": [
    "### Operasi Aritmatika & bitwise"
   ]
  },
  {
   "cell_type": "code",
   "execution_count": 3,
   "id": "e5564ac5",
   "metadata": {},
   "outputs": [],
   "source": [
    "# Operasi Aritmatika\n",
    "add= 1+2\n",
    "substract= 4-2\n",
    "divide= 1/2\n",
    "multiplication= 1*2\n",
    "modulo= 4%2\n",
    "power= 2 ** 2\n",
    "square_root= 4 ** (-2)\n",
    "\n",
    "# Operasi Bitwise\n",
    "and_= 1&2\n",
    "or_= 1|4\n",
    "xor= 4^2\n",
    "not_= ~4\n",
    "left_shift= 4<<1\n",
    "right_shift= 2>>1"
   ]
  },
  {
   "cell_type": "code",
   "execution_count": 4,
   "id": "68b47beb",
   "metadata": {},
   "outputs": [
    {
     "name": "stdout",
     "output_type": "stream",
     "text": [
      "Operasi Penjumlahan: 3\n",
      "Operasi Bitwise and: 0\n"
     ]
    }
   ],
   "source": [
    "print('Operasi Penjumlahan:',add)\n",
    "print('Operasi Bitwise and:',and_)"
   ]
  },
  {
   "cell_type": "markdown",
   "id": "43527d45",
   "metadata": {},
   "source": [
    "### Input dan Output"
   ]
  },
  {
   "cell_type": "code",
   "execution_count": 5,
   "id": "ec2f3ecc",
   "metadata": {},
   "outputs": [
    {
     "name": "stdout",
     "output_type": "stream",
     "text": [
      "hello world!\n",
      "1\n",
      "a b c d\n"
     ]
    }
   ],
   "source": [
    "# Input\n",
    "input_= input()\n",
    "\n",
    "# Input Integer\n",
    "input_int= int(input())\n",
    "\n",
    "# Multiple input in a row\n",
    "multiple_input= input().split()"
   ]
  },
  {
   "cell_type": "code",
   "execution_count": 6,
   "id": "31f13ace",
   "metadata": {},
   "outputs": [
    {
     "name": "stdout",
     "output_type": "stream",
     "text": [
      "hello world! 1 ['a', 'b', 'c', 'd']\n"
     ]
    }
   ],
   "source": [
    "# Print all of the input\n",
    "print(input_, input_int, multiple_input)"
   ]
  },
  {
   "cell_type": "markdown",
   "id": "e5f26567",
   "metadata": {},
   "source": [
    "### Pengondisian"
   ]
  },
  {
   "cell_type": "markdown",
   "id": "9532932f",
   "metadata": {},
   "source": [
    "Berikut sintaks pengondisian"
   ]
  },
  {
   "cell_type": "code",
   "execution_count": 7,
   "id": "849168fd",
   "metadata": {},
   "outputs": [
    {
     "name": "stdout",
     "output_type": "stream",
     "text": [
      "num is 2\n",
      "num is 2\n"
     ]
    }
   ],
   "source": [
    "# Sintaks if else\n",
    "num= 2\n",
    "\n",
    "if(num==2):\n",
    "    print('num is 2')\n",
    "elif(num==3):\n",
    "    print('num is 3')\n",
    "else:\n",
    "    print('num is not 2 or 3')\n",
    "    \n",
    "# Sintaks ternary\n",
    "print('num is 2' if num==2 else 'num is 3')"
   ]
  },
  {
   "cell_type": "markdown",
   "id": "f25df625",
   "metadata": {},
   "source": [
    "Operator perbandingan dan logikal"
   ]
  },
  {
   "cell_type": "markdown",
   "id": "db5c9749",
   "metadata": {},
   "source": [
    "### Perulangan"
   ]
  },
  {
   "cell_type": "markdown",
   "id": "816a739c",
   "metadata": {},
   "source": [
    "Berikut cara melakukan print pada setiap elemen menggunakan setiap sintaks perulangan"
   ]
  },
  {
   "cell_type": "code",
   "execution_count": 8,
   "id": "71d7e796",
   "metadata": {},
   "outputs": [
    {
     "name": "stdout",
     "output_type": "stream",
     "text": [
      "1\n",
      "2\n",
      "3\n",
      "\n",
      "1\n",
      "2\n",
      "3\n",
      "\n",
      "1\n",
      "2\n",
      "3\n"
     ]
    }
   ],
   "source": [
    "# Sintaks for loop\n",
    "list1= [1, 2, 3]\n",
    "\n",
    "for i in list1:\n",
    "    print(i)\n",
    "\n",
    "print()    \n",
    "\n",
    "# Sintkas while\n",
    "idx= 0\n",
    "while(idx!=len(list1)):\n",
    "    print(list1[idx])\n",
    "    idx+=1\n",
    "    \n",
    "print()\n",
    "    \n",
    "# Sintaks list comprehension\n",
    "print('\\n'.join([str(i) for i in list1]))"
   ]
  },
  {
   "cell_type": "markdown",
   "id": "1726450a",
   "metadata": {},
   "source": [
    "### Fungsi"
   ]
  },
  {
   "cell_type": "code",
   "execution_count": 9,
   "id": "00567972",
   "metadata": {},
   "outputs": [],
   "source": [
    "# Fungsi void = fungsi yang tidak mengembalikan apa2 dan hanya mengerjakan blok kode di dalamnya\n",
    "def print_hello_world():\n",
    "    print('Hello World!')\n",
    "    \n",
    "# Fungsi dengan return\n",
    "def add(a, b):\n",
    "    return a+b"
   ]
  },
  {
   "cell_type": "markdown",
   "id": "5464ea75",
   "metadata": {},
   "source": [
    "Memanggil Fungsi"
   ]
  },
  {
   "cell_type": "code",
   "execution_count": 10,
   "id": "e1ca02b9",
   "metadata": {},
   "outputs": [
    {
     "name": "stdout",
     "output_type": "stream",
     "text": [
      "Hello World!\n",
      "3\n"
     ]
    }
   ],
   "source": [
    "print_hello_world()\n",
    "\n",
    "print(add(1,2))"
   ]
  }
 ],
 "metadata": {
  "kernelspec": {
   "display_name": "Python 3",
   "language": "python",
   "name": "python3"
  },
  "language_info": {
   "codemirror_mode": {
    "name": "ipython",
    "version": 3
   },
   "file_extension": ".py",
   "mimetype": "text/x-python",
   "name": "python",
   "nbconvert_exporter": "python",
   "pygments_lexer": "ipython3",
   "version": "3.7.7"
  }
 },
 "nbformat": 4,
 "nbformat_minor": 5
}
