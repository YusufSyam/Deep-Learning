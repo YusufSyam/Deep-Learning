{
  "nbformat": 4,
  "nbformat_minor": 0,
  "metadata": {
    "colab": {
      "name": "tensorboard_visualizing_model_graph.ipynb",
      "provenance": []
    },
    "kernelspec": {
      "name": "python3",
      "display_name": "Python 3"
    },
    "language_info": {
      "name": "python"
    },
    "accelerator": "GPU",
    "gpuClass": "standard"
  },
  "cells": [
    {
      "cell_type": "code",
      "execution_count": 2,
      "metadata": {
        "id": "DSPAweoR5gCU"
      },
      "outputs": [],
      "source": [
        "import tensorflow as tf\n",
        "from tensorflow import keras"
      ]
    },
    {
      "cell_type": "code",
      "source": [
        "model= keras.Sequential([\n",
        "    keras.layers.Conv2D(8, 3, padding='same', activation='relu'),\n",
        "    keras.layers.Conv2D(16, 3, padding='same', activation='relu'),\n",
        "    keras.layers.MaxPooling2D((2,2)),\n",
        "    keras.layers.Conv2D(32, 3, padding='same', activation='relu'),\n",
        "    keras.layers.Conv2D(64, 3, padding='same', activation='relu'),\n",
        "    keras.layers.Flatten(),\n",
        "    keras.layers.Dense(64, activation='relu'),\n",
        "    keras.layers.Dropout(0.1),\n",
        "    keras.layers.Dense(32, activation='relu'),\n",
        "    keras.layers.Dropout(0.1),\n",
        "    keras.layers.Dense(10, activation='softmax')\n",
        "])"
      ],
      "metadata": {
        "id": "9dhFmpkgEOGW"
      },
      "execution_count": 3,
      "outputs": []
    },
    {
      "cell_type": "code",
      "source": [
        "x = tf.random.uniform((1, 128, 128, 3))\n",
        "y = tf.constant(0)\n",
        "\n",
        "x"
      ],
      "metadata": {
        "colab": {
          "base_uri": "https://localhost:8080/"
        },
        "id": "olr5eDcpsF0X",
        "outputId": "99c4deea-e5bc-42c7-cada-5efbecb0777b"
      },
      "execution_count": 8,
      "outputs": [
        {
          "output_type": "execute_result",
          "data": {
            "text/plain": [
              "<tf.Tensor: shape=(1, 128, 128, 3), dtype=float32, numpy=\n",
              "array([[[[0.7178483 , 0.9926194 , 0.82128537],\n",
              "         [0.24124742, 0.7208587 , 0.8819293 ],\n",
              "         [0.2869333 , 0.06919074, 0.2259717 ],\n",
              "         ...,\n",
              "         [0.7652308 , 0.34538543, 0.6108639 ],\n",
              "         [0.93245864, 0.27466   , 0.59178543],\n",
              "         [0.3911909 , 0.5639148 , 0.30451953]],\n",
              "\n",
              "        [[0.0523752 , 0.9726347 , 0.62057877],\n",
              "         [0.01161587, 0.939456  , 0.6154722 ],\n",
              "         [0.3840829 , 0.1454978 , 0.1021868 ],\n",
              "         ...,\n",
              "         [0.9558197 , 0.44958043, 0.8754084 ],\n",
              "         [0.2587911 , 0.13712418, 0.00323403],\n",
              "         [0.40154314, 0.0223403 , 0.00225377]],\n",
              "\n",
              "        [[0.21216798, 0.7680639 , 0.9271008 ],\n",
              "         [0.89384544, 0.23585296, 0.71151865],\n",
              "         [0.05806732, 0.23230064, 0.16244888],\n",
              "         ...,\n",
              "         [0.12793148, 0.22387707, 0.63328815],\n",
              "         [0.5076163 , 0.82707095, 0.5519618 ],\n",
              "         [0.49545848, 0.478158  , 0.3244486 ]],\n",
              "\n",
              "        ...,\n",
              "\n",
              "        [[0.07174146, 0.21629775, 0.77493465],\n",
              "         [0.21576786, 0.16001308, 0.06315601],\n",
              "         [0.03600633, 0.09210098, 0.13560688],\n",
              "         ...,\n",
              "         [0.05229104, 0.48840952, 0.5027796 ],\n",
              "         [0.19554293, 0.29420042, 0.05903614],\n",
              "         [0.66445255, 0.21536088, 0.6573082 ]],\n",
              "\n",
              "        [[0.45003128, 0.56684303, 0.44239283],\n",
              "         [0.46935105, 0.35768843, 0.11237562],\n",
              "         [0.7211075 , 0.05941975, 0.40005946],\n",
              "         ...,\n",
              "         [0.5872102 , 0.18024158, 0.07055128],\n",
              "         [0.88622296, 0.15366292, 0.7110926 ],\n",
              "         [0.5215275 , 0.585925  , 0.7695892 ]],\n",
              "\n",
              "        [[0.46769738, 0.83849955, 0.15369618],\n",
              "         [0.34400618, 0.17269218, 0.14824796],\n",
              "         [0.7138097 , 0.72180927, 0.72128165],\n",
              "         ...,\n",
              "         [0.33657122, 0.5699589 , 0.02999687],\n",
              "         [0.16835678, 0.401783  , 0.57363033],\n",
              "         [0.28686643, 0.2785945 , 0.813341  ]]]], dtype=float32)>"
            ]
          },
          "metadata": {},
          "execution_count": 8
        }
      ]
    },
    {
      "cell_type": "code",
      "source": [
        "writer = tf.summary.create_file_writer(\"logs_7/graph_vis\")"
      ],
      "metadata": {
        "id": "a0V9-pXMsjCO"
      },
      "execution_count": 15,
      "outputs": []
    },
    {
      "cell_type": "code",
      "source": [
        "@tf.function\n",
        "def call_model(x):\n",
        "    return model(x, training=False)"
      ],
      "metadata": {
        "id": "7SP3wBeetjrl"
      },
      "execution_count": 16,
      "outputs": []
    },
    {
      "cell_type": "code",
      "source": [
        "tf.summary.trace_on(graph=True, profiler=True)\n",
        "out = call_model(x)\n",
        "\n",
        "with writer.as_default():\n",
        "    tf.summary.trace_export(\n",
        "        name=\"function_trace\", step=0, profiler_outdir=\"logs\\\\graph_vis\\\\\"\n",
        "    )"
      ],
      "metadata": {
        "id": "k7fWl_LTs7iZ"
      },
      "execution_count": 17,
      "outputs": []
    },
    {
      "cell_type": "code",
      "source": [
        "!zip -r /content/logs_7.zip /content/logs_7"
      ],
      "metadata": {
        "colab": {
          "base_uri": "https://localhost:8080/"
        },
        "id": "oSRui5LotRMu",
        "outputId": "e3fd5b36-a5da-4fd3-e09c-b57eaaf28c2d"
      },
      "execution_count": 18,
      "outputs": [
        {
          "output_type": "stream",
          "name": "stdout",
          "text": [
            "  adding: content/logs_7/ (stored 0%)\n",
            "  adding: content/logs_7/graph_vis/ (stored 0%)\n",
            "  adding: content/logs_7/graph_vis/events.out.tfevents.1659446418.ef26e67fc899.73.1.v2 (deflated 93%)\n",
            "  adding: content/logs_7/graph_vis/.ipynb_checkpoints/ (stored 0%)\n"
          ]
        }
      ]
    },
    {
      "cell_type": "code",
      "source": [
        "# %reload_ext tensorboard\n",
        "# %tensorboard --logdir=/content/logs_7"
      ],
      "metadata": {
        "id": "98fH3jCcpWLY"
      },
      "execution_count": 20,
      "outputs": []
    }
  ]
}