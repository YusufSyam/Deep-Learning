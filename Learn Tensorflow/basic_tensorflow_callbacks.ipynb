{
  "nbformat": 4,
  "nbformat_minor": 0,
  "metadata": {
    "colab": {
      "name": "basic_tensorflow_callbacks.ipynb",
      "provenance": [],
      "collapsed_sections": []
    },
    "kernelspec": {
      "name": "python3",
      "display_name": "Python 3"
    },
    "language_info": {
      "name": "python"
    },
    "accelerator": "GPU"
  },
  "cells": [
    {
      "cell_type": "markdown",
      "source": [
        "Callbacks adalah fungsi khusus yang dijalankan pada tahap tertentu dalam proses training. Callbacks dapat membantu dalam mencegah overfitting, memvisualisasikan kemajuan pelatihan, men-debug kode, menyimpan model saat proses training, menggenerate logs, dll.\n",
        "<br>\n",
        "<br>\n",
        "Tahap-tahap tertentu pada saat training di mana kita bisa memanggil callback:\n",
        "* on_epoch_end: this is triggered when an epoch ends.\n",
        "* on_batch_begin: this is triggered when a new batch is passed for training.\n",
        "* on_batch_end: when a batch is finished with training.\n",
        "* on_train_begin: when the training starts.\n",
        "* on_train_end: when the training ends.\n",
        "<br><br>\n",
        "\n"
      ],
      "metadata": {
        "id": "kHO_zYXNwKTS"
      }
    },
    {
      "cell_type": "code",
      "execution_count": 1,
      "metadata": {
        "id": "qvcCaa7FwICp"
      },
      "outputs": [],
      "source": [
        "import tensorflow as tf\n",
        "from tensorflow import keras\n",
        "\n",
        "from matplotlib import pyplot as plt"
      ]
    },
    {
      "cell_type": "markdown",
      "source": [
        "Datasetnya adalah cifar10"
      ],
      "metadata": {
        "id": "eitSOec6zB8w"
      }
    },
    {
      "cell_type": "code",
      "source": [
        "(x_train, y_train), (x_test, y_test)= keras.datasets.cifar10.load_data()\n",
        "\n",
        "x_train= x_train/255\n",
        "x_test= x_test/255\n",
        "\n",
        "labels= ['airplane','automobile','bird','cat','deer','dog','frog','horse','ship','truck']"
      ],
      "metadata": {
        "id": "a5lNORxYwxOH"
      },
      "execution_count": 2,
      "outputs": []
    },
    {
      "cell_type": "code",
      "source": [
        "plt.imshow(x_train[0])\n",
        "plt.title(labels[y_train[0][0]])\n",
        "plt.show()"
      ],
      "metadata": {
        "colab": {
          "base_uri": "https://localhost:8080/",
          "height": 281
        },
        "id": "bBn4oqHnw64M",
        "outputId": "4237b4c7-87ce-41f2-af92-ee26e111d80d"
      },
      "execution_count": 3,
      "outputs": [
        {
          "output_type": "display_data",
          "data": {
            "text/plain": [
              "<Figure size 432x288 with 1 Axes>"
            ],
            "image/png": "[encoded data removed]"
          },
          "metadata": {
            "needs_background": "light"
          }
        }
      ]
    },
    {
      "cell_type": "code",
      "source": [
        "model= keras.Sequential([\n",
        "    keras.layers.Conv2D(filters=6, kernel_size=5, activation='sigmoid', padding='same', input_shape=x_train[0].shape),\n",
        "    keras.layers.AvgPool2D(pool_size=2, strides=2),\n",
        "    keras.layers.Conv2D(filters=16, kernel_size=5, activation='sigmoid'),\n",
        "    keras.layers.AvgPool2D(pool_size=2, strides=2),\n",
        "    keras.layers.Flatten(),\n",
        "    keras.layers.Dense(120, activation='sigmoid'),\n",
        "    keras.layers.Dense(84, activation='sigmoid'),\n",
        "    keras.layers.Dense(len(labels))\n",
        "])"
      ],
      "metadata": {
        "id": "VCsYaptyy1Ax"
      },
      "execution_count": 4,
      "outputs": []
    },
    {
      "cell_type": "code",
      "source": [
        "# optimizer = keras.optimizers.SGD(learning_rate=0.5)\n",
        "# loss = keras.losses.SparseCategoricalCrossentropy(from_logits=True)\n",
        "\n",
        "# model.compile(optimizer=optimizer, loss=loss, metrics=['accuracy'])\n",
        "# model.fit(x_train, y_train, epochs=20)"
      ],
      "metadata": {
        "id": "whIkK_BK335J"
      },
      "execution_count": 6,
      "outputs": []
    },
    {
      "cell_type": "markdown",
      "source": [
        "### 1. Early Stopping"
      ],
      "metadata": {
        "id": "4hX83jmT2828"
      }
    },
    {
      "cell_type": "markdown",
      "source": [
        "Callback ini memungkinkan kita untuk menghentikan proses training saat model tidak lagi meningkat. Early Stopping cukup berguna terutama untuk mencegah terjadinya overgfitting. Parameter:\n",
        "\n",
        "* monitor: the names of the metrics we want to monitor.\n",
        "* min_delta: the minimum amount of improvement we expect in every epoch.\n",
        "* patience: the number of epochs to wait before stopping the training.\n",
        "* verbose: whether or not to print additional logs.\n",
        "* mode: defines whether the monitored metrics should be increasing, decreasing, or inferred from the name; possible values are 'min', 'max', or 'auto'.\n",
        "* baseline: values for the monitored metrics.\n",
        "* restore_best_weights: if set to True, the model will get the weights of the epoch "
      ],
      "metadata": {
        "id": "Tn0hAe09Z-gr"
      }
    },
    {
      "cell_type": "code",
      "source": [
        "early_stopping_callbacks= keras.callbacks.EarlyStopping(monitor='accuracy', min_delta=0.08, patience=5, mode='auto', baseline=0.9)\n",
        "\n",
        "optimizer = keras.optimizers.SGD(learning_rate=0.1)\n",
        "loss = keras.losses.SparseCategoricalCrossentropy(from_logits=True)\n",
        "\n",
        "model.compile(optimizer=optimizer, loss=loss, metrics=['accuracy'])\n",
        "model.fit(x_train, y_train, epochs=10, callbacks=[early_stopping_callbacks])"
      ],
      "metadata": {
        "colab": {
          "base_uri": "https://localhost:8080/"
        },
        "id": "1a7uXT4F3C6J",
        "outputId": "f5e06f0f-e46c-4898-8ae1-5bb53711fc38"
      },
      "execution_count": 7,
      "outputs": [
        {
          "output_type": "stream",
          "name": "stdout",
          "text": [
            "Epoch 1/10\n",
            "1563/1563 [==============================] - 9s 5ms/step - loss: 1.3285 - accuracy: 0.5182\n",
            "Epoch 2/10\n",
            "1563/1563 [==============================] - 8s 5ms/step - loss: 1.3017 - accuracy: 0.5292\n",
            "Epoch 3/10\n",
            "1563/1563 [==============================] - 8s 5ms/step - loss: 1.2806 - accuracy: 0.5384\n",
            "Epoch 4/10\n",
            "1563/1563 [==============================] - 8s 5ms/step - loss: 1.2609 - accuracy: 0.5459\n",
            "Epoch 5/10\n",
            "1563/1563 [==============================] - 8s 5ms/step - loss: 1.2419 - accuracy: 0.5536\n"
          ]
        },
        {
          "output_type": "execute_result",
          "data": {
            "text/plain": [
              "<keras.callbacks.History at 0x7f3297b5ecd0>"
            ]
          },
          "metadata": {},
          "execution_count": 7
        }
      ]
    },
    {
      "cell_type": "markdown",
      "source": [
        "Kita bisa melihat proses training terhenti sebelum memenuhi epoch dikarenakan akurasi tidak lagi naik sebesar >0.08 (sesuai parameter min_delta)"
      ],
      "metadata": {
        "id": "PRA_Cji0csJS"
      }
    },
    {
      "cell_type": "markdown",
      "source": [
        "### 2. Learning Rate Scheduler"
      ],
      "metadata": {
        "id": "1qmUFJIx8qvq"
      }
    },
    {
      "cell_type": "markdown",
      "source": [
        "Merupakan callback untuk mengubah lr (learning rate) pada epoch tertentu melalui fungsi yang diserahkan pada parameter. Fungsinya akan menerima 2 parameter: epoch dan learning rate. Parameter:\n",
        "\n",
        "* schedule: this is a function that takes the epoch index and returns a new learning rate.\n",
        "* verbose: whether or not to print additional logs.\n",
        "\n",
        "Misal kondisi updatenya adalah: jika epoch lebih kecil dari dua: kembalikan lr tanpa diubah, jika 3 atau 4 maka bagi lr dengan 2, selain dari itu, kembalikan lr yang dikali 0.9"
      ],
      "metadata": {
        "id": "lZTPOXZ6a1OR"
      }
    },
    {
      "cell_type": "code",
      "source": [
        "def schedule(epoch, lr):\n",
        "    if(epoch<2):\n",
        "        return lr\n",
        "    elif(epoch<4):\n",
        "        return lr*0.5\n",
        "    else:\n",
        "        return lr*0.9\n",
        "\n",
        "learning_rate_scheduler_callback= keras.callbacks.LearningRateScheduler(schedule)"
      ],
      "metadata": {
        "id": "tI2YqFSa87Y4"
      },
      "execution_count": 8,
      "outputs": []
    },
    {
      "cell_type": "code",
      "source": [
        "optimizer = keras.optimizers.SGD(learning_rate=0.5)\n",
        "\n",
        "model.compile(optimizer=optimizer, loss=loss, metrics=['accuracy'])\n",
        "model.fit(x_train, y_train, epochs=10, callbacks=[learning_rate_scheduler_callback])"
      ],
      "metadata": {
        "colab": {
          "base_uri": "https://localhost:8080/"
        },
        "id": "PJ1UWaux8jij",
        "outputId": "d6f07b3b-b99a-4615-b554-ebb5612fb614"
      },
      "execution_count": 9,
      "outputs": [
        {
          "output_type": "stream",
          "name": "stdout",
          "text": [
            "Epoch 1/10\n",
            "1563/1563 [==============================] - 8s 5ms/step - loss: 1.3305 - accuracy: 0.5207 - lr: 0.5000\n",
            "Epoch 2/10\n",
            "1563/1563 [==============================] - 8s 5ms/step - loss: 1.2657 - accuracy: 0.5457 - lr: 0.5000\n",
            "Epoch 3/10\n",
            "1563/1563 [==============================] - 8s 5ms/step - loss: 1.1600 - accuracy: 0.5846 - lr: 0.2500\n",
            "Epoch 4/10\n",
            "1563/1563 [==============================] - 8s 5ms/step - loss: 1.1053 - accuracy: 0.6066 - lr: 0.1250\n",
            "Epoch 5/10\n",
            "1563/1563 [==============================] - 8s 5ms/step - loss: 1.0866 - accuracy: 0.6111 - lr: 0.1125\n",
            "Epoch 6/10\n",
            "1563/1563 [==============================] - 8s 5ms/step - loss: 1.0708 - accuracy: 0.6191 - lr: 0.1013\n",
            "Epoch 7/10\n",
            "1563/1563 [==============================] - 8s 5ms/step - loss: 1.0567 - accuracy: 0.6238 - lr: 0.0911\n",
            "Epoch 8/10\n",
            "1563/1563 [==============================] - 8s 5ms/step - loss: 1.0417 - accuracy: 0.6304 - lr: 0.0820\n",
            "Epoch 9/10\n",
            "1563/1563 [==============================] - 8s 5ms/step - loss: 1.0289 - accuracy: 0.6337 - lr: 0.0738\n",
            "Epoch 10/10\n",
            "1563/1563 [==============================] - 8s 5ms/step - loss: 1.0181 - accuracy: 0.6390 - lr: 0.0664\n"
          ]
        },
        {
          "output_type": "execute_result",
          "data": {
            "text/plain": [
              "<keras.callbacks.History at 0x7f3296a908d0>"
            ]
          },
          "metadata": {},
          "execution_count": 9
        }
      ]
    },
    {
      "cell_type": "markdown",
      "source": [
        "Terlihat saat epoch>2 learning ratenya berubah"
      ],
      "metadata": {
        "id": "vfYbsvlpc7so"
      }
    },
    {
      "cell_type": "markdown",
      "source": [
        "### 3. Model Checkpoint"
      ],
      "metadata": {
        "id": "1w1GHdhW_Jzu"
      }
    },
    {
      "cell_type": "markdown",
      "source": [
        "Berfungsi untuk menyimpan model atau weight dari model saat proses training. Yang nantinya model atau weight ini bisa diload nantinya. Callback model checkpoint menyimpan model/weight secara berkala, berdasarkan parameter save_freq. Jika nama file model/weight sama dengan nama file sebelumnya, maka akan direplace. Parameter:\n",
        "\n",
        "* filepath: path for saving the model. You can pass the file path with formatting options like model-{epoch:02d}-{val_loss:0.2f}; this saves the model with the mentioned values in the name.\n",
        "* monitor: name of the metrics to monitor.\n",
        "* save_best_only: if True, the best model will not be overridden.\n",
        "* mode: defines whether the monitored metrics should be increasing, decreasing, or inferred from the name; possible values are 'min', 'max', or 'auto'.\n",
        "* save_weights_only: if True, only the weights of the models will be saved. Otherwise the full model will be saved.\n",
        "* save_freq: if 'epoch', the model will be saved after every epoch. If an integer value is passed, the model will be saved after the integer number of batches (not to be confused with epochs).\n",
        "\n",
        "Misal kita akan menyimpan weight hasil proses training"
      ],
      "metadata": {
        "id": "epvQ5jGtb1oi"
      }
    },
    {
      "cell_type": "code",
      "source": [
        "model_checkpoint_callback= tf.keras.callbacks.ModelCheckpoint(filepath='weight_checkpoints/weight - epoch: {epoch:0.2f} - accuracy {accuracy:0.4f}.ckpt', monitor= 'accuracy', save_freq='epoch', save_weights_only=True)\n",
        "model.fit(x_train, y_train, epochs=3, callbacks=[model_checkpoint_callback])"
      ],
      "metadata": {
        "id": "1P915K2s_HIW"
      },
      "execution_count": 10,
      "outputs": []
    },
    {
      "cell_type": "markdown",
      "source": [
        "Melihat daftar file dari direktori tempat menyimpan file model/weight"
      ],
      "metadata": {
        "id": "p5c8B-2sdGun"
      }
    },
    {
      "cell_type": "code",
      "source": [
        "import os\n",
        "\n",
        "os.listdir('weight_checkpoints')"
      ],
      "metadata": {
        "colab": {
          "base_uri": "https://localhost:8080/"
        },
        "id": "iqRH6Dj9DGH7",
        "outputId": "afb18874-4153-4c4f-8308-f9eeb89b99e4"
      },
      "execution_count": 17,
      "outputs": [
        {
          "output_type": "execute_result",
          "data": {
            "text/plain": [
              "['weight - epoch: 1.00 - accuracy 0.7792.ckpt.data-00000-of-00001',\n",
              " 'checkpoint',\n",
              " 'weight - epoch: 3.00 - accuracy 0.7838.ckpt.index',\n",
              " 'weight - epoch: 2.00 - accuracy 0.7819.ckpt.index',\n",
              " 'weight - epoch: 1.00 - accuracy 0.7792.ckpt.index',\n",
              " 'weight - epoch: 3.00 - accuracy 0.7838.ckpt.data-00000-of-00001',\n",
              " 'weight - epoch: 2.00 - accuracy 0.7819.ckpt.data-00000-of-00001']"
            ]
          },
          "metadata": {},
          "execution_count": 17
        }
      ]
    },
    {
      "cell_type": "markdown",
      "source": [
        "Meload weight dari model yang telah kita save. Syarat untuk meload weight adalah struktur modelnya harus sama, maka dari itu kita akan membuat model baru lalu baru kita akan meload weightnya"
      ],
      "metadata": {
        "id": "BpBrYjpuJjFx"
      }
    },
    {
      "cell_type": "code",
      "source": [
        "# Membuat model baru\n",
        "new_model= keras.Sequential([\n",
        "    keras.layers.Conv2D(filters=6, kernel_size=5, activation='sigmoid', padding='same', input_shape=x_train[0].shape),\n",
        "    keras.layers.AvgPool2D(pool_size=2, strides=2),\n",
        "    keras.layers.Conv2D(filters=16, kernel_size=5, activation='sigmoid'),\n",
        "    keras.layers.AvgPool2D(pool_size=2, strides=2),\n",
        "    keras.layers.Flatten(),\n",
        "    keras.layers.Dense(120, activation='sigmoid'),\n",
        "    keras.layers.Dense(84, activation='sigmoid'),\n",
        "    keras.layers.Dense(len(labels))\n",
        "])\n",
        "\n",
        "new_model.compile(optimizer=optimizer, loss=loss, metrics=['accuracy'])\n",
        "\n",
        "# Meload weight pada model\n",
        "new_model.load_weights('weight_checkpoints/weight - epoch: 3.00 - accuracy 0.7838.ckpt')"
      ],
      "metadata": {
        "colab": {
          "base_uri": "https://localhost:8080/"
        },
        "id": "Bd7kkqakJiUl",
        "outputId": "0750d730-8970-4aa4-c542-fa548520a604"
      },
      "execution_count": 12,
      "outputs": [
        {
          "output_type": "execute_result",
          "data": {
            "text/plain": [
              "<tensorflow.python.training.tracking.util.CheckpointLoadStatus at 0x7f330bb27d10>"
            ]
          },
          "metadata": {},
          "execution_count": 12
        }
      ]
    },
    {
      "cell_type": "code",
      "source": [
        "model.evaluate(x_test, y_test)\n",
        "new_model.evaluate(x_test, y_test)"
      ],
      "metadata": {
        "colab": {
          "base_uri": "https://localhost:8080/"
        },
        "id": "H3-83Q2kI3e5",
        "outputId": "fdcb78c6-44d2-4b92-dd21-a68a2de89851"
      },
      "execution_count": 13,
      "outputs": [
        {
          "output_type": "stream",
          "name": "stdout",
          "text": [
            "313/313 [==============================] - 1s 4ms/step - loss: 1.1398 - accuracy: 0.5961\n",
            "313/313 [==============================] - 1s 4ms/step - loss: 1.2314 - accuracy: 0.6124\n"
          ]
        },
        {
          "output_type": "execute_result",
          "data": {
            "text/plain": [
              "[1.2313624620437622, 0.6123999953269958]"
            ]
          },
          "metadata": {},
          "execution_count": 13
        }
      ]
    },
    {
      "cell_type": "markdown",
      "source": [
        "### 4. Reduce Lr On Plateau"
      ],
      "metadata": {
        "id": "UK8oW4ERMMjJ"
      }
    },
    {
      "cell_type": "markdown",
      "source": [
        "Mirip dengan callback learning rate scheduler, namun callback ini mengubah learning rate berdasarkan metrik bukannya epoch. Parameter:\n",
        "\n",
        "* factor: the factor by which the learning rate should be decreased (new learning rate = old learning rate * factor).\n",
        "* cooldown: the number of epochs to wait before restarting the monitoring of the metrics.\n",
        "* min_lr: the minimum bound for the learning rate (the learning rate can’t go below this)."
      ],
      "metadata": {
        "id": "3tkjMAEjdz3W"
      }
    },
    {
      "cell_type": "code",
      "source": [
        "reduce_lr_on_plateau_callback= keras.callbacks.ReduceLROnPlateau(monitor='accuracy', factor= 0.5, patience=1, min_lr=0.1, min_delta=0.0001)\n",
        "model.fit(x_train, y_train, epochs=3, callbacks=[reduce_lr_on_plateau_callback])"
      ],
      "metadata": {
        "colab": {
          "base_uri": "https://localhost:8080/"
        },
        "id": "eaRXliH1LeGK",
        "outputId": "54565b5e-f260-4a97-fc6c-4bee30e2a9d0"
      },
      "execution_count": 14,
      "outputs": [
        {
          "output_type": "stream",
          "name": "stdout",
          "text": [
            "Epoch 1/3\n",
            "1563/1563 [==============================] - 8s 5ms/step - loss: 1.0103 - accuracy: 0.6406 - lr: 0.0664\n",
            "Epoch 2/3\n",
            "1563/1563 [==============================] - 8s 5ms/step - loss: 1.0007 - accuracy: 0.6451 - lr: 0.0664\n",
            "Epoch 3/3\n",
            "1563/1563 [==============================] - 8s 5ms/step - loss: 0.9926 - accuracy: 0.6483 - lr: 0.0664\n"
          ]
        },
        {
          "output_type": "execute_result",
          "data": {
            "text/plain": [
              "<keras.callbacks.History at 0x7f3297913fd0>"
            ]
          },
          "metadata": {},
          "execution_count": 14
        }
      ]
    },
    {
      "cell_type": "markdown",
      "source": [
        "Learning ratenya tidak berubah karena selalu memenuhi kondisi peningkatan > 0.0001"
      ],
      "metadata": {
        "id": "RTjFFbK2eYbg"
      }
    },
    {
      "cell_type": "markdown",
      "source": [
        "### 5. Custom Callback"
      ],
      "metadata": {
        "id": "Z2klr44-Nyah"
      }
    },
    {
      "cell_type": "markdown",
      "source": [
        "Kita bisa membuat callback sendiri dengan membuat kelas turunan dari tensorflow.keras.callbacks.Callback . Penjelasan pada https://www.tensorflow.org/api_docs/python/tf/keras/callbacks/Callback\n",
        "\n",
        "Kita akan membuat callback untuk melakukan plot pada saat proses train berakhir"
      ],
      "metadata": {
        "id": "7vV05NlBeem4"
      }
    },
    {
      "cell_type": "code",
      "source": [
        "class plot_training_accuracy(keras.callbacks.Callback):\n",
        "    def __init__(self, from_zero= False):\n",
        "        self.epochs_list= []\n",
        "        self.accuracy_list= []\n",
        "\n",
        "        if(from_zero):\n",
        "            self.epochs_list.append(0)\n",
        "            self.accuracy_list.append(0)\n",
        "\n",
        "        plt.style.use('fivethirtyeight')\n",
        "\n",
        "    # def on_epoch_end(self, epoch, logs=None):\n",
        "    #     self.epochs_list.append(epoch+1)\n",
        "    #     self.accuracy_list.append(logs['accuracy'])\n",
        "    #     print('\\naasdada',logs['accuracy'])\n",
        "    #     print(self.epochs_list)\n",
        "    #     print(self.accuracy_list)\n",
        "    #     plt.plot(self.epochs_list, self.accuracy_list, c='r')\n",
        "    #     plt.show()\n",
        "\n",
        "    def on_epoch_end(self, epoch, logs=None):\n",
        "        self.epochs_list.append(epoch+1)\n",
        "        self.accuracy_list.append(logs['accuracy'])\n",
        "\n",
        "    def on_train_end(self, logs=None):\n",
        "        plt.plot(self.epochs_list, self.accuracy_list)\n",
        "        plt.title('Training Accuracy')\n",
        "        plt.xlabel('Epochs')\n",
        "        plt.ylabel('Accuracy')\n",
        "        plt.show()"
      ],
      "metadata": {
        "id": "0FtiAroGNvR6"
      },
      "execution_count": 15,
      "outputs": []
    },
    {
      "cell_type": "code",
      "source": [
        "model.fit(x_train, y_train, epochs=10, callbacks=[plot_training_accuracy(True)])"
      ],
      "metadata": {
        "colab": {
          "base_uri": "https://localhost:8080/",
          "height": 700
        },
        "id": "YoVW8QqXTLKs",
        "outputId": "bed184f5-eef1-4057-bf2b-3b517edbebbb"
      },
      "execution_count": 16,
      "outputs": [
        {
          "output_type": "stream",
          "name": "stdout",
          "text": [
            "Epoch 1/10\n",
            "1563/1563 [==============================] - 8s 5ms/step - loss: 0.9840 - accuracy: 0.6523\n",
            "Epoch 2/10\n",
            "1563/1563 [==============================] - 8s 5ms/step - loss: 0.9761 - accuracy: 0.6527\n",
            "Epoch 3/10\n",
            "1563/1563 [==============================] - 7s 5ms/step - loss: 0.9685 - accuracy: 0.6569\n",
            "Epoch 4/10\n",
            "1563/1563 [==============================] - 8s 5ms/step - loss: 0.9599 - accuracy: 0.6598\n",
            "Epoch 5/10\n",
            "1563/1563 [==============================] - 8s 5ms/step - loss: 0.9526 - accuracy: 0.6638\n",
            "Epoch 6/10\n",
            "1563/1563 [==============================] - 8s 5ms/step - loss: 0.9441 - accuracy: 0.6666\n",
            "Epoch 7/10\n",
            "1563/1563 [==============================] - 8s 5ms/step - loss: 0.9362 - accuracy: 0.6676\n",
            "Epoch 8/10\n",
            "1563/1563 [==============================] - 8s 5ms/step - loss: 0.9276 - accuracy: 0.6707\n",
            "Epoch 9/10\n",
            "1563/1563 [==============================] - 8s 5ms/step - loss: 0.9186 - accuracy: 0.6753\n",
            "Epoch 10/10\n",
            "1563/1563 [==============================] - 7s 5ms/step - loss: 0.9116 - accuracy: 0.6775\n"
          ]
        },
        {
          "output_type": "display_data",
          "data": {
            "text/plain": [
              "<Figure size 432x288 with 1 Axes>"
            ],
            "image/png": "[encoded data removed]"
          },
          "metadata": {}
        },
        {
          "output_type": "execute_result",
          "data": {
            "text/plain": [
              "<keras.callbacks.History at 0x7f32978ffa90>"
            ]
          },
          "metadata": {},
          "execution_count": 16
        }
      ]
    },
    {
      "cell_type": "markdown",
      "source": [
        "### Callbacks lainnya:\n"
      ],
      "metadata": {
        "id": "jUUlF69gXjAw"
      }
    },
    {
      "cell_type": "markdown",
      "source": [
        "6. Tensorboard\n",
        "7. CSVLogger: untuk menyimpan accuracy, loss, dll pada file csv\n",
        "8. LambdaCallback: seperti Custom callback namun hanya berupa fungsi\n",
        "9. RemoteMonitor: untuk melakukan POST pada suatu API\n",
        "10. TerminateOnNan: callback ini akan menghentikan proses training jika loss menjadi NaN"
      ],
      "metadata": {
        "id": "0jh9cXJkX2hk"
      }
    }
  ]
}
