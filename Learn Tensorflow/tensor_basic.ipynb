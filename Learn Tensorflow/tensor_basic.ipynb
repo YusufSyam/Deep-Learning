{
  "nbformat": 4,
  "nbformat_minor": 0,
  "metadata": {
    "colab": {
      "name": "tensor_basic.ipynb",
      "provenance": [],
      "collapsed_sections": []
    },
    "kernelspec": {
      "name": "python3",
      "display_name": "Python 3"
    },
    "language_info": {
      "name": "python"
    }
  },
  "cells": [
    {
      "cell_type": "code",
      "source": [
        "import tensorflow as tf"
      ],
      "metadata": {
        "id": "Jn4nSmxJiOhh"
      },
      "execution_count": 24,
      "outputs": []
    },
    {
      "cell_type": "markdown",
      "source": [
        "### Inisialisasi/deklarasi tensor"
      ],
      "metadata": {
        "id": "-HiG6SY_hjjV"
      }
    },
    {
      "cell_type": "markdown",
      "source": [
        "Inisialisasi konstan tensor / tensor constant"
      ],
      "metadata": {
        "id": "aGFv4onSie7Z"
      }
    },
    {
      "cell_type": "code",
      "source": [
        "# Inisialisasi konstan dengan nilai 4\n",
        "x= tf.constant(4)\n",
        "print(x)\n",
        "\n",
        "# Untuk mengambil nilai suatu tensor kita bisa memanggil method .numpy()\n",
        "print('Nilai x',x.numpy())\n",
        "\n",
        "# Kita juga bisa mendenfinisikan dtype dan shape nya\n",
        "x= tf.constant(4, shape=(1,4), dtype=tf.float32)\n",
        "print(x)"
      ],
      "metadata": {
        "colab": {
          "base_uri": "https://localhost:8080/"
        },
        "id": "10mHWvYIh4Ui",
        "outputId": "fdf493ff-b65a-4b1c-c101-8699af6ec9af"
      },
      "execution_count": 25,
      "outputs": [
        {
          "output_type": "stream",
          "name": "stdout",
          "text": [
            "tf.Tensor(4, shape=(), dtype=int32)\n",
            "Nilai x 4\n",
            "tf.Tensor([[4. 4. 4. 4.]], shape=(1, 4), dtype=float32)\n"
          ]
        }
      ]
    },
    {
      "cell_type": "markdown",
      "source": [
        "Tensor constant berbentuk matriks"
      ],
      "metadata": {
        "id": "1ohYbAd7jLxi"
      }
    },
    {
      "cell_type": "code",
      "source": [
        "# Tensor constant berbentuk matriks 2x3\n",
        "matrix= tf.constant([[1,2,3],[4,5,6]])\n",
        "print(matrix)\n",
        "\n",
        "# Tensor constant tapi isi matriksnya satu semua\n",
        "matrix_ones= tf.ones(shape=(2,2))\n",
        "print(matrix_ones)\n",
        "\n",
        "# Matriks identitas\n",
        "matrix_identity= tf.eye(3)\n",
        "print(matrix_identity)\n",
        "\n",
        "# Matriks range, ini inklusif\n",
        "matrix_range= tf.range(start=1, limit=5)\n",
        "print(matrix_range)\n",
        "\n",
        "# Matriks random:\n",
        "# tf.random"
      ],
      "metadata": {
        "colab": {
          "base_uri": "https://localhost:8080/"
        },
        "id": "93xnF2wOjVOM",
        "outputId": "e3691589-0e6e-44b5-c625-01150f2b5bec"
      },
      "execution_count": 26,
      "outputs": [
        {
          "output_type": "stream",
          "name": "stdout",
          "text": [
            "tf.Tensor(\n",
            "[[1 2 3]\n",
            " [4 5 6]], shape=(2, 3), dtype=int32)\n",
            "tf.Tensor(\n",
            "[[1. 1.]\n",
            " [1. 1.]], shape=(2, 2), dtype=float32)\n",
            "tf.Tensor(\n",
            "[[1. 0. 0.]\n",
            " [0. 1. 0.]\n",
            " [0. 0. 1.]], shape=(3, 3), dtype=float32)\n",
            "tf.Tensor([1 2 3 4], shape=(4,), dtype=int32)\n"
          ]
        }
      ]
    },
    {
      "cell_type": "markdown",
      "source": [
        "### Casting dtype"
      ],
      "metadata": {
        "id": "B2sRJx3elFpA"
      }
    },
    {
      "cell_type": "markdown",
      "source": [
        "Casting dilakukan dengan memanggil fungsi tf.cast(array, shape_baru)"
      ],
      "metadata": {
        "id": "aI6jmu8ElHc_"
      }
    },
    {
      "cell_type": "code",
      "source": [
        "float_matrix_range= tf.cast(matrix_range, tf.float32)\n",
        "float_matrix_range"
      ],
      "metadata": {
        "id": "rdb8FoDFlP3F",
        "colab": {
          "base_uri": "https://localhost:8080/"
        },
        "outputId": "729083d7-20bf-4628-9113-0a8eef233345"
      },
      "execution_count": 27,
      "outputs": [
        {
          "output_type": "execute_result",
          "data": {
            "text/plain": [
              "<tf.Tensor: shape=(4,), dtype=float32, numpy=array([1., 2., 3., 4.], dtype=float32)>"
            ]
          },
          "metadata": {},
          "execution_count": 27
        }
      ]
    },
    {
      "cell_type": "markdown",
      "source": [
        "### Operasi Matematik"
      ],
      "metadata": {
        "id": "1wbQAopWhqF7"
      }
    },
    {
      "cell_type": "markdown",
      "source": [
        "Misal terdapat 2 tensor untuk operasi matematik"
      ],
      "metadata": {
        "id": "kgFgT1domMVB"
      }
    },
    {
      "cell_type": "code",
      "source": [
        "x= tf.constant([[4,2],[1,2]])\n",
        "y= tf.constant([[1,6],[3,5]])"
      ],
      "metadata": {
        "id": "HUlchFEjmaiH"
      },
      "execution_count": 43,
      "outputs": []
    },
    {
      "cell_type": "code",
      "source": [
        "# Penambahan\n",
        "print('Penambahan', tf.add(x,y))\n",
        "# Atau: x+y\n",
        "print()\n",
        "\n",
        "# Pengurangan\n",
        "print('Pengurangan', tf.subtract(x, y))\n",
        "# x-y\n",
        "print()\n",
        "\n",
        "# Perkalian\n",
        "print('Perkalian', tf.multiply(x, y))\n",
        "# x*y\n",
        "print()\n",
        "\n",
        "# Pembagian\n",
        "print('Pembagian', tf.divide(x, y))\n",
        "# x/y\n",
        "print()\n",
        "\n",
        "# Pemangkatan 2 (dari x) \n",
        "print('Pemangkatan', x**2)\n",
        "print()\n",
        "\n",
        "# Perkalian matriks\n",
        "print('Perkalian matriks', tf.matmul(x, y))\n",
        "# x@y\n",
        "print()"
      ],
      "metadata": {
        "colab": {
          "base_uri": "https://localhost:8080/"
        },
        "id": "Zk6pctggml7P",
        "outputId": "8449b39c-c60b-4b00-8270-0d5f84a8be0b"
      },
      "execution_count": 47,
      "outputs": [
        {
          "output_type": "stream",
          "name": "stdout",
          "text": [
            "Penambahan tf.Tensor(\n",
            "[[5 8]\n",
            " [4 7]], shape=(2, 2), dtype=int32)\n",
            "\n",
            "Pengurangan tf.Tensor(\n",
            "[[ 3 -4]\n",
            " [-2 -3]], shape=(2, 2), dtype=int32)\n",
            "\n",
            "Perkalian tf.Tensor(\n",
            "[[ 4 12]\n",
            " [ 3 10]], shape=(2, 2), dtype=int32)\n",
            "\n",
            "Pembagian tf.Tensor(\n",
            "[[4.         0.33333333]\n",
            " [0.33333333 0.4       ]], shape=(2, 2), dtype=float64)\n",
            "\n",
            "Pemangkatan tf.Tensor(\n",
            "[[16  4]\n",
            " [ 1  4]], shape=(2, 2), dtype=int32)\n",
            "\n",
            "Perkalian matriks tf.Tensor(\n",
            "[[10 34]\n",
            " [ 7 16]], shape=(2, 2), dtype=int32)\n",
            "\n"
          ]
        }
      ]
    },
    {
      "cell_type": "code",
      "source": [
        "a= [[1,2],\n",
        "                        [3,4],\n",
        "                        [5,6]]"
      ],
      "metadata": {
        "id": "4hy_dZ-urwIh"
      },
      "execution_count": 55,
      "outputs": []
    },
    {
      "cell_type": "markdown",
      "source": [
        "### Indexing"
      ],
      "metadata": {
        "id": "DeX7ONn_hviT"
      }
    },
    {
      "cell_type": "markdown",
      "source": [
        "Untuk indexing matriks 1d mirip2 dengan list biasa.\n",
        "\n",
        "Misal terdapat matriks 2d seperti ini"
      ],
      "metadata": {
        "id": "72gi3Jg4qL7V"
      }
    },
    {
      "cell_type": "code",
      "source": [
        "matrix_2d= tf.constant([[1,2],\n",
        "                        [3,4],\n",
        "                        [5,6]])\n",
        "\n",
        "matrix_2d"
      ],
      "metadata": {
        "colab": {
          "base_uri": "https://localhost:8080/"
        },
        "id": "0ayADof_qhSJ",
        "outputId": "c4ea0158-09cb-47a0-a92a-3d56e5fa5efe"
      },
      "execution_count": 52,
      "outputs": [
        {
          "output_type": "execute_result",
          "data": {
            "text/plain": [
              "<tf.Tensor: shape=(3, 2), dtype=int32, numpy=\n",
              "array([[1, 2],\n",
              "       [3, 4],\n",
              "       [5, 6]], dtype=int32)>"
            ]
          },
          "metadata": {},
          "execution_count": 52
        }
      ]
    },
    {
      "cell_type": "markdown",
      "source": [
        "Untuk mendapatkan indeks ke [0][0]:"
      ],
      "metadata": {
        "id": "YEPgiOEirfN1"
      }
    },
    {
      "cell_type": "code",
      "source": [
        "matrix_2d[0,0]"
      ],
      "metadata": {
        "colab": {
          "base_uri": "https://localhost:8080/"
        },
        "id": "rOnCWRQJpRew",
        "outputId": "17a6de49-a6ab-401b-8f1c-7c57fae99112"
      },
      "execution_count": 53,
      "outputs": [
        {
          "output_type": "execute_result",
          "data": {
            "text/plain": [
              "<tf.Tensor: shape=(), dtype=int32, numpy=1>"
            ]
          },
          "metadata": {},
          "execution_count": 53
        }
      ]
    },
    {
      "cell_type": "markdown",
      "source": [
        "Indeks[1][:]"
      ],
      "metadata": {
        "id": "4SF3od3CrpQp"
      }
    },
    {
      "cell_type": "code",
      "source": [
        "matrix_2d[1,:]"
      ],
      "metadata": {
        "colab": {
          "base_uri": "https://localhost:8080/"
        },
        "id": "HIUZqHC-rnjT",
        "outputId": "cbbc29ca-601b-4fe0-8fc8-38bdd8a84bbc"
      },
      "execution_count": 54,
      "outputs": [
        {
          "output_type": "execute_result",
          "data": {
            "text/plain": [
              "<tf.Tensor: shape=(2,), dtype=int32, numpy=array([3, 4], dtype=int32)>"
            ]
          },
          "metadata": {},
          "execution_count": 54
        }
      ]
    },
    {
      "cell_type": "markdown",
      "source": [
        "### Reshape"
      ],
      "metadata": {
        "id": "Z2NsIMh5r4Kh"
      }
    },
    {
      "cell_type": "markdown",
      "source": [
        "tf.reshape(matriks, new_shape)\n",
        "\n",
        "Misal matriks 1x9 mau direshape menjadi 3x3"
      ],
      "metadata": {
        "id": "CHINXoMir-67"
      }
    },
    {
      "cell_type": "code",
      "source": [
        "matriks= tf.range(0,9)\n",
        "\n",
        "matriks"
      ],
      "metadata": {
        "colab": {
          "base_uri": "https://localhost:8080/"
        },
        "id": "j_N_J_NjrtMX",
        "outputId": "1ced5042-1001-4844-92e4-ce7a34ee0855"
      },
      "execution_count": 59,
      "outputs": [
        {
          "output_type": "execute_result",
          "data": {
            "text/plain": [
              "<tf.Tensor: shape=(9,), dtype=int32, numpy=array([0, 1, 2, 3, 4, 5, 6, 7, 8], dtype=int32)>"
            ]
          },
          "metadata": {},
          "execution_count": 59
        }
      ]
    },
    {
      "cell_type": "markdown",
      "source": [
        "Melakukan reshape"
      ],
      "metadata": {
        "id": "E5lI2FN8sTDq"
      }
    },
    {
      "cell_type": "code",
      "source": [
        "matriks_reshape= tf.reshape(matriks, (3,3))\n",
        "\n",
        "matriks_reshape"
      ],
      "metadata": {
        "colab": {
          "base_uri": "https://localhost:8080/"
        },
        "id": "XBUS9kpKsR3n",
        "outputId": "b0fcc28b-e640-4e8a-dbfe-b4190a8f8e68"
      },
      "execution_count": 60,
      "outputs": [
        {
          "output_type": "execute_result",
          "data": {
            "text/plain": [
              "<tf.Tensor: shape=(3, 3), dtype=int32, numpy=\n",
              "array([[0, 1, 2],\n",
              "       [3, 4, 5],\n",
              "       [6, 7, 8]], dtype=int32)>"
            ]
          },
          "metadata": {},
          "execution_count": 60
        }
      ]
    },
    {
      "cell_type": "markdown",
      "source": [
        "Transpose matriks"
      ],
      "metadata": {
        "id": "6zyUnoE_sb9q"
      }
    },
    {
      "cell_type": "code",
      "source": [
        "matriks_transpose= tf.transpose(matriks_reshape)\n",
        "\n",
        "matriks_transpose"
      ],
      "metadata": {
        "colab": {
          "base_uri": "https://localhost:8080/"
        },
        "id": "D3RSDEp7sa4E",
        "outputId": "c553189f-d28d-4ddd-f025-ed5ec3748e38"
      },
      "execution_count": 61,
      "outputs": [
        {
          "output_type": "execute_result",
          "data": {
            "text/plain": [
              "<tf.Tensor: shape=(3, 3), dtype=int32, numpy=\n",
              "array([[0, 3, 6],\n",
              "       [1, 4, 7],\n",
              "       [2, 5, 8]], dtype=int32)>"
            ]
          },
          "metadata": {},
          "execution_count": 61
        }
      ]
    }
  ]
}
