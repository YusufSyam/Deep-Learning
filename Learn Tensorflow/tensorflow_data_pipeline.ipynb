{
 "cells": [
  {
   "cell_type": "markdown",
   "id": "e355a862",
   "metadata": {},
   "source": [
    "Data pipeline adalah serangkaian proses (filter, shuffle, map, dll) yang dilakukan pada data secara berantai, menggunakan tensorflow data pipeline (?) akan memproses data secara parallel sehingga pemrosesan data menjadi cepat."
   ]
  },
  {
   "cell_type": "code",
   "execution_count": 1,
   "id": "b6fdec89",
   "metadata": {},
   "outputs": [],
   "source": [
    "import tensorflow as tf\n",
    "\n",
    "import numpy as np"
   ]
  },
  {
   "cell_type": "markdown",
   "id": "10083d1a",
   "metadata": {},
   "source": [
    "#### Dataset random"
   ]
  },
  {
   "cell_type": "markdown",
   "id": "97d43a5b",
   "metadata": {},
   "source": [
    "Misal datasetnya merupakan data random yang digenerate seperti di bawah ini"
   ]
  },
  {
   "cell_type": "code",
   "execution_count": 2,
   "id": "4501b4b2",
   "metadata": {},
   "outputs": [
    {
     "data": {
      "text/plain": [
       "array([404, 229, 137, -79, 288, -93, 498,  31, -35, 134])"
      ]
     },
     "execution_count": 2,
     "metadata": {},
     "output_type": "execute_result"
    }
   ],
   "source": [
    "random_arr= np.random.randint(-100,500, 10)\n",
    "random_arr"
   ]
  },
  {
   "cell_type": "markdown",
   "id": "bd547309",
   "metadata": {},
   "source": [
    "Hal pertama yang harus kita lakukan untuk menerapkan tensorflow data pipeline adalah membuat data tersebut menjadi objek tensor"
   ]
  },
  {
   "cell_type": "code",
   "execution_count": 3,
   "id": "32441c5d",
   "metadata": {},
   "outputs": [
    {
     "data": {
      "text/plain": [
       "<TensorSliceDataset shapes: (), types: tf.int32>"
      ]
     },
     "execution_count": 3,
     "metadata": {},
     "output_type": "execute_result"
    }
   ],
   "source": [
    "# Fungsi untuk mengubah list atau array menjadi objek tensor\n",
    "tf_dataset= tf.data.Dataset.from_tensor_slices(random_arr)\n",
    "\n",
    "tf_dataset"
   ]
  },
  {
   "cell_type": "markdown",
   "id": "2d5353d5",
   "metadata": {},
   "source": [
    "Menampilkan data yang sekarang menjadi objek tensor"
   ]
  },
  {
   "cell_type": "code",
   "execution_count": 4,
   "id": "7bfd1d7e",
   "metadata": {},
   "outputs": [
    {
     "name": "stdout",
     "output_type": "stream",
     "text": [
      "tf.Tensor(404, shape=(), dtype=int32)\n",
      "404\n",
      "tf.Tensor(229, shape=(), dtype=int32)\n",
      "229\n",
      "tf.Tensor(137, shape=(), dtype=int32)\n",
      "137\n",
      "tf.Tensor(-79, shape=(), dtype=int32)\n",
      "-79\n",
      "tf.Tensor(288, shape=(), dtype=int32)\n",
      "288\n",
      "tf.Tensor(-93, shape=(), dtype=int32)\n",
      "-93\n",
      "tf.Tensor(498, shape=(), dtype=int32)\n",
      "498\n",
      "tf.Tensor(31, shape=(), dtype=int32)\n",
      "31\n",
      "tf.Tensor(-35, shape=(), dtype=int32)\n",
      "-35\n",
      "tf.Tensor(134, shape=(), dtype=int32)\n",
      "134\n"
     ]
    }
   ],
   "source": [
    "# Perulangan dari tf_dataset\n",
    "for i in tf_dataset:\n",
    "    # Jika ingin melakukan slice n elemen pada tf_dataset, lakukan tf_dataset.take(n)\n",
    "    print(i)\n",
    "    # Jika kita memprint i, yang akan tampil bukan nilanya langsung\n",
    "    print(i.numpy())\n",
    "    # Kita bisa memanggil fungsi numpy() untuk melakukan hal tersebut"
   ]
  },
  {
   "cell_type": "markdown",
   "id": "9affcb59",
   "metadata": {},
   "source": [
    "Hal yang akan kita lakukan pada tf_dataset yaitu kumpulan dari beberapa proses, yaitu filter angka yang lebih besar dari 0, normalisasi dengan membagi 10, lalu shuffle (mengacak)"
   ]
  },
  {
   "cell_type": "markdown",
   "id": "3cf58776",
   "metadata": {},
   "source": [
    "Filter"
   ]
  },
  {
   "cell_type": "code",
   "execution_count": 5,
   "id": "8e89ad24",
   "metadata": {},
   "outputs": [],
   "source": [
    "filter_ds= lambda x: x>0\n",
    "\n",
    "tf_dataset= tf_dataset.filter(filter_ds)"
   ]
  },
  {
   "cell_type": "code",
   "execution_count": 6,
   "id": "647bde55",
   "metadata": {},
   "outputs": [
    {
     "name": "stdout",
     "output_type": "stream",
     "text": [
      "404\n",
      "229\n",
      "137\n",
      "288\n",
      "498\n",
      "31\n",
      "134\n"
     ]
    }
   ],
   "source": [
    "for i in tf_dataset:\n",
    "    print(i.numpy())"
   ]
  },
  {
   "cell_type": "markdown",
   "id": "96d83d7f",
   "metadata": {},
   "source": [
    "Normalisasi"
   ]
  },
  {
   "cell_type": "code",
   "execution_count": 7,
   "id": "da4d0c2b",
   "metadata": {},
   "outputs": [
    {
     "name": "stdout",
     "output_type": "stream",
     "text": [
      "tf.Tensor(40.4, shape=(), dtype=float64)\n",
      "tf.Tensor(22.9, shape=(), dtype=float64)\n",
      "tf.Tensor(13.7, shape=(), dtype=float64)\n",
      "tf.Tensor(28.8, shape=(), dtype=float64)\n",
      "tf.Tensor(49.8, shape=(), dtype=float64)\n",
      "tf.Tensor(3.1, shape=(), dtype=float64)\n",
      "tf.Tensor(13.4, shape=(), dtype=float64)\n"
     ]
    }
   ],
   "source": [
    "tf_dataset= tf_dataset.map(lambda y: y/10)\n",
    "\n",
    "for i in tf_dataset:\n",
    "    print(i)"
   ]
  },
  {
   "cell_type": "markdown",
   "id": "d7c3a2b1",
   "metadata": {},
   "source": [
    "Shuffle"
   ]
  },
  {
   "cell_type": "code",
   "execution_count": 8,
   "id": "1bf37619",
   "metadata": {},
   "outputs": [
    {
     "name": "stdout",
     "output_type": "stream",
     "text": [
      "22.9\n",
      "40.4\n",
      "13.7\n",
      "49.8\n",
      "28.8\n",
      "13.4\n",
      "3.1\n"
     ]
    }
   ],
   "source": [
    "tf_dataset= tf_dataset.shuffle(2)\n",
    "\n",
    "for i in tf_dataset:\n",
    "    print(i.numpy())"
   ]
  },
  {
   "cell_type": "markdown",
   "id": "44ba3ba8",
   "metadata": {},
   "source": [
    "Semua proses diatas bisa dan disarankan dirangkum seperti ini"
   ]
  },
  {
   "cell_type": "code",
   "execution_count": 9,
   "id": "90b52204",
   "metadata": {},
   "outputs": [
    {
     "name": "stdout",
     "output_type": "stream",
     "text": [
      "40.4\n",
      "22.9\n",
      "13.7\n",
      "28.8\n",
      "49.8\n",
      "3.1\n",
      "13.4\n"
     ]
    }
   ],
   "source": [
    "tf_dataset_2= tf.data.Dataset.from_tensor_slices(random_arr)\n",
    "\n",
    "tf_dataset_2= tf_dataset_2.filter(filter_ds).map(lambda x: x/10).shuffle(2)\n",
    "\n",
    "for i in tf_dataset_2:\n",
    "    print(i.numpy())"
   ]
  },
  {
   "cell_type": "markdown",
   "id": "de6de11f",
   "metadata": {},
   "source": [
    "#### Another case"
   ]
  },
  {
   "cell_type": "markdown",
   "id": "84270c72",
   "metadata": {},
   "source": [
    "Misal pada kasus dataset review (text)"
   ]
  },
  {
   "cell_type": "markdown",
   "id": "711dddd6",
   "metadata": {},
   "source": [
    "Membaca data"
   ]
  },
  {
   "cell_type": "code",
   "execution_count": 10,
   "id": "096a6167",
   "metadata": {},
   "outputs": [
    {
     "data": {
      "text/plain": [
       "tensorflow.python.data.ops.dataset_ops.TensorSliceDataset"
      ]
     },
     "execution_count": 10,
     "metadata": {},
     "output_type": "execute_result"
    }
   ],
   "source": [
    "review_ds= tf.data.Dataset.list_files('Dataset/reviews/*/*', shuffle=False)\n",
    "\n",
    "type(review_ds)"
   ]
  },
  {
   "cell_type": "markdown",
   "id": "acd54ec5",
   "metadata": {},
   "source": [
    "Menampilkan data sekaligus membuat fungsi untuk menampilkan data"
   ]
  },
  {
   "cell_type": "code",
   "execution_count": 11,
   "id": "3a135279",
   "metadata": {},
   "outputs": [
    {
     "name": "stdout",
     "output_type": "stream",
     "text": [
      "b'Dataset\\\\reviews\\\\negative\\\\neg_1.txt'\n",
      "b'Dataset\\\\reviews\\\\negative\\\\neg_2.txt'\n",
      "b'Dataset\\\\reviews\\\\negative\\\\neg_3.txt'\n",
      "b'Dataset\\\\reviews\\\\positive\\\\pos_1.txt'\n",
      "b'Dataset\\\\reviews\\\\positive\\\\pos_2.txt'\n",
      "b'Dataset\\\\reviews\\\\positive\\\\pos_3.txt'\n"
     ]
    }
   ],
   "source": [
    "def show():\n",
    "    global review_ds\n",
    "    for i in review_ds:\n",
    "        print(i.numpy())\n",
    "        \n",
    "show()"
   ]
  },
  {
   "cell_type": "markdown",
   "id": "ce73cd7f",
   "metadata": {},
   "source": [
    "Bisa kita lihat yang diprint adalah path dari file"
   ]
  },
  {
   "cell_type": "markdown",
   "id": "ea0a2a25",
   "metadata": {},
   "source": [
    "Untuk melihat isi file kita bisa menggunakan method seperti di bawah"
   ]
  },
  {
   "cell_type": "code",
   "execution_count": 12,
   "id": "c2c57a27",
   "metadata": {},
   "outputs": [
    {
     "data": {
      "text/plain": [
       "<tf.Tensor: shape=(), dtype=string, numpy=b\"This show was an amazing, fresh & innovative idea in the 70's when it first aired. The first 7 or 8 years were brilliant, but things dropped off after that. By 1990, the show was not really funny anymore, and it's continued its decline further to the complete waste of time it is today.<br /><br />It's truly disgraceful how far this show has fallen. The writing is painfully bad, the performances are almost as bad - if not for the mildly entertaining respite of the guest-hosts, this show probably wouldn't still be on the air. I find it so hard to believe that the same creator that hand-selected the original cast also chose the band of hacks that followed. How can one recognize such brilliance and then see fit to replace it with such mediocrity? I felt I must give 2 stars out of respect for the original cast that made this show such a huge success. As it is now, the show is just awful. I can't believe it's still on the air.\\n\">"
      ]
     },
     "execution_count": 12,
     "metadata": {},
     "output_type": "execute_result"
    }
   ],
   "source": [
    "tf.io.read_file(b'Dataset\\\\reviews\\\\negative\\\\neg_2.txt')"
   ]
  },
  {
   "cell_type": "markdown",
   "id": "489aa1cb",
   "metadata": {},
   "source": [
    "Selanjutnya kita akan melakukan shuffle, filter file random, dan mendapatkan class"
   ]
  },
  {
   "cell_type": "markdown",
   "id": "abace4ff",
   "metadata": {},
   "source": [
    "Shuffle"
   ]
  },
  {
   "cell_type": "code",
   "execution_count": 13,
   "id": "3ba7b3af",
   "metadata": {},
   "outputs": [
    {
     "name": "stdout",
     "output_type": "stream",
     "text": [
      "b'Dataset\\\\reviews\\\\positive\\\\pos_2.txt'\n",
      "b'Dataset\\\\reviews\\\\negative\\\\neg_3.txt'\n",
      "b'Dataset\\\\reviews\\\\positive\\\\pos_3.txt'\n",
      "b'Dataset\\\\reviews\\\\negative\\\\neg_1.txt'\n",
      "b'Dataset\\\\reviews\\\\positive\\\\pos_1.txt'\n",
      "b'Dataset\\\\reviews\\\\negative\\\\neg_2.txt'\n"
     ]
    }
   ],
   "source": [
    "review_ds= review_ds.shuffle(5)\n",
    "\n",
    "show()"
   ]
  },
  {
   "cell_type": "markdown",
   "id": "1e3e1ab4",
   "metadata": {},
   "source": [
    "Mendapatkan/mengekstrak text, sekaligus mendapatkan label/class nya berdasarkan direktorinya"
   ]
  },
  {
   "cell_type": "code",
   "execution_count": 14,
   "id": "4af16468",
   "metadata": {},
   "outputs": [],
   "source": [
    "def get_text_and_class(file_path):\n",
    "    # Kalau pake cara string biasa akan error\n",
    "    label= tf.strings.split(file_path, '\\\\')[-2]\n",
    "    text= tf.io.read_file(file_path)\n",
    "    \n",
    "    return text, label"
   ]
  },
  {
   "cell_type": "markdown",
   "id": "1b4e4f6b",
   "metadata": {},
   "source": [
    "Melakukan mapping pada review ds dengan fungsi di atas"
   ]
  },
  {
   "cell_type": "code",
   "execution_count": 15,
   "id": "9fff3d6c",
   "metadata": {
    "scrolled": false
   },
   "outputs": [],
   "source": [
    "review_ds= review_ds.map(get_text_and_class)"
   ]
  },
  {
   "cell_type": "code",
   "execution_count": 16,
   "id": "ae2698d2",
   "metadata": {},
   "outputs": [
    {
     "name": "stdout",
     "output_type": "stream",
     "text": [
      "(<tf.Tensor: shape=(), dtype=string, numpy=b\"This show was an amazing, fresh & innovative idea in the 70's when it first aired. The first 7 or 8 years were brilliant, but things dropped off after that. By 1990, the show was not really funny anymore, and it's continued its decline further to the complete waste of time it is today.<br /><br />It's truly disgraceful how far this show has fallen. The writing is painfully bad, the performances are almost as bad - if not for the mildly entertaining respite of the guest-hosts, this show probably wouldn't still be on the air. I find it so hard to believe that the same creator that hand-selected the original cast also chose the band of hacks that followed. How can one recognize such brilliance and then see fit to replace it with such mediocrity? I felt I must give 2 stars out of respect for the original cast that made this show such a huge success. As it is now, the show is just awful. I can't believe it's still on the air.\\n\">, <tf.Tensor: shape=(), dtype=string, numpy=b'negative'>)\n"
     ]
    }
   ],
   "source": [
    "for i in review_ds.take(1):\n",
    "    print(i)"
   ]
  },
  {
   "cell_type": "markdown",
   "id": "516c0f40",
   "metadata": {},
   "source": [
    "Filter file yang tidak mempunyai isi, terdapat 2 kondisi yang bisa kita gunakan"
   ]
  },
  {
   "cell_type": "code",
   "execution_count": 17,
   "id": "b8027639",
   "metadata": {},
   "outputs": [
    {
     "name": "stdout",
     "output_type": "stream",
     "text": [
      "749\n",
      "False\n",
      "1762\n",
      "False\n",
      "999\n",
      "False\n",
      "0\n",
      "True\n",
      "0\n",
      "True\n",
      "935\n",
      "False\n"
     ]
    }
   ],
   "source": [
    "for i in review_ds:\n",
    "    print(len(i[0].numpy()))\n",
    "    print((i[0]=='').numpy())"
   ]
  },
  {
   "cell_type": "markdown",
   "id": "65ad2713",
   "metadata": {},
   "source": [
    "Melakukan filter, kondisi yang kita pilih yaitu text yang merupakan string kosong"
   ]
  },
  {
   "cell_type": "code",
   "execution_count": 18,
   "id": "b38b3e0e",
   "metadata": {},
   "outputs": [
    {
     "name": "stdout",
     "output_type": "stream",
     "text": [
      "tf.Tensor(b\"This show was an amazing, fresh & innovative idea in the 70's when it first aired. The first 7 or 8 years were brilliant, but things dropped off after that. By 1990, the show was not really funny anymore, and it's continued its decline further to the complete waste of time it is today.<br /><br />It's truly disgraceful how far this show has fallen. The writing is painfully bad, the performances are almost as bad - if not for the mildly entertaining respite of the guest-hosts, this show probably wouldn't still be on the air. I find it so hard to believe that the same creator that hand-selected the original cast also chose the band of hacks that followed. How can one recognize such brilliance and then see fit to replace it with such mediocrity? I felt I must give 2 stars out of respect for the original cast that made this show such a huge success. As it is now, the show is just awful. I can't believe it's still on the air.\\n\", shape=(), dtype=string)\n",
      "tf.Tensor(b\"One of the other reviewers has mentioned that after watching just 1 Oz episode you'll be hooked. They are right, as this is exactly what happened with me.<br /><br />The first thing that struck me about Oz was its brutality and unflinching scenes of violence, which set in right from the word GO. Trust me, this is not a show for the faint hearted or timid. This show pulls no punches with regards to drugs, sex or violence. Its is hardcore, in the classic use of the word.<br /><br />It is called OZ as that is the nickname given to the Oswald Maximum Security State Penitentary. It focuses mainly on Emerald City, an experimental section of the prison where all the cells have glass fronts and face inwards, so privacy is not high on the agenda. Em City is home to many..Aryans, Muslims, gangstas, Latinos, Christians, Italians, Irish and more....so scuffles, death stares, dodgy dealings and shady agreements are never far away.<br /><br />I would say the main appeal of the show is due to the fact that it goes where other shows wouldn't dare. Forget pretty pictures painted for mainstream audiences, forget charm, forget romance...OZ doesn't mess around. The first episode I ever saw struck me as so nasty it was surreal, I couldn't say I was ready for it, but as I watched more, I developed a taste for Oz, and got accustomed to the high levels of graphic violence. Not just violence, but injustice (crooked guards who'll be sold out for a nickel, inmates who'll kill on order and get away with it, well mannered, middle class inmates being turned into prison bitches due to their lack of street skills or prison experience) Watching Oz, you may become comfortable with what is uncomfortable viewing....thats if you can get in touch with your darker side.\\n\", shape=(), dtype=string)\n"
     ]
    }
   ],
   "source": [
    "review_filter= lambda x, y: x!=''\n",
    "review_ds= review_ds.filter(review_filter)\n",
    "\n",
    "for i in review_ds.take(2):\n",
    "    print(i[0])"
   ]
  },
  {
   "cell_type": "markdown",
   "id": "8f394312",
   "metadata": {},
   "source": [
    "Dan sekarang kita menerapkan semua proses di atas dalam satu baris kode"
   ]
  },
  {
   "cell_type": "code",
   "execution_count": 19,
   "id": "8f4ac1af",
   "metadata": {},
   "outputs": [
    {
     "name": "stdout",
     "output_type": "stream",
     "text": [
      "(<tf.Tensor: shape=(), dtype=string, numpy=b\"Basically there's a family where a little boy (Jake) thinks there's a zombie in his closet & his parents are fighting all the time.<br /><br />This movie is slower than a soap opera... and suddenly, Jake decides to become Rambo and kill the zombie.<br /><br />OK, first of all when you're going to make a film you must Decide if its a thriller or a drama! As a drama the movie is watchable. Parents are divorcing & arguing like in real life. And then we have Jake with his closet which totally ruins all the film! I expected to see a BOOGEYMAN similar movie, and instead i watched a drama with some meaningless thriller spots.<br /><br />3 out of 10 just for the well playing parents & descent dialogs. As for the shots with Jake: just ignore them.\\n\">, <tf.Tensor: shape=(), dtype=string, numpy=b'negative'>)\n",
      "(<tf.Tensor: shape=(), dtype=string, numpy=b\"One of the other reviewers has mentioned that after watching just 1 Oz episode you'll be hooked. They are right, as this is exactly what happened with me.<br /><br />The first thing that struck me about Oz was its brutality and unflinching scenes of violence, which set in right from the word GO. Trust me, this is not a show for the faint hearted or timid. This show pulls no punches with regards to drugs, sex or violence. Its is hardcore, in the classic use of the word.<br /><br />It is called OZ as that is the nickname given to the Oswald Maximum Security State Penitentary. It focuses mainly on Emerald City, an experimental section of the prison where all the cells have glass fronts and face inwards, so privacy is not high on the agenda. Em City is home to many..Aryans, Muslims, gangstas, Latinos, Christians, Italians, Irish and more....so scuffles, death stares, dodgy dealings and shady agreements are never far away.<br /><br />I would say the main appeal of the show is due to the fact that it goes where other shows wouldn't dare. Forget pretty pictures painted for mainstream audiences, forget charm, forget romance...OZ doesn't mess around. The first episode I ever saw struck me as so nasty it was surreal, I couldn't say I was ready for it, but as I watched more, I developed a taste for Oz, and got accustomed to the high levels of graphic violence. Not just violence, but injustice (crooked guards who'll be sold out for a nickel, inmates who'll kill on order and get away with it, well mannered, middle class inmates being turned into prison bitches due to their lack of street skills or prison experience) Watching Oz, you may become comfortable with what is uncomfortable viewing....thats if you can get in touch with your darker side.\\n\">, <tf.Tensor: shape=(), dtype=string, numpy=b'positive'>)\n"
     ]
    }
   ],
   "source": [
    "review_ds_2= tf.data.Dataset.list_files('Dataset/reviews/*/*', shuffle=False)\n",
    "\n",
    "review_ds_2= review_ds_2.shuffle(5).map(get_text_and_class).filter(review_filter)\n",
    "\n",
    "for i in review_ds_2.take(2):\n",
    "    print(i)"
   ]
  }
 ],
 "metadata": {
  "kernelspec": {
   "display_name": "Python 3 (ipykernel)",
   "language": "python",
   "name": "python3"
  },
  "language_info": {
   "codemirror_mode": {
    "name": "ipython",
    "version": 3
   },
   "file_extension": ".py",
   "mimetype": "text/x-python",
   "name": "python",
   "nbconvert_exporter": "python",
   "pygments_lexer": "ipython3",
   "version": "3.7.7"
  }
 },
 "nbformat": 4,
 "nbformat_minor": 5
}
