{
  "nbformat": 4,
  "nbformat_minor": 0,
  "metadata": {
    "colab": {
      "name": "customizing_model_fit.ipynb",
      "provenance": []
    },
    "kernelspec": {
      "name": "python3",
      "display_name": "Python 3"
    },
    "language_info": {
      "name": "python"
    },
    "accelerator": "GPU",
    "gpuClass": "standard",
    "widgets": {
      "application/vnd.jupyter.widget-state+json": {
        "fb3b413ffbbb42efa644ecea2aa5425e": {
          "model_module": "@jupyter-widgets/controls",
          "model_name": "HBoxModel",
          "model_module_version": "1.5.0",
          "state": {
            "_dom_classes": [],
            "_model_module": "@jupyter-widgets/controls",
            "_model_module_version": "1.5.0",
            "_model_name": "HBoxModel",
            "_view_count": null,
            "_view_module": "@jupyter-widgets/controls",
            "_view_module_version": "1.5.0",
            "_view_name": "HBoxView",
            "box_style": "",
            "children": [
              "IPY_MODEL_a505b754c4a54b6c81bf77203c563ad3",
              "IPY_MODEL_77111b057c4b4617ab3e101941db6bc0",
              "IPY_MODEL_337fe7bcf5a24506a071f38a62ce218e"
            ],
            "layout": "IPY_MODEL_32c2ba624be543d99b3bae88b7f0ead5"
          }
        },
        "a505b754c4a54b6c81bf77203c563ad3": {
          "model_module": "@jupyter-widgets/controls",
          "model_name": "HTMLModel",
          "model_module_version": "1.5.0",
          "state": {
            "_dom_classes": [],
            "_model_module": "@jupyter-widgets/controls",
            "_model_module_version": "1.5.0",
            "_model_name": "HTMLModel",
            "_view_count": null,
            "_view_module": "@jupyter-widgets/controls",
            "_view_module_version": "1.5.0",
            "_view_name": "HTMLView",
            "description": "",
            "description_tooltip": null,
            "layout": "IPY_MODEL_6bee2449b70945f4894135b55716a1a9",
            "placeholder": "​",
            "style": "IPY_MODEL_2a66da44fa21455a915b6b9dbe37c9f9",
            "value": "Dl Completed...: 100%"
          }
        },
        "77111b057c4b4617ab3e101941db6bc0": {
          "model_module": "@jupyter-widgets/controls",
          "model_name": "FloatProgressModel",
          "model_module_version": "1.5.0",
          "state": {
            "_dom_classes": [],
            "_model_module": "@jupyter-widgets/controls",
            "_model_module_version": "1.5.0",
            "_model_name": "FloatProgressModel",
            "_view_count": null,
            "_view_module": "@jupyter-widgets/controls",
            "_view_module_version": "1.5.0",
            "_view_name": "ProgressView",
            "bar_style": "success",
            "description": "",
            "description_tooltip": null,
            "layout": "IPY_MODEL_78e32cba18314490bc20961ac932bf1a",
            "max": 4,
            "min": 0,
            "orientation": "horizontal",
            "style": "IPY_MODEL_f00135df058245268c942cf8182c8e66",
            "value": 4
          }
        },
        "337fe7bcf5a24506a071f38a62ce218e": {
          "model_module": "@jupyter-widgets/controls",
          "model_name": "HTMLModel",
          "model_module_version": "1.5.0",
          "state": {
            "_dom_classes": [],
            "_model_module": "@jupyter-widgets/controls",
            "_model_module_version": "1.5.0",
            "_model_name": "HTMLModel",
            "_view_count": null,
            "_view_module": "@jupyter-widgets/controls",
            "_view_module_version": "1.5.0",
            "_view_name": "HTMLView",
            "description": "",
            "description_tooltip": null,
            "layout": "IPY_MODEL_198132a8e7a3494d82d32a5753f65c1c",
            "placeholder": "​",
            "style": "IPY_MODEL_c4eb777a826d4f5582eee5f5813ab5c0",
            "value": " 4/4 [00:03&lt;00:00,  1.32s/ file]"
          }
        },
        "32c2ba624be543d99b3bae88b7f0ead5": {
          "model_module": "@jupyter-widgets/base",
          "model_name": "LayoutModel",
          "model_module_version": "1.2.0",
          "state": {
            "_model_module": "@jupyter-widgets/base",
            "_model_module_version": "1.2.0",
            "_model_name": "LayoutModel",
            "_view_count": null,
            "_view_module": "@jupyter-widgets/base",
            "_view_module_version": "1.2.0",
            "_view_name": "LayoutView",
            "align_content": null,
            "align_items": null,
            "align_self": null,
            "border": null,
            "bottom": null,
            "display": null,
            "flex": null,
            "flex_flow": null,
            "grid_area": null,
            "grid_auto_columns": null,
            "grid_auto_flow": null,
            "grid_auto_rows": null,
            "grid_column": null,
            "grid_gap": null,
            "grid_row": null,
            "grid_template_areas": null,
            "grid_template_columns": null,
            "grid_template_rows": null,
            "height": null,
            "justify_content": null,
            "justify_items": null,
            "left": null,
            "margin": null,
            "max_height": null,
            "max_width": null,
            "min_height": null,
            "min_width": null,
            "object_fit": null,
            "object_position": null,
            "order": null,
            "overflow": null,
            "overflow_x": null,
            "overflow_y": null,
            "padding": null,
            "right": null,
            "top": null,
            "visibility": null,
            "width": null
          }
        },
        "6bee2449b70945f4894135b55716a1a9": {
          "model_module": "@jupyter-widgets/base",
          "model_name": "LayoutModel",
          "model_module_version": "1.2.0",
          "state": {
            "_model_module": "@jupyter-widgets/base",
            "_model_module_version": "1.2.0",
            "_model_name": "LayoutModel",
            "_view_count": null,
            "_view_module": "@jupyter-widgets/base",
            "_view_module_version": "1.2.0",
            "_view_name": "LayoutView",
            "align_content": null,
            "align_items": null,
            "align_self": null,
            "border": null,
            "bottom": null,
            "display": null,
            "flex": null,
            "flex_flow": null,
            "grid_area": null,
            "grid_auto_columns": null,
            "grid_auto_flow": null,
            "grid_auto_rows": null,
            "grid_column": null,
            "grid_gap": null,
            "grid_row": null,
            "grid_template_areas": null,
            "grid_template_columns": null,
            "grid_template_rows": null,
            "height": null,
            "justify_content": null,
            "justify_items": null,
            "left": null,
            "margin": null,
            "max_height": null,
            "max_width": null,
            "min_height": null,
            "min_width": null,
            "object_fit": null,
            "object_position": null,
            "order": null,
            "overflow": null,
            "overflow_x": null,
            "overflow_y": null,
            "padding": null,
            "right": null,
            "top": null,
            "visibility": null,
            "width": null
          }
        },
        "2a66da44fa21455a915b6b9dbe37c9f9": {
          "model_module": "@jupyter-widgets/controls",
          "model_name": "DescriptionStyleModel",
          "model_module_version": "1.5.0",
          "state": {
            "_model_module": "@jupyter-widgets/controls",
            "_model_module_version": "1.5.0",
            "_model_name": "DescriptionStyleModel",
            "_view_count": null,
            "_view_module": "@jupyter-widgets/base",
            "_view_module_version": "1.2.0",
            "_view_name": "StyleView",
            "description_width": ""
          }
        },
        "78e32cba18314490bc20961ac932bf1a": {
          "model_module": "@jupyter-widgets/base",
          "model_name": "LayoutModel",
          "model_module_version": "1.2.0",
          "state": {
            "_model_module": "@jupyter-widgets/base",
            "_model_module_version": "1.2.0",
            "_model_name": "LayoutModel",
            "_view_count": null,
            "_view_module": "@jupyter-widgets/base",
            "_view_module_version": "1.2.0",
            "_view_name": "LayoutView",
            "align_content": null,
            "align_items": null,
            "align_self": null,
            "border": null,
            "bottom": null,
            "display": null,
            "flex": null,
            "flex_flow": null,
            "grid_area": null,
            "grid_auto_columns": null,
            "grid_auto_flow": null,
            "grid_auto_rows": null,
            "grid_column": null,
            "grid_gap": null,
            "grid_row": null,
            "grid_template_areas": null,
            "grid_template_columns": null,
            "grid_template_rows": null,
            "height": null,
            "justify_content": null,
            "justify_items": null,
            "left": null,
            "margin": null,
            "max_height": null,
            "max_width": null,
            "min_height": null,
            "min_width": null,
            "object_fit": null,
            "object_position": null,
            "order": null,
            "overflow": null,
            "overflow_x": null,
            "overflow_y": null,
            "padding": null,
            "right": null,
            "top": null,
            "visibility": null,
            "width": null
          }
        },
        "f00135df058245268c942cf8182c8e66": {
          "model_module": "@jupyter-widgets/controls",
          "model_name": "ProgressStyleModel",
          "model_module_version": "1.5.0",
          "state": {
            "_model_module": "@jupyter-widgets/controls",
            "_model_module_version": "1.5.0",
            "_model_name": "ProgressStyleModel",
            "_view_count": null,
            "_view_module": "@jupyter-widgets/base",
            "_view_module_version": "1.2.0",
            "_view_name": "StyleView",
            "bar_color": null,
            "description_width": ""
          }
        },
        "198132a8e7a3494d82d32a5753f65c1c": {
          "model_module": "@jupyter-widgets/base",
          "model_name": "LayoutModel",
          "model_module_version": "1.2.0",
          "state": {
            "_model_module": "@jupyter-widgets/base",
            "_model_module_version": "1.2.0",
            "_model_name": "LayoutModel",
            "_view_count": null,
            "_view_module": "@jupyter-widgets/base",
            "_view_module_version": "1.2.0",
            "_view_name": "LayoutView",
            "align_content": null,
            "align_items": null,
            "align_self": null,
            "border": null,
            "bottom": null,
            "display": null,
            "flex": null,
            "flex_flow": null,
            "grid_area": null,
            "grid_auto_columns": null,
            "grid_auto_flow": null,
            "grid_auto_rows": null,
            "grid_column": null,
            "grid_gap": null,
            "grid_row": null,
            "grid_template_areas": null,
            "grid_template_columns": null,
            "grid_template_rows": null,
            "height": null,
            "justify_content": null,
            "justify_items": null,
            "left": null,
            "margin": null,
            "max_height": null,
            "max_width": null,
            "min_height": null,
            "min_width": null,
            "object_fit": null,
            "object_position": null,
            "order": null,
            "overflow": null,
            "overflow_x": null,
            "overflow_y": null,
            "padding": null,
            "right": null,
            "top": null,
            "visibility": null,
            "width": null
          }
        },
        "c4eb777a826d4f5582eee5f5813ab5c0": {
          "model_module": "@jupyter-widgets/controls",
          "model_name": "DescriptionStyleModel",
          "model_module_version": "1.5.0",
          "state": {
            "_model_module": "@jupyter-widgets/controls",
            "_model_module_version": "1.5.0",
            "_model_name": "DescriptionStyleModel",
            "_view_count": null,
            "_view_module": "@jupyter-widgets/base",
            "_view_module_version": "1.2.0",
            "_view_name": "StyleView",
            "description_width": ""
          }
        }
      }
    }
  },
  "cells": [
    {
      "cell_type": "code",
      "execution_count": 1,
      "metadata": {
        "id": "4G4TKlY_NAtI"
      },
      "outputs": [],
      "source": [
        "import tensorflow as tf\n",
        "from tensorflow import keras\n",
        "import tensorflow_datasets as tfds\n",
        "from tensorflow.keras import layers\n",
        "\n",
        "from matplotlib import pyplot as plt"
      ]
    },
    {
      "cell_type": "code",
      "source": [
        "BATCH_SIZE= 64\n",
        "AUTOTUNE= tf.data.experimental.AUTOTUNE"
      ],
      "metadata": {
        "id": "3mRizL4zNcGN"
      },
      "execution_count": 2,
      "outputs": []
    },
    {
      "cell_type": "code",
      "source": [
        "(ds_train, ds_test), ds_info= tfds.load(\n",
        "    'mnist',\n",
        "    split=['train', 'test'],\n",
        "    as_supervised= True,\n",
        "    shuffle_files= True,\n",
        "    batch_size= BATCH_SIZE,\n",
        "    with_info= True\n",
        ")\n",
        "\n",
        "ds_info"
      ],
      "metadata": {
        "colab": {
          "base_uri": "https://localhost:8080/",
          "height": 621,
          "referenced_widgets": [
            "fb3b413ffbbb42efa644ecea2aa5425e",
            "a505b754c4a54b6c81bf77203c563ad3",
            "77111b057c4b4617ab3e101941db6bc0",
            "337fe7bcf5a24506a071f38a62ce218e",
            "32c2ba624be543d99b3bae88b7f0ead5",
            "6bee2449b70945f4894135b55716a1a9",
            "2a66da44fa21455a915b6b9dbe37c9f9",
            "78e32cba18314490bc20961ac932bf1a",
            "f00135df058245268c942cf8182c8e66",
            "198132a8e7a3494d82d32a5753f65c1c",
            "c4eb777a826d4f5582eee5f5813ab5c0"
          ]
        },
        "id": "zrATcKMFNWie",
        "outputId": "49414012-d75a-4ed1-b5f6-33602720f472"
      },
      "execution_count": 3,
      "outputs": [
        {
          "output_type": "stream",
          "name": "stdout",
          "text": [
            "\u001b[1mDownloading and preparing dataset mnist/3.0.1 (download: 11.06 MiB, generated: 21.00 MiB, total: 32.06 MiB) to /root/tensorflow_datasets/mnist/3.0.1...\u001b[0m\n"
          ]
        },
        {
          "output_type": "stream",
          "name": "stderr",
          "text": [
            "WARNING:absl:Dataset mnist is hosted on GCS. It will automatically be downloaded to your\n",
            "local data directory. If you'd instead prefer to read directly from our public\n",
            "GCS bucket (recommended if you're running on GCP), you can instead pass\n",
            "`try_gcs=True` to `tfds.load` or set `data_dir=gs://tfds-data/datasets`.\n",
            "\n"
          ]
        },
        {
          "output_type": "display_data",
          "data": {
            "text/plain": [
              "Dl Completed...:   0%|          | 0/4 [00:00<?, ? file/s]"
            ],
            "application/vnd.jupyter.widget-view+json": {
              "version_major": 2,
              "version_minor": 0,
              "model_id": "fb3b413ffbbb42efa644ecea2aa5425e"
            }
          },
          "metadata": {}
        },
        {
          "output_type": "stream",
          "name": "stdout",
          "text": [
            "\n",
            "\u001b[1mDataset mnist downloaded and prepared to /root/tensorflow_datasets/mnist/3.0.1. Subsequent calls will reuse this data.\u001b[0m\n"
          ]
        },
        {
          "output_type": "execute_result",
          "data": {
            "text/plain": [
              "tfds.core.DatasetInfo(\n",
              "    name='mnist',\n",
              "    version=3.0.1,\n",
              "    description='The MNIST database of handwritten digits.',\n",
              "    homepage='http://yann.lecun.com/exdb/mnist/',\n",
              "    features=FeaturesDict({\n",
              "        'image': Image(shape=(28, 28, 1), dtype=tf.uint8),\n",
              "        'label': ClassLabel(shape=(), dtype=tf.int64, num_classes=10),\n",
              "    }),\n",
              "    total_num_examples=70000,\n",
              "    splits={\n",
              "        'test': 10000,\n",
              "        'train': 60000,\n",
              "    },\n",
              "    supervised_keys=('image', 'label'),\n",
              "    citation=\"\"\"@article{lecun2010mnist,\n",
              "      title={MNIST handwritten digit database},\n",
              "      author={LeCun, Yann and Cortes, Corinna and Burges, CJ},\n",
              "      journal={ATT Labs [Online]. Available: http://yann.lecun.com/exdb/mnist},\n",
              "      volume={2},\n",
              "      year={2010}\n",
              "    }\"\"\",\n",
              "    redistribution_info=,\n",
              ")"
            ]
          },
          "metadata": {},
          "execution_count": 3
        }
      ]
    },
    {
      "cell_type": "code",
      "source": [
        "def preprocess(img, label):\n",
        "    img= tf.cast(img, tf.float32)/255.0\n",
        "\n",
        "    return img, label"
      ],
      "metadata": {
        "id": "k92Jp-iRP4fh"
      },
      "execution_count": 4,
      "outputs": []
    },
    {
      "cell_type": "code",
      "source": [
        "ds_train= ds_train.map(preprocess, num_parallel_calls=AUTOTUNE).cache().prefetch(AUTOTUNE)\n",
        "ds_test= ds_test.map(preprocess, num_parallel_calls=AUTOTUNE).cache().prefetch(AUTOTUNE)"
      ],
      "metadata": {
        "id": "5_HCE1KxQXmI"
      },
      "execution_count": 5,
      "outputs": []
    },
    {
      "cell_type": "code",
      "source": [
        "model = keras.Sequential(\n",
        "    [\n",
        "        layers.Input(shape=(28, 28, 1)),\n",
        "        layers.Conv2D(64, (3, 3), padding=\"same\"),\n",
        "        layers.ReLU(),\n",
        "        layers.Conv2D(128, (3, 3), padding=\"same\"),\n",
        "        layers.ReLU(),\n",
        "        layers.Flatten(),\n",
        "        layers.Dense(10),\n",
        "    ],\n",
        "    name=\"model\",\n",
        ")"
      ],
      "metadata": {
        "id": "9DaZYnEyPmcN"
      },
      "execution_count": 6,
      "outputs": []
    },
    {
      "cell_type": "code",
      "source": [
        "class CustomFit(keras.Model):\n",
        "    def __init__(self, model):\n",
        "        super(CustomFit, self).__init__()\n",
        "        self.model = model\n",
        "        self.acc_metric = keras.metrics.SparseCategoricalAccuracy(name=\"accuracy\")\n",
        "\n",
        "    # Method saat memanggil compile, di sini kita menginisialisasi optimizer dan loss\n",
        "    def compile(self, optimizer, loss):\n",
        "        super(CustomFit, self).compile()\n",
        "        self.optimizer = optimizer\n",
        "        self.loss = loss\n",
        "\n",
        "    # Method untuk fit\n",
        "    def train_step(self, data):\n",
        "        # Mengunpack x dan y, x merupakan atribut sedangkan y merupakan label\n",
        "        x, y = data\n",
        "\n",
        "        # Di dalam tf.GradientTape() di bawah, apapun yang di-watch() ataupun training=True \n",
        "        # Akan disimpan pada self.trainable_variables, yang nantinya akan dilakukan gradient descent padanya\n",
        "        with tf.GradientTape() as tape:\n",
        "            # Memprediksi y, di sini kita menyetel training=True karena \n",
        "            # Di sini, y_pred akan ditampung pada self.trainable_variables\n",
        "            y_pred = self.model(x, training=True)\n",
        "\n",
        "            # Menghitung loss antara y dengan y_pred\n",
        "            loss = self.loss(y, y_pred)\n",
        "\n",
        "        # Mendapatkan apa saja variabel training\n",
        "        training_vars = self.trainable_variables\n",
        "        print(training_vars)\n",
        "\n",
        "        # Melakukan gradient descent pada variabel training\n",
        "        gradients = tape.gradient(loss, training_vars)\n",
        "\n",
        "        # Step dengan optimizer\n",
        "        self.optimizer.apply_gradients(zip(gradients, training_vars))\n",
        "        self.acc_metric.update_state(y, y_pred)\n",
        "\n",
        "        # Kita akan me-return loss dan akurasi, dan bahkan bisa mereturn apapun sesuka kita\n",
        "        return {\"loss\": loss, \"accuracy\": self.acc_metric.result()}\n",
        "\n",
        "    # Method saat kita memanggil fungsi evaluate()\n",
        "    def test_step(self, data):\n",
        "        x, y = data\n",
        "        \n",
        "        y_pred = self.model(x, training=False)\n",
        "        \n",
        "        loss = self.loss(y, y_pred)\n",
        "\n",
        "        # Update metrik\n",
        "        self.acc_metric.update_state(y, y_pred)\n",
        "\n",
        "        # Misal kita ingin menambahkan satu variabel lagi pada output dari proses evaluate\n",
        "        return {\"loss\": loss, \"accuracy\": self.acc_metric.result(), \"test\":69420}"
      ],
      "metadata": {
        "id": "sI61_dKPQmkl"
      },
      "execution_count": 20,
      "outputs": []
    },
    {
      "cell_type": "code",
      "source": [
        "custom_model= CustomFit(model)"
      ],
      "metadata": {
        "id": "B-s3cSFGSgAB"
      },
      "execution_count": 21,
      "outputs": []
    },
    {
      "cell_type": "code",
      "source": [
        "custom_model.compile(\n",
        "    optimizer=keras.optimizers.Adam(),\n",
        "    loss=keras.losses.SparseCategoricalCrossentropy(from_logits=True),\n",
        ")"
      ],
      "metadata": {
        "id": "9-AKe4IdSuaA"
      },
      "execution_count": 23,
      "outputs": []
    },
    {
      "cell_type": "code",
      "source": [
        "custom_model.fit(ds_train, epochs=3)"
      ],
      "metadata": {
        "colab": {
          "base_uri": "https://localhost:8080/"
        },
        "id": "-iYKL1ypTFqc",
        "outputId": "bd3b1398-6232-4db7-fe4b-a69844c46cdc"
      },
      "execution_count": 24,
      "outputs": [
        {
          "output_type": "stream",
          "name": "stdout",
          "text": [
            "Epoch 1/3\n",
            "[<tf.Variable 'conv2d/kernel:0' shape=(3, 3, 1, 64) dtype=float32>, <tf.Variable 'conv2d/bias:0' shape=(64,) dtype=float32>, <tf.Variable 'conv2d_1/kernel:0' shape=(3, 3, 64, 128) dtype=float32>, <tf.Variable 'conv2d_1/bias:0' shape=(128,) dtype=float32>, <tf.Variable 'dense/kernel:0' shape=(100352, 10) dtype=float32>, <tf.Variable 'dense/bias:0' shape=(10,) dtype=float32>]\n",
            "[<tf.Variable 'conv2d/kernel:0' shape=(3, 3, 1, 64) dtype=float32>, <tf.Variable 'conv2d/bias:0' shape=(64,) dtype=float32>, <tf.Variable 'conv2d_1/kernel:0' shape=(3, 3, 64, 128) dtype=float32>, <tf.Variable 'conv2d_1/bias:0' shape=(128,) dtype=float32>, <tf.Variable 'dense/kernel:0' shape=(100352, 10) dtype=float32>, <tf.Variable 'dense/bias:0' shape=(10,) dtype=float32>]\n",
            "938/938 [==============================] - 8s 8ms/step - loss: 0.0021 - accuracy: 0.9992\n",
            "Epoch 2/3\n",
            "938/938 [==============================] - 8s 8ms/step - loss: 0.0029 - accuracy: 0.9991\n",
            "Epoch 3/3\n",
            "938/938 [==============================] - 8s 9ms/step - loss: 0.0041 - accuracy: 0.9989\n"
          ]
        },
        {
          "output_type": "execute_result",
          "data": {
            "text/plain": [
              "<keras.callbacks.History at 0x7f5402850a50>"
            ]
          },
          "metadata": {},
          "execution_count": 24
        }
      ]
    },
    {
      "cell_type": "markdown",
      "source": [
        "Di sini kita bisa melihat apa saja training variable dari model karena kita melakukan print pada method training_step"
      ],
      "metadata": {
        "id": "pBOvZSkDTP68"
      }
    },
    {
      "cell_type": "code",
      "source": [
        "custom_model.evaluate(ds_test)"
      ],
      "metadata": {
        "colab": {
          "base_uri": "https://localhost:8080/"
        },
        "id": "DE304h1BUXzA",
        "outputId": "a8161cc5-7001-499d-9ed1-4acc2dc90abe"
      },
      "execution_count": 25,
      "outputs": [
        {
          "output_type": "stream",
          "name": "stdout",
          "text": [
            "157/157 [==============================] - 1s 8ms/step - loss: 0.0991 - accuracy: 0.9871 - test: 69420.0000\n"
          ]
        },
        {
          "output_type": "execute_result",
          "data": {
            "text/plain": [
              "[0.9871000051498413, 5.587910436588572e-07, 69420]"
            ]
          },
          "metadata": {},
          "execution_count": 25
        }
      ]
    }
  ]
}