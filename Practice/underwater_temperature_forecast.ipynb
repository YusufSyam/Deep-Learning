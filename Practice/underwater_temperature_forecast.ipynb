{
  "nbformat": 4,
  "nbformat_minor": 0,
  "metadata": {
    "colab": {
      "name": "Submission_Machine_Learning-Time_Series.ipynb",
      "provenance": [],
      "collapsed_sections": []
    },
    "kernelspec": {
      "name": "python3",
      "display_name": "Python 3"
    },
    "language_info": {
      "name": "python"
    },
    "accelerator": "GPU",
    "gpuClass": "standard"
  },
  "cells": [
    {
      "cell_type": "code",
      "source": [
        "import pandas as pd\n",
        "import numpy as np\n",
        "\n",
        "from sklearn.model_selection import train_test_split\n",
        "from sklearn.preprocessing import MinMaxScaler\n",
        "from sklearn.metrics import mean_absolute_error\n",
        "import datetime\n",
        "\n",
        "import tensorflow as tf\n",
        "from tensorflow import keras\n",
        "from tensorflow.keras import layers\n",
        "\n",
        "from matplotlib import pyplot as plt\n",
        "import os"
      ],
      "metadata": {
        "id": "Ba2O2eQ_N4l0"
      },
      "execution_count": 1,
      "outputs": []
    },
    {
      "cell_type": "markdown",
      "source": [
        "# Download dan ekstrak dataset (dari kaggle)"
      ],
      "metadata": {
        "id": "X0A3ZkkO9eXD"
      }
    },
    {
      "cell_type": "markdown",
      "source": [
        "Kode di bawah dapat berjalan jika terdapat file `kaggle.json` yang berisi username dan token dari kaggle API"
      ],
      "metadata": {
        "id": "_50KpKgn9kSL"
      }
    },
    {
      "cell_type": "code",
      "source": [
        "!mkdir ~/.kaggle\n",
        "!cp kaggle.json ~/.kaggle/\n",
        "!chmod 600 ~/.kaggle/kaggle.json"
      ],
      "metadata": {
        "id": "okqK42HmtkDj",
        "colab": {
          "base_uri": "https://localhost:8080/"
        },
        "outputId": "595e4a82-448d-4ccf-fde2-5ddb23a86499"
      },
      "execution_count": 2,
      "outputs": [
        {
          "output_type": "stream",
          "name": "stdout",
          "text": [
            "mkdir: cannot create directory ‘/root/.kaggle’: File exists\n"
          ]
        }
      ]
    },
    {
      "cell_type": "markdown",
      "source": [
        "Download dataset"
      ],
      "metadata": {
        "id": "7mOWutyH9vbK"
      }
    },
    {
      "cell_type": "code",
      "execution_count": 3,
      "metadata": {
        "id": "KqgknEGms5kv",
        "colab": {
          "base_uri": "https://localhost:8080/"
        },
        "outputId": "cafa4665-8758-4cc0-c7e2-836755a23a19"
      },
      "outputs": [
        {
          "output_type": "stream",
          "name": "stdout",
          "text": [
            "underwater-surface-temperature-dataset.zip: Skipping, found more recently modified local copy (use --force to force download)\n"
          ]
        }
      ],
      "source": [
        "!kaggle datasets download -d shivamb/underwater-surface-temperature-dataset"
      ]
    },
    {
      "cell_type": "markdown",
      "source": [
        "Ekstrak dataset"
      ],
      "metadata": {
        "id": "NO9ZPcJ49wml"
      }
    },
    {
      "cell_type": "code",
      "source": [
        "!unzip \"/content/underwater-surface-temperature-dataset.zip\" -d \"/content/underwater-surface-temperature-dataset\""
      ],
      "metadata": {
        "colab": {
          "base_uri": "https://localhost:8080/"
        },
        "id": "ZGYBnCihuMAh",
        "outputId": "69ccfa74-d82e-4f14-b036-603b74d1d8f0"
      },
      "execution_count": 4,
      "outputs": [
        {
          "output_type": "stream",
          "name": "stdout",
          "text": [
            "Archive:  /content/underwater-surface-temperature-dataset.zip\n",
            "replace /content/underwater-surface-temperature-dataset/underwater_temperature.csv? [y]es, [n]o, [A]ll, [N]one, [r]ename: N\n"
          ]
        }
      ]
    },
    {
      "cell_type": "markdown",
      "source": [
        "# Load dataset menjadi pandas dataframe"
      ],
      "metadata": {
        "id": "ToeSLhKL5gFq"
      }
    },
    {
      "cell_type": "code",
      "source": [
        "df= pd.read_csv('/content/underwater-surface-temperature-dataset/underwater_temperature.csv', encoding='unicode_escape')\n",
        "\n",
        "df"
      ],
      "metadata": {
        "colab": {
          "base_uri": "https://localhost:8080/",
          "height": 424
        },
        "id": "-6nN41PAOlqm",
        "outputId": "41b132de-03b7-4fb6-c514-362a6cb6d433"
      },
      "execution_count": 5,
      "outputs": [
        {
          "output_type": "execute_result",
          "data": {
            "text/plain": [
              "            ID           Site  Latitude  Longitude        Date      Time  \\\n",
              "0            1   Ilha Deserta   27.2706    48.3310  2013/02/20  11:40:02   \n",
              "1            2   Ilha Deserta   27.2706    48.3310  2013/02/20  12:00:03   \n",
              "2            3   Ilha Deserta   27.2706    48.3310  2013/02/20  12:20:04   \n",
              "3            4   Ilha Deserta   27.2706    48.3310  2013/02/20  12:40:05   \n",
              "4            5   Ilha Deserta   27.2706    48.3310  2013/02/20  13:00:06   \n",
              "...        ...            ...       ...        ...         ...       ...   \n",
              "408633  408634  lha do Xavier   27.6092    48.3858  2013/03/07  09:03:29   \n",
              "408634  408635  lha do Xavier   27.6092    48.3858  2013/03/07  09:23:29   \n",
              "408635  408636  lha do Xavier   27.6092    48.3858  2013/03/07  09:43:29   \n",
              "408636  408637  lha do Xavier   27.6092    48.3858  2013/03/07  10:03:29   \n",
              "408637  408638  lha do Xavier   27.6092    48.3858  2013/03/07  10:23:29   \n",
              "\n",
              "        Temp (°C)  Depth  \n",
              "0          24.448   12.0  \n",
              "1          24.448   12.0  \n",
              "2          24.545   12.0  \n",
              "3          24.448   12.0  \n",
              "4          24.351   12.0  \n",
              "...           ...    ...  \n",
              "408633     24.931    5.0  \n",
              "408634     24.931    5.0  \n",
              "408635     24.931    5.0  \n",
              "408636     24.931    5.0  \n",
              "408637     24.931    5.0  \n",
              "\n",
              "[408638 rows x 8 columns]"
            ],
            "text/html": [
              "\n",
              "  <div id=\"df-98f3caff-240e-45d6-a009-63fcaaf97089\">\n",
              "    <div class=\"colab-df-container\">\n",
              "      <div>\n",
              "<style scoped>\n",
              "    .dataframe tbody tr th:only-of-type {\n",
              "        vertical-align: middle;\n",
              "    }\n",
              "\n",
              "    .dataframe tbody tr th {\n",
              "        vertical-align: top;\n",
              "    }\n",
              "\n",
              "    .dataframe thead th {\n",
              "        text-align: right;\n",
              "    }\n",
              "</style>\n",
              "<table border=\"1\" class=\"dataframe\">\n",
              "  <thead>\n",
              "    <tr style=\"text-align: right;\">\n",
              "      <th></th>\n",
              "      <th>ID</th>\n",
              "      <th>Site</th>\n",
              "      <th>Latitude</th>\n",
              "      <th>Longitude</th>\n",
              "      <th>Date</th>\n",
              "      <th>Time</th>\n",
              "      <th>Temp (°C)</th>\n",
              "      <th>Depth</th>\n",
              "    </tr>\n",
              "  </thead>\n",
              "  <tbody>\n",
              "    <tr>\n",
              "      <th>0</th>\n",
              "      <td>1</td>\n",
              "      <td>Ilha Deserta</td>\n",
              "      <td>27.2706</td>\n",
              "      <td>48.3310</td>\n",
              "      <td>2013/02/20</td>\n",
              "      <td>11:40:02</td>\n",
              "      <td>24.448</td>\n",
              "      <td>12.0</td>\n",
              "    </tr>\n",
              "    <tr>\n",
              "      <th>1</th>\n",
              "      <td>2</td>\n",
              "      <td>Ilha Deserta</td>\n",
              "      <td>27.2706</td>\n",
              "      <td>48.3310</td>\n",
              "      <td>2013/02/20</td>\n",
              "      <td>12:00:03</td>\n",
              "      <td>24.448</td>\n",
              "      <td>12.0</td>\n",
              "    </tr>\n",
              "    <tr>\n",
              "      <th>2</th>\n",
              "      <td>3</td>\n",
              "      <td>Ilha Deserta</td>\n",
              "      <td>27.2706</td>\n",
              "      <td>48.3310</td>\n",
              "      <td>2013/02/20</td>\n",
              "      <td>12:20:04</td>\n",
              "      <td>24.545</td>\n",
              "      <td>12.0</td>\n",
              "    </tr>\n",
              "    <tr>\n",
              "      <th>3</th>\n",
              "      <td>4</td>\n",
              "      <td>Ilha Deserta</td>\n",
              "      <td>27.2706</td>\n",
              "      <td>48.3310</td>\n",
              "      <td>2013/02/20</td>\n",
              "      <td>12:40:05</td>\n",
              "      <td>24.448</td>\n",
              "      <td>12.0</td>\n",
              "    </tr>\n",
              "    <tr>\n",
              "      <th>4</th>\n",
              "      <td>5</td>\n",
              "      <td>Ilha Deserta</td>\n",
              "      <td>27.2706</td>\n",
              "      <td>48.3310</td>\n",
              "      <td>2013/02/20</td>\n",
              "      <td>13:00:06</td>\n",
              "      <td>24.351</td>\n",
              "      <td>12.0</td>\n",
              "    </tr>\n",
              "    <tr>\n",
              "      <th>...</th>\n",
              "      <td>...</td>\n",
              "      <td>...</td>\n",
              "      <td>...</td>\n",
              "      <td>...</td>\n",
              "      <td>...</td>\n",
              "      <td>...</td>\n",
              "      <td>...</td>\n",
              "      <td>...</td>\n",
              "    </tr>\n",
              "    <tr>\n",
              "      <th>408633</th>\n",
              "      <td>408634</td>\n",
              "      <td>lha do Xavier</td>\n",
              "      <td>27.6092</td>\n",
              "      <td>48.3858</td>\n",
              "      <td>2013/03/07</td>\n",
              "      <td>09:03:29</td>\n",
              "      <td>24.931</td>\n",
              "      <td>5.0</td>\n",
              "    </tr>\n",
              "    <tr>\n",
              "      <th>408634</th>\n",
              "      <td>408635</td>\n",
              "      <td>lha do Xavier</td>\n",
              "      <td>27.6092</td>\n",
              "      <td>48.3858</td>\n",
              "      <td>2013/03/07</td>\n",
              "      <td>09:23:29</td>\n",
              "      <td>24.931</td>\n",
              "      <td>5.0</td>\n",
              "    </tr>\n",
              "    <tr>\n",
              "      <th>408635</th>\n",
              "      <td>408636</td>\n",
              "      <td>lha do Xavier</td>\n",
              "      <td>27.6092</td>\n",
              "      <td>48.3858</td>\n",
              "      <td>2013/03/07</td>\n",
              "      <td>09:43:29</td>\n",
              "      <td>24.931</td>\n",
              "      <td>5.0</td>\n",
              "    </tr>\n",
              "    <tr>\n",
              "      <th>408636</th>\n",
              "      <td>408637</td>\n",
              "      <td>lha do Xavier</td>\n",
              "      <td>27.6092</td>\n",
              "      <td>48.3858</td>\n",
              "      <td>2013/03/07</td>\n",
              "      <td>10:03:29</td>\n",
              "      <td>24.931</td>\n",
              "      <td>5.0</td>\n",
              "    </tr>\n",
              "    <tr>\n",
              "      <th>408637</th>\n",
              "      <td>408638</td>\n",
              "      <td>lha do Xavier</td>\n",
              "      <td>27.6092</td>\n",
              "      <td>48.3858</td>\n",
              "      <td>2013/03/07</td>\n",
              "      <td>10:23:29</td>\n",
              "      <td>24.931</td>\n",
              "      <td>5.0</td>\n",
              "    </tr>\n",
              "  </tbody>\n",
              "</table>\n",
              "<p>408638 rows × 8 columns</p>\n",
              "</div>\n",
              "      <button class=\"colab-df-convert\" onclick=\"convertToInteractive('df-98f3caff-240e-45d6-a009-63fcaaf97089')\"\n",
              "              title=\"Convert this dataframe to an interactive table.\"\n",
              "              style=\"display:none;\">\n",
              "        \n",
              "  <svg xmlns=\"http://www.w3.org/2000/svg\" height=\"24px\"viewBox=\"0 0 24 24\"\n",
              "       width=\"24px\">\n",
              "    <path d=\"M0 0h24v24H0V0z\" fill=\"none\"/>\n",
              "    <path d=\"M18.56 5.44l.94 2.06.94-2.06 2.06-.94-2.06-.94-.94-2.06-.94 2.06-2.06.94zm-11 1L8.5 8.5l.94-2.06 2.06-.94-2.06-.94L8.5 2.5l-.94 2.06-2.06.94zm10 10l.94 2.06.94-2.06 2.06-.94-2.06-.94-.94-2.06-.94 2.06-2.06.94z\"/><path d=\"M17.41 7.96l-1.37-1.37c-.4-.4-.92-.59-1.43-.59-.52 0-1.04.2-1.43.59L10.3 9.45l-7.72 7.72c-.78.78-.78 2.05 0 2.83L4 21.41c.39.39.9.59 1.41.59.51 0 1.02-.2 1.41-.59l7.78-7.78 2.81-2.81c.8-.78.8-2.07 0-2.86zM5.41 20L4 18.59l7.72-7.72 1.47 1.35L5.41 20z\"/>\n",
              "  </svg>\n",
              "      </button>\n",
              "      \n",
              "  <style>\n",
              "    .colab-df-container {\n",
              "      display:flex;\n",
              "      flex-wrap:wrap;\n",
              "      gap: 12px;\n",
              "    }\n",
              "\n",
              "    .colab-df-convert {\n",
              "      background-color: #E8F0FE;\n",
              "      border: none;\n",
              "      border-radius: 50%;\n",
              "      cursor: pointer;\n",
              "      display: none;\n",
              "      fill: #1967D2;\n",
              "      height: 32px;\n",
              "      padding: 0 0 0 0;\n",
              "      width: 32px;\n",
              "    }\n",
              "\n",
              "    .colab-df-convert:hover {\n",
              "      background-color: #E2EBFA;\n",
              "      box-shadow: 0px 1px 2px rgba(60, 64, 67, 0.3), 0px 1px 3px 1px rgba(60, 64, 67, 0.15);\n",
              "      fill: #174EA6;\n",
              "    }\n",
              "\n",
              "    [theme=dark] .colab-df-convert {\n",
              "      background-color: #3B4455;\n",
              "      fill: #D2E3FC;\n",
              "    }\n",
              "\n",
              "    [theme=dark] .colab-df-convert:hover {\n",
              "      background-color: #434B5C;\n",
              "      box-shadow: 0px 1px 3px 1px rgba(0, 0, 0, 0.15);\n",
              "      filter: drop-shadow(0px 1px 2px rgba(0, 0, 0, 0.3));\n",
              "      fill: #FFFFFF;\n",
              "    }\n",
              "  </style>\n",
              "\n",
              "      <script>\n",
              "        const buttonEl =\n",
              "          document.querySelector('#df-98f3caff-240e-45d6-a009-63fcaaf97089 button.colab-df-convert');\n",
              "        buttonEl.style.display =\n",
              "          google.colab.kernel.accessAllowed ? 'block' : 'none';\n",
              "\n",
              "        async function convertToInteractive(key) {\n",
              "          const element = document.querySelector('#df-98f3caff-240e-45d6-a009-63fcaaf97089');\n",
              "          const dataTable =\n",
              "            await google.colab.kernel.invokeFunction('convertToInteractive',\n",
              "                                                     [key], {});\n",
              "          if (!dataTable) return;\n",
              "\n",
              "          const docLinkHtml = 'Like what you see? Visit the ' +\n",
              "            '<a target=\"_blank\" href=https://colab.research.google.com/notebooks/data_table.ipynb>data table notebook</a>'\n",
              "            + ' to learn more about interactive tables.';\n",
              "          element.innerHTML = '';\n",
              "          dataTable['output_type'] = 'display_data';\n",
              "          await google.colab.output.renderOutput(dataTable, element);\n",
              "          const docLink = document.createElement('div');\n",
              "          docLink.innerHTML = docLinkHtml;\n",
              "          element.appendChild(docLink);\n",
              "        }\n",
              "      </script>\n",
              "    </div>\n",
              "  </div>\n",
              "  "
            ]
          },
          "metadata": {},
          "execution_count": 5
        }
      ]
    },
    {
      "cell_type": "markdown",
      "source": [
        "Kolom `Site` merupakan tempat pengukuran suhu, sedangkan kolom `Depth` merupakan kedalaman pengukuran suhu. Terdapat beberapa jenis tempat dan kedalaman pengukuran, maka dari itu kita terlebih dahulu perlu mendefinisikan tempat dan kedalaman pengukuran dengan melakukan filter pada dataframe."
      ],
      "metadata": {
        "id": "AY1gH5v85h7c"
      }
    },
    {
      "cell_type": "code",
      "source": [
        "df= df[(df['Site']=='Ilha Deserta') & (df['Depth']==12.0)]\n",
        "\n",
        "df"
      ],
      "metadata": {
        "id": "TJEH--4DOnYT",
        "colab": {
          "base_uri": "https://localhost:8080/",
          "height": 424
        },
        "outputId": "2aa4c9d2-2862-4d1e-9683-756c663eb9a2"
      },
      "execution_count": 6,
      "outputs": [
        {
          "output_type": "execute_result",
          "data": {
            "text/plain": [
              "          ID          Site  Latitude  Longitude        Date      Time  \\\n",
              "0          1  Ilha Deserta   27.2706     48.331  2013/02/20  11:40:02   \n",
              "1          2  Ilha Deserta   27.2706     48.331  2013/02/20  12:00:03   \n",
              "2          3  Ilha Deserta   27.2706     48.331  2013/02/20  12:20:04   \n",
              "3          4  Ilha Deserta   27.2706     48.331  2013/02/20  12:40:05   \n",
              "4          5  Ilha Deserta   27.2706     48.331  2013/02/20  13:00:06   \n",
              "...      ...           ...       ...        ...         ...       ...   \n",
              "48165  48166  Ilha Deserta   27.2706     48.331  2014/12/21  11:18:25   \n",
              "48166  48167  Ilha Deserta   27.2706     48.331  2014/12/21  11:38:25   \n",
              "48167  48168  Ilha Deserta   27.2706     48.331  2014/12/21  11:58:25   \n",
              "48168  48169  Ilha Deserta   27.2706     48.331  2014/12/21  12:18:25   \n",
              "48169  48170  Ilha Deserta   27.2706     48.331  2014/12/21  12:38:25   \n",
              "\n",
              "       Temp (°C)  Depth  \n",
              "0         24.448   12.0  \n",
              "1         24.448   12.0  \n",
              "2         24.545   12.0  \n",
              "3         24.448   12.0  \n",
              "4         24.351   12.0  \n",
              "...          ...    ...  \n",
              "48165     26.488   12.0  \n",
              "48166     26.585   12.0  \n",
              "48167     26.585   12.0  \n",
              "48168     26.683   12.0  \n",
              "48169     26.683   12.0  \n",
              "\n",
              "[48170 rows x 8 columns]"
            ],
            "text/html": [
              "\n",
              "  <div id=\"df-85d88c6b-e2dd-4338-854a-f8aa39268fdd\">\n",
              "    <div class=\"colab-df-container\">\n",
              "      <div>\n",
              "<style scoped>\n",
              "    .dataframe tbody tr th:only-of-type {\n",
              "        vertical-align: middle;\n",
              "    }\n",
              "\n",
              "    .dataframe tbody tr th {\n",
              "        vertical-align: top;\n",
              "    }\n",
              "\n",
              "    .dataframe thead th {\n",
              "        text-align: right;\n",
              "    }\n",
              "</style>\n",
              "<table border=\"1\" class=\"dataframe\">\n",
              "  <thead>\n",
              "    <tr style=\"text-align: right;\">\n",
              "      <th></th>\n",
              "      <th>ID</th>\n",
              "      <th>Site</th>\n",
              "      <th>Latitude</th>\n",
              "      <th>Longitude</th>\n",
              "      <th>Date</th>\n",
              "      <th>Time</th>\n",
              "      <th>Temp (°C)</th>\n",
              "      <th>Depth</th>\n",
              "    </tr>\n",
              "  </thead>\n",
              "  <tbody>\n",
              "    <tr>\n",
              "      <th>0</th>\n",
              "      <td>1</td>\n",
              "      <td>Ilha Deserta</td>\n",
              "      <td>27.2706</td>\n",
              "      <td>48.331</td>\n",
              "      <td>2013/02/20</td>\n",
              "      <td>11:40:02</td>\n",
              "      <td>24.448</td>\n",
              "      <td>12.0</td>\n",
              "    </tr>\n",
              "    <tr>\n",
              "      <th>1</th>\n",
              "      <td>2</td>\n",
              "      <td>Ilha Deserta</td>\n",
              "      <td>27.2706</td>\n",
              "      <td>48.331</td>\n",
              "      <td>2013/02/20</td>\n",
              "      <td>12:00:03</td>\n",
              "      <td>24.448</td>\n",
              "      <td>12.0</td>\n",
              "    </tr>\n",
              "    <tr>\n",
              "      <th>2</th>\n",
              "      <td>3</td>\n",
              "      <td>Ilha Deserta</td>\n",
              "      <td>27.2706</td>\n",
              "      <td>48.331</td>\n",
              "      <td>2013/02/20</td>\n",
              "      <td>12:20:04</td>\n",
              "      <td>24.545</td>\n",
              "      <td>12.0</td>\n",
              "    </tr>\n",
              "    <tr>\n",
              "      <th>3</th>\n",
              "      <td>4</td>\n",
              "      <td>Ilha Deserta</td>\n",
              "      <td>27.2706</td>\n",
              "      <td>48.331</td>\n",
              "      <td>2013/02/20</td>\n",
              "      <td>12:40:05</td>\n",
              "      <td>24.448</td>\n",
              "      <td>12.0</td>\n",
              "    </tr>\n",
              "    <tr>\n",
              "      <th>4</th>\n",
              "      <td>5</td>\n",
              "      <td>Ilha Deserta</td>\n",
              "      <td>27.2706</td>\n",
              "      <td>48.331</td>\n",
              "      <td>2013/02/20</td>\n",
              "      <td>13:00:06</td>\n",
              "      <td>24.351</td>\n",
              "      <td>12.0</td>\n",
              "    </tr>\n",
              "    <tr>\n",
              "      <th>...</th>\n",
              "      <td>...</td>\n",
              "      <td>...</td>\n",
              "      <td>...</td>\n",
              "      <td>...</td>\n",
              "      <td>...</td>\n",
              "      <td>...</td>\n",
              "      <td>...</td>\n",
              "      <td>...</td>\n",
              "    </tr>\n",
              "    <tr>\n",
              "      <th>48165</th>\n",
              "      <td>48166</td>\n",
              "      <td>Ilha Deserta</td>\n",
              "      <td>27.2706</td>\n",
              "      <td>48.331</td>\n",
              "      <td>2014/12/21</td>\n",
              "      <td>11:18:25</td>\n",
              "      <td>26.488</td>\n",
              "      <td>12.0</td>\n",
              "    </tr>\n",
              "    <tr>\n",
              "      <th>48166</th>\n",
              "      <td>48167</td>\n",
              "      <td>Ilha Deserta</td>\n",
              "      <td>27.2706</td>\n",
              "      <td>48.331</td>\n",
              "      <td>2014/12/21</td>\n",
              "      <td>11:38:25</td>\n",
              "      <td>26.585</td>\n",
              "      <td>12.0</td>\n",
              "    </tr>\n",
              "    <tr>\n",
              "      <th>48167</th>\n",
              "      <td>48168</td>\n",
              "      <td>Ilha Deserta</td>\n",
              "      <td>27.2706</td>\n",
              "      <td>48.331</td>\n",
              "      <td>2014/12/21</td>\n",
              "      <td>11:58:25</td>\n",
              "      <td>26.585</td>\n",
              "      <td>12.0</td>\n",
              "    </tr>\n",
              "    <tr>\n",
              "      <th>48168</th>\n",
              "      <td>48169</td>\n",
              "      <td>Ilha Deserta</td>\n",
              "      <td>27.2706</td>\n",
              "      <td>48.331</td>\n",
              "      <td>2014/12/21</td>\n",
              "      <td>12:18:25</td>\n",
              "      <td>26.683</td>\n",
              "      <td>12.0</td>\n",
              "    </tr>\n",
              "    <tr>\n",
              "      <th>48169</th>\n",
              "      <td>48170</td>\n",
              "      <td>Ilha Deserta</td>\n",
              "      <td>27.2706</td>\n",
              "      <td>48.331</td>\n",
              "      <td>2014/12/21</td>\n",
              "      <td>12:38:25</td>\n",
              "      <td>26.683</td>\n",
              "      <td>12.0</td>\n",
              "    </tr>\n",
              "  </tbody>\n",
              "</table>\n",
              "<p>48170 rows × 8 columns</p>\n",
              "</div>\n",
              "      <button class=\"colab-df-convert\" onclick=\"convertToInteractive('df-85d88c6b-e2dd-4338-854a-f8aa39268fdd')\"\n",
              "              title=\"Convert this dataframe to an interactive table.\"\n",
              "              style=\"display:none;\">\n",
              "        \n",
              "  <svg xmlns=\"http://www.w3.org/2000/svg\" height=\"24px\"viewBox=\"0 0 24 24\"\n",
              "       width=\"24px\">\n",
              "    <path d=\"M0 0h24v24H0V0z\" fill=\"none\"/>\n",
              "    <path d=\"M18.56 5.44l.94 2.06.94-2.06 2.06-.94-2.06-.94-.94-2.06-.94 2.06-2.06.94zm-11 1L8.5 8.5l.94-2.06 2.06-.94-2.06-.94L8.5 2.5l-.94 2.06-2.06.94zm10 10l.94 2.06.94-2.06 2.06-.94-2.06-.94-.94-2.06-.94 2.06-2.06.94z\"/><path d=\"M17.41 7.96l-1.37-1.37c-.4-.4-.92-.59-1.43-.59-.52 0-1.04.2-1.43.59L10.3 9.45l-7.72 7.72c-.78.78-.78 2.05 0 2.83L4 21.41c.39.39.9.59 1.41.59.51 0 1.02-.2 1.41-.59l7.78-7.78 2.81-2.81c.8-.78.8-2.07 0-2.86zM5.41 20L4 18.59l7.72-7.72 1.47 1.35L5.41 20z\"/>\n",
              "  </svg>\n",
              "      </button>\n",
              "      \n",
              "  <style>\n",
              "    .colab-df-container {\n",
              "      display:flex;\n",
              "      flex-wrap:wrap;\n",
              "      gap: 12px;\n",
              "    }\n",
              "\n",
              "    .colab-df-convert {\n",
              "      background-color: #E8F0FE;\n",
              "      border: none;\n",
              "      border-radius: 50%;\n",
              "      cursor: pointer;\n",
              "      display: none;\n",
              "      fill: #1967D2;\n",
              "      height: 32px;\n",
              "      padding: 0 0 0 0;\n",
              "      width: 32px;\n",
              "    }\n",
              "\n",
              "    .colab-df-convert:hover {\n",
              "      background-color: #E2EBFA;\n",
              "      box-shadow: 0px 1px 2px rgba(60, 64, 67, 0.3), 0px 1px 3px 1px rgba(60, 64, 67, 0.15);\n",
              "      fill: #174EA6;\n",
              "    }\n",
              "\n",
              "    [theme=dark] .colab-df-convert {\n",
              "      background-color: #3B4455;\n",
              "      fill: #D2E3FC;\n",
              "    }\n",
              "\n",
              "    [theme=dark] .colab-df-convert:hover {\n",
              "      background-color: #434B5C;\n",
              "      box-shadow: 0px 1px 3px 1px rgba(0, 0, 0, 0.15);\n",
              "      filter: drop-shadow(0px 1px 2px rgba(0, 0, 0, 0.3));\n",
              "      fill: #FFFFFF;\n",
              "    }\n",
              "  </style>\n",
              "\n",
              "      <script>\n",
              "        const buttonEl =\n",
              "          document.querySelector('#df-85d88c6b-e2dd-4338-854a-f8aa39268fdd button.colab-df-convert');\n",
              "        buttonEl.style.display =\n",
              "          google.colab.kernel.accessAllowed ? 'block' : 'none';\n",
              "\n",
              "        async function convertToInteractive(key) {\n",
              "          const element = document.querySelector('#df-85d88c6b-e2dd-4338-854a-f8aa39268fdd');\n",
              "          const dataTable =\n",
              "            await google.colab.kernel.invokeFunction('convertToInteractive',\n",
              "                                                     [key], {});\n",
              "          if (!dataTable) return;\n",
              "\n",
              "          const docLinkHtml = 'Like what you see? Visit the ' +\n",
              "            '<a target=\"_blank\" href=https://colab.research.google.com/notebooks/data_table.ipynb>data table notebook</a>'\n",
              "            + ' to learn more about interactive tables.';\n",
              "          element.innerHTML = '';\n",
              "          dataTable['output_type'] = 'display_data';\n",
              "          await google.colab.output.renderOutput(dataTable, element);\n",
              "          const docLink = document.createElement('div');\n",
              "          docLink.innerHTML = docLinkHtml;\n",
              "          element.appendChild(docLink);\n",
              "        }\n",
              "      </script>\n",
              "    </div>\n",
              "  </div>\n",
              "  "
            ]
          },
          "metadata": {},
          "execution_count": 6
        }
      ]
    },
    {
      "cell_type": "markdown",
      "source": [
        "Plot dataset."
      ],
      "metadata": {
        "id": "eLOepjgM6R8v"
      }
    },
    {
      "cell_type": "code",
      "source": [
        "plt.style.use('fivethirtyeight')\n",
        "df.plot(kind='line', x='Date', y='Temp (°C)', figsize=(16,8), lw=1)"
      ],
      "metadata": {
        "colab": {
          "base_uri": "https://localhost:8080/",
          "height": 555
        },
        "id": "zAeEIx-PEkTn",
        "outputId": "69635f92-c046-4413-b05f-55571558963e"
      },
      "execution_count": 8,
      "outputs": [
        {
          "output_type": "execute_result",
          "data": {
            "text/plain": [
              "<matplotlib.axes._subplots.AxesSubplot at 0x7fc67e1ad950>"
            ]
          },
          "metadata": {},
          "execution_count": 8
        },
        {
          "output_type": "display_data",
          "data": {
            "text/plain": [
              "<Figure size 1152x576 with 1 Axes>"
            ],
            "image/png": "[encoded data removed]"
          },
          "metadata": {}
        }
      ]
    },
    {
      "cell_type": "markdown",
      "source": [
        "Kita bisa menyimpulkan dataset berpola *noise*."
      ],
      "metadata": {
        "id": "3zi2b2Al6kE4"
      }
    },
    {
      "cell_type": "markdown",
      "source": [
        "# Pra-Proses data"
      ],
      "metadata": {
        "id": "vmwiRco-6tfo"
      }
    },
    {
      "cell_type": "markdown",
      "source": [
        "Pertama .kita menghapus beberapa kolom karena sudah tidak membutuhkannya"
      ],
      "metadata": {
        "id": "T5RYecSA6IVO"
      }
    },
    {
      "cell_type": "code",
      "source": [
        "df= df.drop(['ID', 'Site', 'Latitude', 'Longitude', 'Depth'], axis=1)\n",
        "df.columns= ['date', 'time', 'temp']\n",
        "\n",
        "df"
      ],
      "metadata": {
        "colab": {
          "base_uri": "https://localhost:8080/",
          "height": 424
        },
        "id": "lHxs2LZvHSKw",
        "outputId": "79717cac-7581-4f73-ff6f-92bfc22b7c35"
      },
      "execution_count": 9,
      "outputs": [
        {
          "output_type": "execute_result",
          "data": {
            "text/plain": [
              "             date      time    temp\n",
              "0      2013/02/20  11:40:02  24.448\n",
              "1      2013/02/20  12:00:03  24.448\n",
              "2      2013/02/20  12:20:04  24.545\n",
              "3      2013/02/20  12:40:05  24.448\n",
              "4      2013/02/20  13:00:06  24.351\n",
              "...           ...       ...     ...\n",
              "48165  2014/12/21  11:18:25  26.488\n",
              "48166  2014/12/21  11:38:25  26.585\n",
              "48167  2014/12/21  11:58:25  26.585\n",
              "48168  2014/12/21  12:18:25  26.683\n",
              "48169  2014/12/21  12:38:25  26.683\n",
              "\n",
              "[48170 rows x 3 columns]"
            ],
            "text/html": [
              "\n",
              "  <div id=\"df-6c413e41-98d1-4bb6-bb41-54a0c95ec315\">\n",
              "    <div class=\"colab-df-container\">\n",
              "      <div>\n",
              "<style scoped>\n",
              "    .dataframe tbody tr th:only-of-type {\n",
              "        vertical-align: middle;\n",
              "    }\n",
              "\n",
              "    .dataframe tbody tr th {\n",
              "        vertical-align: top;\n",
              "    }\n",
              "\n",
              "    .dataframe thead th {\n",
              "        text-align: right;\n",
              "    }\n",
              "</style>\n",
              "<table border=\"1\" class=\"dataframe\">\n",
              "  <thead>\n",
              "    <tr style=\"text-align: right;\">\n",
              "      <th></th>\n",
              "      <th>date</th>\n",
              "      <th>time</th>\n",
              "      <th>temp</th>\n",
              "    </tr>\n",
              "  </thead>\n",
              "  <tbody>\n",
              "    <tr>\n",
              "      <th>0</th>\n",
              "      <td>2013/02/20</td>\n",
              "      <td>11:40:02</td>\n",
              "      <td>24.448</td>\n",
              "    </tr>\n",
              "    <tr>\n",
              "      <th>1</th>\n",
              "      <td>2013/02/20</td>\n",
              "      <td>12:00:03</td>\n",
              "      <td>24.448</td>\n",
              "    </tr>\n",
              "    <tr>\n",
              "      <th>2</th>\n",
              "      <td>2013/02/20</td>\n",
              "      <td>12:20:04</td>\n",
              "      <td>24.545</td>\n",
              "    </tr>\n",
              "    <tr>\n",
              "      <th>3</th>\n",
              "      <td>2013/02/20</td>\n",
              "      <td>12:40:05</td>\n",
              "      <td>24.448</td>\n",
              "    </tr>\n",
              "    <tr>\n",
              "      <th>4</th>\n",
              "      <td>2013/02/20</td>\n",
              "      <td>13:00:06</td>\n",
              "      <td>24.351</td>\n",
              "    </tr>\n",
              "    <tr>\n",
              "      <th>...</th>\n",
              "      <td>...</td>\n",
              "      <td>...</td>\n",
              "      <td>...</td>\n",
              "    </tr>\n",
              "    <tr>\n",
              "      <th>48165</th>\n",
              "      <td>2014/12/21</td>\n",
              "      <td>11:18:25</td>\n",
              "      <td>26.488</td>\n",
              "    </tr>\n",
              "    <tr>\n",
              "      <th>48166</th>\n",
              "      <td>2014/12/21</td>\n",
              "      <td>11:38:25</td>\n",
              "      <td>26.585</td>\n",
              "    </tr>\n",
              "    <tr>\n",
              "      <th>48167</th>\n",
              "      <td>2014/12/21</td>\n",
              "      <td>11:58:25</td>\n",
              "      <td>26.585</td>\n",
              "    </tr>\n",
              "    <tr>\n",
              "      <th>48168</th>\n",
              "      <td>2014/12/21</td>\n",
              "      <td>12:18:25</td>\n",
              "      <td>26.683</td>\n",
              "    </tr>\n",
              "    <tr>\n",
              "      <th>48169</th>\n",
              "      <td>2014/12/21</td>\n",
              "      <td>12:38:25</td>\n",
              "      <td>26.683</td>\n",
              "    </tr>\n",
              "  </tbody>\n",
              "</table>\n",
              "<p>48170 rows × 3 columns</p>\n",
              "</div>\n",
              "      <button class=\"colab-df-convert\" onclick=\"convertToInteractive('df-6c413e41-98d1-4bb6-bb41-54a0c95ec315')\"\n",
              "              title=\"Convert this dataframe to an interactive table.\"\n",
              "              style=\"display:none;\">\n",
              "        \n",
              "  <svg xmlns=\"http://www.w3.org/2000/svg\" height=\"24px\"viewBox=\"0 0 24 24\"\n",
              "       width=\"24px\">\n",
              "    <path d=\"M0 0h24v24H0V0z\" fill=\"none\"/>\n",
              "    <path d=\"M18.56 5.44l.94 2.06.94-2.06 2.06-.94-2.06-.94-.94-2.06-.94 2.06-2.06.94zm-11 1L8.5 8.5l.94-2.06 2.06-.94-2.06-.94L8.5 2.5l-.94 2.06-2.06.94zm10 10l.94 2.06.94-2.06 2.06-.94-2.06-.94-.94-2.06-.94 2.06-2.06.94z\"/><path d=\"M17.41 7.96l-1.37-1.37c-.4-.4-.92-.59-1.43-.59-.52 0-1.04.2-1.43.59L10.3 9.45l-7.72 7.72c-.78.78-.78 2.05 0 2.83L4 21.41c.39.39.9.59 1.41.59.51 0 1.02-.2 1.41-.59l7.78-7.78 2.81-2.81c.8-.78.8-2.07 0-2.86zM5.41 20L4 18.59l7.72-7.72 1.47 1.35L5.41 20z\"/>\n",
              "  </svg>\n",
              "      </button>\n",
              "      \n",
              "  <style>\n",
              "    .colab-df-container {\n",
              "      display:flex;\n",
              "      flex-wrap:wrap;\n",
              "      gap: 12px;\n",
              "    }\n",
              "\n",
              "    .colab-df-convert {\n",
              "      background-color: #E8F0FE;\n",
              "      border: none;\n",
              "      border-radius: 50%;\n",
              "      cursor: pointer;\n",
              "      display: none;\n",
              "      fill: #1967D2;\n",
              "      height: 32px;\n",
              "      padding: 0 0 0 0;\n",
              "      width: 32px;\n",
              "    }\n",
              "\n",
              "    .colab-df-convert:hover {\n",
              "      background-color: #E2EBFA;\n",
              "      box-shadow: 0px 1px 2px rgba(60, 64, 67, 0.3), 0px 1px 3px 1px rgba(60, 64, 67, 0.15);\n",
              "      fill: #174EA6;\n",
              "    }\n",
              "\n",
              "    [theme=dark] .colab-df-convert {\n",
              "      background-color: #3B4455;\n",
              "      fill: #D2E3FC;\n",
              "    }\n",
              "\n",
              "    [theme=dark] .colab-df-convert:hover {\n",
              "      background-color: #434B5C;\n",
              "      box-shadow: 0px 1px 3px 1px rgba(0, 0, 0, 0.15);\n",
              "      filter: drop-shadow(0px 1px 2px rgba(0, 0, 0, 0.3));\n",
              "      fill: #FFFFFF;\n",
              "    }\n",
              "  </style>\n",
              "\n",
              "      <script>\n",
              "        const buttonEl =\n",
              "          document.querySelector('#df-6c413e41-98d1-4bb6-bb41-54a0c95ec315 button.colab-df-convert');\n",
              "        buttonEl.style.display =\n",
              "          google.colab.kernel.accessAllowed ? 'block' : 'none';\n",
              "\n",
              "        async function convertToInteractive(key) {\n",
              "          const element = document.querySelector('#df-6c413e41-98d1-4bb6-bb41-54a0c95ec315');\n",
              "          const dataTable =\n",
              "            await google.colab.kernel.invokeFunction('convertToInteractive',\n",
              "                                                     [key], {});\n",
              "          if (!dataTable) return;\n",
              "\n",
              "          const docLinkHtml = 'Like what you see? Visit the ' +\n",
              "            '<a target=\"_blank\" href=https://colab.research.google.com/notebooks/data_table.ipynb>data table notebook</a>'\n",
              "            + ' to learn more about interactive tables.';\n",
              "          element.innerHTML = '';\n",
              "          dataTable['output_type'] = 'display_data';\n",
              "          await google.colab.output.renderOutput(dataTable, element);\n",
              "          const docLink = document.createElement('div');\n",
              "          docLink.innerHTML = docLinkHtml;\n",
              "          element.appendChild(docLink);\n",
              "        }\n",
              "      </script>\n",
              "    </div>\n",
              "  </div>\n",
              "  "
            ]
          },
          "metadata": {},
          "execution_count": 9
        }
      ]
    },
    {
      "cell_type": "markdown",
      "source": [
        "Mengecek jika terdapat nilai null."
      ],
      "metadata": {
        "id": "XOWyOtTx6Mqg"
      }
    },
    {
      "cell_type": "code",
      "source": [
        "df.isna().any()"
      ],
      "metadata": {
        "colab": {
          "base_uri": "https://localhost:8080/"
        },
        "id": "vBKEYQvTbFTQ",
        "outputId": "eeeedf07-31cb-4d56-d34f-7fe5124c4e39"
      },
      "execution_count": 10,
      "outputs": [
        {
          "output_type": "execute_result",
          "data": {
            "text/plain": [
              "date    False\n",
              "time    False\n",
              "temp    False\n",
              "dtype: bool"
            ]
          },
          "metadata": {},
          "execution_count": 10
        }
      ]
    },
    {
      "cell_type": "markdown",
      "source": [
        "### Ekstraksi fitur"
      ],
      "metadata": {
        "id": "EAXPVsHQ720K"
      }
    },
    {
      "cell_type": "markdown",
      "source": [
        "Eksraksi fitur dari kolom `date` dan `time`, namun terlebih dahulu kita perlu melakukan casting pada kolom tersebut menjadi kolom `datetime`."
      ],
      "metadata": {
        "id": "Ezu4rOoX63Ma"
      }
    },
    {
      "cell_type": "code",
      "source": [
        "df.info()"
      ],
      "metadata": {
        "colab": {
          "base_uri": "https://localhost:8080/"
        },
        "id": "YditAVPYI079",
        "outputId": "615c4612-e470-4e9d-9364-076157fb956d"
      },
      "execution_count": 11,
      "outputs": [
        {
          "output_type": "stream",
          "name": "stdout",
          "text": [
            "<class 'pandas.core.frame.DataFrame'>\n",
            "Int64Index: 48170 entries, 0 to 48169\n",
            "Data columns (total 3 columns):\n",
            " #   Column  Non-Null Count  Dtype  \n",
            "---  ------  --------------  -----  \n",
            " 0   date    48170 non-null  object \n",
            " 1   time    48170 non-null  object \n",
            " 2   temp    48170 non-null  float64\n",
            "dtypes: float64(1), object(2)\n",
            "memory usage: 1.5+ MB\n"
          ]
        }
      ]
    },
    {
      "cell_type": "code",
      "source": [
        "df['date']= pd.to_datetime(df['date'])\n",
        "df['time'] = pd.to_datetime(df['time'])\n",
        "\n",
        "df.info()"
      ],
      "metadata": {
        "colab": {
          "base_uri": "https://localhost:8080/"
        },
        "id": "6r2iQZpbJHFI",
        "outputId": "13f13150-6df8-424a-d042-b912ec444ec2"
      },
      "execution_count": 12,
      "outputs": [
        {
          "output_type": "stream",
          "name": "stdout",
          "text": [
            "<class 'pandas.core.frame.DataFrame'>\n",
            "Int64Index: 48170 entries, 0 to 48169\n",
            "Data columns (total 3 columns):\n",
            " #   Column  Non-Null Count  Dtype         \n",
            "---  ------  --------------  -----         \n",
            " 0   date    48170 non-null  datetime64[ns]\n",
            " 1   time    48170 non-null  datetime64[ns]\n",
            " 2   temp    48170 non-null  float64       \n",
            "dtypes: datetime64[ns](2), float64(1)\n",
            "memory usage: 1.5 MB\n"
          ]
        }
      ]
    },
    {
      "cell_type": "code",
      "source": [
        "df['day'] = df['date'].dt.dayofyear\n",
        "df['hour'] = df['time'].dt.hour\n",
        "df['minute'] = df['time'].dt.minute"
      ],
      "metadata": {
        "id": "Hi6aK7TIbXdH"
      },
      "execution_count": 13,
      "outputs": []
    },
    {
      "cell_type": "markdown",
      "source": [
        "### Splitting data"
      ],
      "metadata": {
        "id": "VGw1L_hm7yym"
      }
    },
    {
      "cell_type": "markdown",
      "source": [
        "Kita split data berdasarkan hari, 80% hari pertama menjadi data train dan sisanya menjadi data test."
      ],
      "metadata": {
        "id": "MijxwOeA7Ayu"
      }
    },
    {
      "cell_type": "code",
      "source": [
        "train_scale= 0.8\n",
        "threshold_days= len(df['date'].unique())*train_scale\n",
        "threshold_date= df['date'].min()+datetime.timedelta(days=threshold_days)\n",
        "\n",
        "train_df= df[df['date']<threshold_date]\n",
        "test_df= df[df['date']>=threshold_date]\n",
        "\n",
        "train_df"
      ],
      "metadata": {
        "colab": {
          "base_uri": "https://localhost:8080/",
          "height": 424
        },
        "id": "mKA5285HFRyk",
        "outputId": "22f21762-74bd-4cfb-d618-3e75014f3abf"
      },
      "execution_count": 14,
      "outputs": [
        {
          "output_type": "execute_result",
          "data": {
            "text/plain": [
              "            date                time    temp  day  hour  minute\n",
              "0     2013-02-20 2022-08-05 11:40:02  24.448   51    11      40\n",
              "1     2013-02-20 2022-08-05 12:00:03  24.448   51    12       0\n",
              "2     2013-02-20 2022-08-05 12:20:04  24.545   51    12      20\n",
              "3     2013-02-20 2022-08-05 12:40:05  24.448   51    12      40\n",
              "4     2013-02-20 2022-08-05 13:00:06  24.351   51    13       0\n",
              "...          ...                 ...     ...  ...   ...     ...\n",
              "38551 2014-08-09 2022-08-05 22:38:25  20.996  221    22      38\n",
              "38552 2014-08-09 2022-08-05 22:58:25  20.996  221    22      58\n",
              "38553 2014-08-09 2022-08-05 23:18:25  20.996  221    23      18\n",
              "38554 2014-08-09 2022-08-05 23:38:25  20.996  221    23      38\n",
              "38555 2014-08-09 2022-08-05 23:58:25  20.996  221    23      58\n",
              "\n",
              "[38556 rows x 6 columns]"
            ],
            "text/html": [
              "\n",
              "  <div id=\"df-e6e077dc-d3ae-42cd-9522-2db66c1a1ec3\">\n",
              "    <div class=\"colab-df-container\">\n",
              "      <div>\n",
              "<style scoped>\n",
              "    .dataframe tbody tr th:only-of-type {\n",
              "        vertical-align: middle;\n",
              "    }\n",
              "\n",
              "    .dataframe tbody tr th {\n",
              "        vertical-align: top;\n",
              "    }\n",
              "\n",
              "    .dataframe thead th {\n",
              "        text-align: right;\n",
              "    }\n",
              "</style>\n",
              "<table border=\"1\" class=\"dataframe\">\n",
              "  <thead>\n",
              "    <tr style=\"text-align: right;\">\n",
              "      <th></th>\n",
              "      <th>date</th>\n",
              "      <th>time</th>\n",
              "      <th>temp</th>\n",
              "      <th>day</th>\n",
              "      <th>hour</th>\n",
              "      <th>minute</th>\n",
              "    </tr>\n",
              "  </thead>\n",
              "  <tbody>\n",
              "    <tr>\n",
              "      <th>0</th>\n",
              "      <td>2013-02-20</td>\n",
              "      <td>2022-08-05 11:40:02</td>\n",
              "      <td>24.448</td>\n",
              "      <td>51</td>\n",
              "      <td>11</td>\n",
              "      <td>40</td>\n",
              "    </tr>\n",
              "    <tr>\n",
              "      <th>1</th>\n",
              "      <td>2013-02-20</td>\n",
              "      <td>2022-08-05 12:00:03</td>\n",
              "      <td>24.448</td>\n",
              "      <td>51</td>\n",
              "      <td>12</td>\n",
              "      <td>0</td>\n",
              "    </tr>\n",
              "    <tr>\n",
              "      <th>2</th>\n",
              "      <td>2013-02-20</td>\n",
              "      <td>2022-08-05 12:20:04</td>\n",
              "      <td>24.545</td>\n",
              "      <td>51</td>\n",
              "      <td>12</td>\n",
              "      <td>20</td>\n",
              "    </tr>\n",
              "    <tr>\n",
              "      <th>3</th>\n",
              "      <td>2013-02-20</td>\n",
              "      <td>2022-08-05 12:40:05</td>\n",
              "      <td>24.448</td>\n",
              "      <td>51</td>\n",
              "      <td>12</td>\n",
              "      <td>40</td>\n",
              "    </tr>\n",
              "    <tr>\n",
              "      <th>4</th>\n",
              "      <td>2013-02-20</td>\n",
              "      <td>2022-08-05 13:00:06</td>\n",
              "      <td>24.351</td>\n",
              "      <td>51</td>\n",
              "      <td>13</td>\n",
              "      <td>0</td>\n",
              "    </tr>\n",
              "    <tr>\n",
              "      <th>...</th>\n",
              "      <td>...</td>\n",
              "      <td>...</td>\n",
              "      <td>...</td>\n",
              "      <td>...</td>\n",
              "      <td>...</td>\n",
              "      <td>...</td>\n",
              "    </tr>\n",
              "    <tr>\n",
              "      <th>38551</th>\n",
              "      <td>2014-08-09</td>\n",
              "      <td>2022-08-05 22:38:25</td>\n",
              "      <td>20.996</td>\n",
              "      <td>221</td>\n",
              "      <td>22</td>\n",
              "      <td>38</td>\n",
              "    </tr>\n",
              "    <tr>\n",
              "      <th>38552</th>\n",
              "      <td>2014-08-09</td>\n",
              "      <td>2022-08-05 22:58:25</td>\n",
              "      <td>20.996</td>\n",
              "      <td>221</td>\n",
              "      <td>22</td>\n",
              "      <td>58</td>\n",
              "    </tr>\n",
              "    <tr>\n",
              "      <th>38553</th>\n",
              "      <td>2014-08-09</td>\n",
              "      <td>2022-08-05 23:18:25</td>\n",
              "      <td>20.996</td>\n",
              "      <td>221</td>\n",
              "      <td>23</td>\n",
              "      <td>18</td>\n",
              "    </tr>\n",
              "    <tr>\n",
              "      <th>38554</th>\n",
              "      <td>2014-08-09</td>\n",
              "      <td>2022-08-05 23:38:25</td>\n",
              "      <td>20.996</td>\n",
              "      <td>221</td>\n",
              "      <td>23</td>\n",
              "      <td>38</td>\n",
              "    </tr>\n",
              "    <tr>\n",
              "      <th>38555</th>\n",
              "      <td>2014-08-09</td>\n",
              "      <td>2022-08-05 23:58:25</td>\n",
              "      <td>20.996</td>\n",
              "      <td>221</td>\n",
              "      <td>23</td>\n",
              "      <td>58</td>\n",
              "    </tr>\n",
              "  </tbody>\n",
              "</table>\n",
              "<p>38556 rows × 6 columns</p>\n",
              "</div>\n",
              "      <button class=\"colab-df-convert\" onclick=\"convertToInteractive('df-e6e077dc-d3ae-42cd-9522-2db66c1a1ec3')\"\n",
              "              title=\"Convert this dataframe to an interactive table.\"\n",
              "              style=\"display:none;\">\n",
              "        \n",
              "  <svg xmlns=\"http://www.w3.org/2000/svg\" height=\"24px\"viewBox=\"0 0 24 24\"\n",
              "       width=\"24px\">\n",
              "    <path d=\"M0 0h24v24H0V0z\" fill=\"none\"/>\n",
              "    <path d=\"M18.56 5.44l.94 2.06.94-2.06 2.06-.94-2.06-.94-.94-2.06-.94 2.06-2.06.94zm-11 1L8.5 8.5l.94-2.06 2.06-.94-2.06-.94L8.5 2.5l-.94 2.06-2.06.94zm10 10l.94 2.06.94-2.06 2.06-.94-2.06-.94-.94-2.06-.94 2.06-2.06.94z\"/><path d=\"M17.41 7.96l-1.37-1.37c-.4-.4-.92-.59-1.43-.59-.52 0-1.04.2-1.43.59L10.3 9.45l-7.72 7.72c-.78.78-.78 2.05 0 2.83L4 21.41c.39.39.9.59 1.41.59.51 0 1.02-.2 1.41-.59l7.78-7.78 2.81-2.81c.8-.78.8-2.07 0-2.86zM5.41 20L4 18.59l7.72-7.72 1.47 1.35L5.41 20z\"/>\n",
              "  </svg>\n",
              "      </button>\n",
              "      \n",
              "  <style>\n",
              "    .colab-df-container {\n",
              "      display:flex;\n",
              "      flex-wrap:wrap;\n",
              "      gap: 12px;\n",
              "    }\n",
              "\n",
              "    .colab-df-convert {\n",
              "      background-color: #E8F0FE;\n",
              "      border: none;\n",
              "      border-radius: 50%;\n",
              "      cursor: pointer;\n",
              "      display: none;\n",
              "      fill: #1967D2;\n",
              "      height: 32px;\n",
              "      padding: 0 0 0 0;\n",
              "      width: 32px;\n",
              "    }\n",
              "\n",
              "    .colab-df-convert:hover {\n",
              "      background-color: #E2EBFA;\n",
              "      box-shadow: 0px 1px 2px rgba(60, 64, 67, 0.3), 0px 1px 3px 1px rgba(60, 64, 67, 0.15);\n",
              "      fill: #174EA6;\n",
              "    }\n",
              "\n",
              "    [theme=dark] .colab-df-convert {\n",
              "      background-color: #3B4455;\n",
              "      fill: #D2E3FC;\n",
              "    }\n",
              "\n",
              "    [theme=dark] .colab-df-convert:hover {\n",
              "      background-color: #434B5C;\n",
              "      box-shadow: 0px 1px 3px 1px rgba(0, 0, 0, 0.15);\n",
              "      filter: drop-shadow(0px 1px 2px rgba(0, 0, 0, 0.3));\n",
              "      fill: #FFFFFF;\n",
              "    }\n",
              "  </style>\n",
              "\n",
              "      <script>\n",
              "        const buttonEl =\n",
              "          document.querySelector('#df-e6e077dc-d3ae-42cd-9522-2db66c1a1ec3 button.colab-df-convert');\n",
              "        buttonEl.style.display =\n",
              "          google.colab.kernel.accessAllowed ? 'block' : 'none';\n",
              "\n",
              "        async function convertToInteractive(key) {\n",
              "          const element = document.querySelector('#df-e6e077dc-d3ae-42cd-9522-2db66c1a1ec3');\n",
              "          const dataTable =\n",
              "            await google.colab.kernel.invokeFunction('convertToInteractive',\n",
              "                                                     [key], {});\n",
              "          if (!dataTable) return;\n",
              "\n",
              "          const docLinkHtml = 'Like what you see? Visit the ' +\n",
              "            '<a target=\"_blank\" href=https://colab.research.google.com/notebooks/data_table.ipynb>data table notebook</a>'\n",
              "            + ' to learn more about interactive tables.';\n",
              "          element.innerHTML = '';\n",
              "          dataTable['output_type'] = 'display_data';\n",
              "          await google.colab.output.renderOutput(dataTable, element);\n",
              "          const docLink = document.createElement('div');\n",
              "          docLink.innerHTML = docLinkHtml;\n",
              "          element.appendChild(docLink);\n",
              "        }\n",
              "      </script>\n",
              "    </div>\n",
              "  </div>\n",
              "  "
            ]
          },
          "metadata": {},
          "execution_count": 14
        }
      ]
    },
    {
      "cell_type": "markdown",
      "source": [
        "Menghapus kolom `date` dan `time` karena kita tidak membutuhkannya lagi."
      ],
      "metadata": {
        "id": "LUt2mjza7f6N"
      }
    },
    {
      "cell_type": "code",
      "source": [
        "df= df.drop(['date', 'time'], axis=1)\n",
        "train_df= train_df.drop(['date', 'time'], axis=1)\n",
        "test_df= test_df.drop(['date', 'time'], axis=1)\n",
        "\n",
        "train_df.head()"
      ],
      "metadata": {
        "colab": {
          "base_uri": "https://localhost:8080/",
          "height": 206
        },
        "id": "3uzsRCrsIRKe",
        "outputId": "d7e1f2f9-da63-4e23-ac3e-5dc2782387ca"
      },
      "execution_count": 15,
      "outputs": [
        {
          "output_type": "execute_result",
          "data": {
            "text/plain": [
              "     temp  day  hour  minute\n",
              "0  24.448   51    11      40\n",
              "1  24.448   51    12       0\n",
              "2  24.545   51    12      20\n",
              "3  24.448   51    12      40\n",
              "4  24.351   51    13       0"
            ],
            "text/html": [
              "\n",
              "  <div id=\"df-761bb958-c7ca-4dcd-85e0-33d81b10a247\">\n",
              "    <div class=\"colab-df-container\">\n",
              "      <div>\n",
              "<style scoped>\n",
              "    .dataframe tbody tr th:only-of-type {\n",
              "        vertical-align: middle;\n",
              "    }\n",
              "\n",
              "    .dataframe tbody tr th {\n",
              "        vertical-align: top;\n",
              "    }\n",
              "\n",
              "    .dataframe thead th {\n",
              "        text-align: right;\n",
              "    }\n",
              "</style>\n",
              "<table border=\"1\" class=\"dataframe\">\n",
              "  <thead>\n",
              "    <tr style=\"text-align: right;\">\n",
              "      <th></th>\n",
              "      <th>temp</th>\n",
              "      <th>day</th>\n",
              "      <th>hour</th>\n",
              "      <th>minute</th>\n",
              "    </tr>\n",
              "  </thead>\n",
              "  <tbody>\n",
              "    <tr>\n",
              "      <th>0</th>\n",
              "      <td>24.448</td>\n",
              "      <td>51</td>\n",
              "      <td>11</td>\n",
              "      <td>40</td>\n",
              "    </tr>\n",
              "    <tr>\n",
              "      <th>1</th>\n",
              "      <td>24.448</td>\n",
              "      <td>51</td>\n",
              "      <td>12</td>\n",
              "      <td>0</td>\n",
              "    </tr>\n",
              "    <tr>\n",
              "      <th>2</th>\n",
              "      <td>24.545</td>\n",
              "      <td>51</td>\n",
              "      <td>12</td>\n",
              "      <td>20</td>\n",
              "    </tr>\n",
              "    <tr>\n",
              "      <th>3</th>\n",
              "      <td>24.448</td>\n",
              "      <td>51</td>\n",
              "      <td>12</td>\n",
              "      <td>40</td>\n",
              "    </tr>\n",
              "    <tr>\n",
              "      <th>4</th>\n",
              "      <td>24.351</td>\n",
              "      <td>51</td>\n",
              "      <td>13</td>\n",
              "      <td>0</td>\n",
              "    </tr>\n",
              "  </tbody>\n",
              "</table>\n",
              "</div>\n",
              "      <button class=\"colab-df-convert\" onclick=\"convertToInteractive('df-761bb958-c7ca-4dcd-85e0-33d81b10a247')\"\n",
              "              title=\"Convert this dataframe to an interactive table.\"\n",
              "              style=\"display:none;\">\n",
              "        \n",
              "  <svg xmlns=\"http://www.w3.org/2000/svg\" height=\"24px\"viewBox=\"0 0 24 24\"\n",
              "       width=\"24px\">\n",
              "    <path d=\"M0 0h24v24H0V0z\" fill=\"none\"/>\n",
              "    <path d=\"M18.56 5.44l.94 2.06.94-2.06 2.06-.94-2.06-.94-.94-2.06-.94 2.06-2.06.94zm-11 1L8.5 8.5l.94-2.06 2.06-.94-2.06-.94L8.5 2.5l-.94 2.06-2.06.94zm10 10l.94 2.06.94-2.06 2.06-.94-2.06-.94-.94-2.06-.94 2.06-2.06.94z\"/><path d=\"M17.41 7.96l-1.37-1.37c-.4-.4-.92-.59-1.43-.59-.52 0-1.04.2-1.43.59L10.3 9.45l-7.72 7.72c-.78.78-.78 2.05 0 2.83L4 21.41c.39.39.9.59 1.41.59.51 0 1.02-.2 1.41-.59l7.78-7.78 2.81-2.81c.8-.78.8-2.07 0-2.86zM5.41 20L4 18.59l7.72-7.72 1.47 1.35L5.41 20z\"/>\n",
              "  </svg>\n",
              "      </button>\n",
              "      \n",
              "  <style>\n",
              "    .colab-df-container {\n",
              "      display:flex;\n",
              "      flex-wrap:wrap;\n",
              "      gap: 12px;\n",
              "    }\n",
              "\n",
              "    .colab-df-convert {\n",
              "      background-color: #E8F0FE;\n",
              "      border: none;\n",
              "      border-radius: 50%;\n",
              "      cursor: pointer;\n",
              "      display: none;\n",
              "      fill: #1967D2;\n",
              "      height: 32px;\n",
              "      padding: 0 0 0 0;\n",
              "      width: 32px;\n",
              "    }\n",
              "\n",
              "    .colab-df-convert:hover {\n",
              "      background-color: #E2EBFA;\n",
              "      box-shadow: 0px 1px 2px rgba(60, 64, 67, 0.3), 0px 1px 3px 1px rgba(60, 64, 67, 0.15);\n",
              "      fill: #174EA6;\n",
              "    }\n",
              "\n",
              "    [theme=dark] .colab-df-convert {\n",
              "      background-color: #3B4455;\n",
              "      fill: #D2E3FC;\n",
              "    }\n",
              "\n",
              "    [theme=dark] .colab-df-convert:hover {\n",
              "      background-color: #434B5C;\n",
              "      box-shadow: 0px 1px 3px 1px rgba(0, 0, 0, 0.15);\n",
              "      filter: drop-shadow(0px 1px 2px rgba(0, 0, 0, 0.3));\n",
              "      fill: #FFFFFF;\n",
              "    }\n",
              "  </style>\n",
              "\n",
              "      <script>\n",
              "        const buttonEl =\n",
              "          document.querySelector('#df-761bb958-c7ca-4dcd-85e0-33d81b10a247 button.colab-df-convert');\n",
              "        buttonEl.style.display =\n",
              "          google.colab.kernel.accessAllowed ? 'block' : 'none';\n",
              "\n",
              "        async function convertToInteractive(key) {\n",
              "          const element = document.querySelector('#df-761bb958-c7ca-4dcd-85e0-33d81b10a247');\n",
              "          const dataTable =\n",
              "            await google.colab.kernel.invokeFunction('convertToInteractive',\n",
              "                                                     [key], {});\n",
              "          if (!dataTable) return;\n",
              "\n",
              "          const docLinkHtml = 'Like what you see? Visit the ' +\n",
              "            '<a target=\"_blank\" href=https://colab.research.google.com/notebooks/data_table.ipynb>data table notebook</a>'\n",
              "            + ' to learn more about interactive tables.';\n",
              "          element.innerHTML = '';\n",
              "          dataTable['output_type'] = 'display_data';\n",
              "          await google.colab.output.renderOutput(dataTable, element);\n",
              "          const docLink = document.createElement('div');\n",
              "          docLink.innerHTML = docLinkHtml;\n",
              "          element.appendChild(docLink);\n",
              "        }\n",
              "      </script>\n",
              "    </div>\n",
              "  </div>\n",
              "  "
            ]
          },
          "metadata": {},
          "execution_count": 15
        }
      ]
    },
    {
      "cell_type": "markdown",
      "source": [
        "### Normalisasi"
      ],
      "metadata": {
        "id": "AK51h9fN7sMm"
      }
    },
    {
      "cell_type": "code",
      "source": [
        "scaler = MinMaxScaler()\n",
        "\n",
        "scaler.fit(df)\n",
        "train_data = scaler.transform(train_df)\n",
        "\n",
        "train_data"
      ],
      "metadata": {
        "colab": {
          "base_uri": "https://localhost:8080/"
        },
        "id": "MD_bXTrdd3h1",
        "outputId": "18f9ecd2-1b36-4254-f81f-0317424beb91"
      },
      "execution_count": 16,
      "outputs": [
        {
          "output_type": "execute_result",
          "data": {
            "text/plain": [
              "array([[0.67077728, 0.13736264, 0.47826087, 0.6779661 ],\n",
              "       [0.67077728, 0.13736264, 0.52173913, 0.        ],\n",
              "       [0.67802691, 0.13736264, 0.52173913, 0.33898305],\n",
              "       ...,\n",
              "       [0.41278027, 0.6043956 , 1.        , 0.30508475],\n",
              "       [0.41278027, 0.6043956 , 1.        , 0.6440678 ],\n",
              "       [0.41278027, 0.6043956 , 1.        , 0.98305085]])"
            ]
          },
          "metadata": {},
          "execution_count": 16
        }
      ]
    },
    {
      "cell_type": "markdown",
      "source": [
        "### Sliding Window"
      ],
      "metadata": {
        "id": "WX-iTBcD8FFK"
      }
    },
    {
      "cell_type": "code",
      "source": [
        "window_size= 72\n",
        "\n",
        "x_train= []\n",
        "y_train= []\n",
        "\n",
        "for i in range(window_size, len(train_data)):\n",
        "    x_train.append(train_data[i-window_size:i])\n",
        "    y_train.append(train_data[i, 0])\n",
        "\n",
        "x_train[0][:5]"
      ],
      "metadata": {
        "colab": {
          "base_uri": "https://localhost:8080/"
        },
        "id": "J1k4gatfeZPh",
        "outputId": "8673ea54-e5d7-422b-f91b-301a006967ce"
      },
      "execution_count": 17,
      "outputs": [
        {
          "output_type": "execute_result",
          "data": {
            "text/plain": [
              "array([[0.67077728, 0.13736264, 0.47826087, 0.6779661 ],\n",
              "       [0.67077728, 0.13736264, 0.52173913, 0.        ],\n",
              "       [0.67802691, 0.13736264, 0.52173913, 0.33898305],\n",
              "       [0.67077728, 0.13736264, 0.52173913, 0.6779661 ],\n",
              "       [0.66352765, 0.13736264, 0.56521739, 0.        ]])"
            ]
          },
          "metadata": {},
          "execution_count": 17
        }
      ]
    },
    {
      "cell_type": "code",
      "source": [
        "past_days = train_df.tail(window_size)\n",
        "test_df = past_days.append(test_df, ignore_index=True)\n",
        "test_data = scaler.transform(test_df)\n",
        "\n",
        "x_test= []\n",
        "y_test= []\n",
        "\n",
        "for i in range(window_size, test_df.shape[0]):\n",
        "    x_test.append(test_data[i-window_size:i])\n",
        "    y_test.append(test_data[i, 0])"
      ],
      "metadata": {
        "id": "tbMXUaAIoOO7"
      },
      "execution_count": 18,
      "outputs": []
    },
    {
      "cell_type": "code",
      "source": [
        "x_train, y_train= np.array(x_train), np.array(y_train)\n",
        "x_test, y_test= np.array(x_test), np.array(y_test)\n",
        "\n",
        "x_train.shape, x_test.shape"
      ],
      "metadata": {
        "colab": {
          "base_uri": "https://localhost:8080/"
        },
        "id": "d-a-EuibferW",
        "outputId": "e6896bab-ba06-40d8-b11b-1c4a90a02229"
      },
      "execution_count": 19,
      "outputs": [
        {
          "output_type": "execute_result",
          "data": {
            "text/plain": [
              "((38484, 72, 4), (9614, 72, 4))"
            ]
          },
          "metadata": {},
          "execution_count": 19
        }
      ]
    },
    {
      "cell_type": "markdown",
      "source": [
        "# Modeling"
      ],
      "metadata": {
        "id": "D3ynKyxI8H-D"
      }
    },
    {
      "cell_type": "code",
      "source": [
        "model= keras.Sequential([\n",
        "    keras.layers.Input(x_train.shape[1:]),\n",
        "    keras.layers.LSTM(256, 'tanh', return_sequences= True),\n",
        "    keras.layers.Dropout(0.2),\n",
        "    keras.layers.LSTM(256, 'tanh'),\n",
        "    keras.layers.Dropout(0.2),\n",
        "    keras.layers.Dense(1)\n",
        "])\n",
        "\n",
        "optimizer= keras.optimizers.Adam(learning_rate=1e-03)\n",
        "loss=tf.keras.losses.Huber()"
      ],
      "metadata": {
        "id": "Aae3ifCPfgAw"
      },
      "execution_count": 20,
      "outputs": []
    },
    {
      "cell_type": "code",
      "source": [
        "model.compile(loss=loss,\n",
        "              optimizer=optimizer,\n",
        "              metrics=[\"mae\"])\n",
        "\n",
        "reduce_lr= keras.callbacks.ReduceLROnPlateau(monitor='mae', factor= 0.5, patience=1, min_lr=1e-5, min_delta=5e-4)\n",
        "early_stopping= keras.callbacks.EarlyStopping(monitor='mae', min_delta=1e-5, patience=10, mode='auto')"
      ],
      "metadata": {
        "id": "QWuP3AN-iiF4"
      },
      "execution_count": 21,
      "outputs": []
    },
    {
      "cell_type": "code",
      "source": [
        "history = model.fit(x_train, y_train, epochs=30, batch_size=64, validation_data=(x_test, y_test), callbacks=[reduce_lr, early_stopping])"
      ],
      "metadata": {
        "colab": {
          "base_uri": "https://localhost:8080/"
        },
        "id": "1R-GunWHjBUS",
        "outputId": "ea004eed-ede7-440b-8eab-82f2ffc1f366"
      },
      "execution_count": 22,
      "outputs": [
        {
          "output_type": "stream",
          "name": "stdout",
          "text": [
            "Epoch 1/30\n",
            "602/602 [==============================] - 15s 17ms/step - loss: 0.0015 - mae: 0.0329 - val_loss: 1.8502e-04 - val_mae: 0.0149 - lr: 0.0010\n",
            "Epoch 2/30\n",
            "602/602 [==============================] - 10s 16ms/step - loss: 7.0473e-04 - mae: 0.0256 - val_loss: 7.7060e-05 - val_mae: 0.0088 - lr: 0.0010\n",
            "Epoch 3/30\n",
            "602/602 [==============================] - 9s 15ms/step - loss: 5.8638e-04 - mae: 0.0231 - val_loss: 1.5302e-04 - val_mae: 0.0157 - lr: 0.0010\n",
            "Epoch 4/30\n",
            "602/602 [==============================] - 10s 16ms/step - loss: 5.2528e-04 - mae: 0.0216 - val_loss: 6.0438e-05 - val_mae: 0.0079 - lr: 0.0010\n",
            "Epoch 5/30\n",
            "602/602 [==============================] - 9s 16ms/step - loss: 4.9495e-04 - mae: 0.0207 - val_loss: 4.0134e-05 - val_mae: 0.0065 - lr: 0.0010\n",
            "Epoch 6/30\n",
            "602/602 [==============================] - 9s 16ms/step - loss: 4.6289e-04 - mae: 0.0198 - val_loss: 1.3705e-04 - val_mae: 0.0136 - lr: 0.0010\n",
            "Epoch 7/30\n",
            "602/602 [==============================] - 9s 16ms/step - loss: 4.3579e-04 - mae: 0.0188 - val_loss: 5.8061e-05 - val_mae: 0.0089 - lr: 0.0010\n",
            "Epoch 8/30\n",
            "602/602 [==============================] - 10s 16ms/step - loss: 4.1720e-04 - mae: 0.0182 - val_loss: 1.9480e-04 - val_mae: 0.0167 - lr: 0.0010\n",
            "Epoch 9/30\n",
            "602/602 [==============================] - 9s 16ms/step - loss: 3.9723e-04 - mae: 0.0175 - val_loss: 2.2594e-04 - val_mae: 0.0188 - lr: 0.0010\n",
            "Epoch 10/30\n",
            "602/602 [==============================] - 10s 17ms/step - loss: 3.9579e-04 - mae: 0.0173 - val_loss: 3.2809e-05 - val_mae: 0.0058 - lr: 0.0010\n",
            "Epoch 11/30\n",
            "602/602 [==============================] - 10s 16ms/step - loss: 3.6062e-04 - mae: 0.0158 - val_loss: 2.8826e-05 - val_mae: 0.0053 - lr: 5.0000e-04\n",
            "Epoch 12/30\n",
            "602/602 [==============================] - 11s 18ms/step - loss: 3.5526e-04 - mae: 0.0156 - val_loss: 4.6816e-05 - val_mae: 0.0071 - lr: 5.0000e-04\n",
            "Epoch 13/30\n",
            "602/602 [==============================] - 10s 16ms/step - loss: 3.3873e-04 - mae: 0.0149 - val_loss: 5.3511e-05 - val_mae: 0.0076 - lr: 2.5000e-04\n",
            "Epoch 14/30\n",
            "602/602 [==============================] - 10s 17ms/step - loss: 3.3540e-04 - mae: 0.0148 - val_loss: 3.7397e-05 - val_mae: 0.0060 - lr: 2.5000e-04\n",
            "Epoch 15/30\n",
            "602/602 [==============================] - 10s 16ms/step - loss: 3.3097e-04 - mae: 0.0144 - val_loss: 4.1363e-05 - val_mae: 0.0065 - lr: 1.2500e-04\n",
            "Epoch 16/30\n",
            "602/602 [==============================] - 10s 17ms/step - loss: 3.2761e-04 - mae: 0.0143 - val_loss: 2.9575e-05 - val_mae: 0.0057 - lr: 1.2500e-04\n",
            "Epoch 17/30\n",
            "602/602 [==============================] - 10s 16ms/step - loss: 3.2537e-04 - mae: 0.0141 - val_loss: 3.1500e-05 - val_mae: 0.0060 - lr: 6.2500e-05\n",
            "Epoch 18/30\n",
            "602/602 [==============================] - 10s 16ms/step - loss: 3.2102e-04 - mae: 0.0139 - val_loss: 2.8082e-05 - val_mae: 0.0048 - lr: 3.1250e-05\n",
            "Epoch 19/30\n",
            "602/602 [==============================] - 10s 16ms/step - loss: 3.1819e-04 - mae: 0.0138 - val_loss: 3.6386e-05 - val_mae: 0.0059 - lr: 1.5625e-05\n",
            "Epoch 20/30\n",
            "602/602 [==============================] - 10s 17ms/step - loss: 3.1873e-04 - mae: 0.0138 - val_loss: 3.3536e-05 - val_mae: 0.0056 - lr: 1.5625e-05\n",
            "Epoch 21/30\n",
            "602/602 [==============================] - 10s 16ms/step - loss: 3.1907e-04 - mae: 0.0138 - val_loss: 2.6232e-05 - val_mae: 0.0045 - lr: 1.0000e-05\n",
            "Epoch 22/30\n",
            "602/602 [==============================] - 10s 17ms/step - loss: 3.1938e-04 - mae: 0.0138 - val_loss: 2.9664e-05 - val_mae: 0.0050 - lr: 1.0000e-05\n",
            "Epoch 23/30\n",
            "602/602 [==============================] - 10s 17ms/step - loss: 3.1987e-04 - mae: 0.0138 - val_loss: 2.5017e-05 - val_mae: 0.0044 - lr: 1.0000e-05\n",
            "Epoch 24/30\n",
            "602/602 [==============================] - 10s 17ms/step - loss: 3.1561e-04 - mae: 0.0137 - val_loss: 2.6615e-05 - val_mae: 0.0046 - lr: 1.0000e-05\n",
            "Epoch 25/30\n",
            "602/602 [==============================] - 10s 17ms/step - loss: 3.1694e-04 - mae: 0.0137 - val_loss: 2.7470e-05 - val_mae: 0.0047 - lr: 1.0000e-05\n",
            "Epoch 26/30\n",
            "602/602 [==============================] - 10s 17ms/step - loss: 3.1523e-04 - mae: 0.0136 - val_loss: 2.6971e-05 - val_mae: 0.0046 - lr: 1.0000e-05\n",
            "Epoch 27/30\n",
            "602/602 [==============================] - 10s 16ms/step - loss: 3.1495e-04 - mae: 0.0136 - val_loss: 2.6527e-05 - val_mae: 0.0046 - lr: 1.0000e-05\n",
            "Epoch 28/30\n",
            "602/602 [==============================] - 10s 16ms/step - loss: 3.1512e-04 - mae: 0.0137 - val_loss: 2.9117e-05 - val_mae: 0.0050 - lr: 1.0000e-05\n",
            "Epoch 29/30\n",
            "602/602 [==============================] - 10s 16ms/step - loss: 3.1574e-04 - mae: 0.0137 - val_loss: 2.5414e-05 - val_mae: 0.0044 - lr: 1.0000e-05\n",
            "Epoch 30/30\n",
            "602/602 [==============================] - 10s 16ms/step - loss: 3.1674e-04 - mae: 0.0137 - val_loss: 3.4788e-05 - val_mae: 0.0058 - lr: 1.0000e-05\n"
          ]
        }
      ]
    },
    {
      "cell_type": "markdown",
      "source": [
        "### Plot MAE dan Loss selama proses pelatihan"
      ],
      "metadata": {
        "id": "VUhIHFnc8LIV"
      }
    },
    {
      "cell_type": "code",
      "source": [
        "plt.style.use('seaborn')\n",
        "\n",
        "loss= history.history['loss']\n",
        "val_loss= history.history['val_loss']\n",
        "\n",
        "mae= history.history['mae']\n",
        "val_mae= history.history['val_mae']\n",
        "\n",
        "plt.figure(figsize=(18, 4))\n",
        "\n",
        "plt.subplot(1, 2, 1)\n",
        "plt.title('Loss')\n",
        "plt.xlabel('Epoch')\n",
        "plt.ylabel('Loss')\n",
        "plt.plot(loss, label='Training set')\n",
        "plt.plot(val_loss, label='Test set', linestyle='--')\n",
        "plt.legend()\n",
        "\n",
        "plt.subplot(1, 2, 2)\n",
        "plt.title('Mae')\n",
        "plt.xlabel('Epoch')\n",
        "plt.ylabel('mae')\n",
        "plt.plot(mae, label='Training set')\n",
        "plt.plot(val_mae, label='Test set', linestyle='--')\n",
        "plt.legend()\n",
        "\n",
        "plt.show()"
      ],
      "metadata": {
        "colab": {
          "base_uri": "https://localhost:8080/",
          "height": 310
        },
        "id": "iy0w4SUv3rUt",
        "outputId": "47c2109b-33ee-4eb7-fc56-f8ff85ca6af1"
      },
      "execution_count": 23,
      "outputs": [
        {
          "output_type": "display_data",
          "data": {
            "text/plain": [
              "<Figure size 1296x288 with 2 Axes>"
            ],
            "image/png": "[encoded data removed]"
          },
          "metadata": {}
        }
      ]
    },
    {
      "cell_type": "markdown",
      "source": [
        "### Plot perbandingan suhu yang diprediksi dengan suhu sebenarnya"
      ],
      "metadata": {
        "id": "5Ojujnyv8Ox2"
      }
    },
    {
      "cell_type": "code",
      "source": [
        "y_pred= model.predict(x_test)"
      ],
      "metadata": {
        "id": "g83oiCob0jbr"
      },
      "execution_count": 24,
      "outputs": []
    },
    {
      "cell_type": "code",
      "source": [
        "fig = plt.figure(figsize=(16,14))\n",
        "\n",
        "ax_1 = fig.add_subplot(211)\n",
        "ax_2 = fig.add_subplot(212)\n",
        "\n",
        "ax_1.plot(np.arange(len(y_train), len(y_train)+len(y_test)), y_test, label = 'tes suhu', linewidth= 2)\n",
        "ax_1.plot(np.arange(len(y_train), len(y_train)+len(y_test)), y_pred, label = 'prediksi suhu', linewidth= 2)\n",
        "\n",
        "ax_1.set_title('Perbandingan Suhu yang diprediksi')\n",
        "ax_1.set_xlabel('Waktu')\n",
        "ax_1.set_ylabel('Suhu (Celcius)')\n",
        "ax_1.legend()\n",
        "\n",
        "ax_2.plot(np.arange(len(y_train), len(y_train)+len(y_test)), y_test, label = 'tes suhu', linewidth= 1)\n",
        "ax_2.plot(np.arange(len(y_train), len(y_train)+len(y_test)), y_pred, label = 'prediksi suhu', linewidth= 1)\n",
        "ax_2.plot(np.arange(len(y_train)), y_train, label = 'data latih suhu', linewidth= 1)\n",
        "\n",
        "ax_2.set_title('Prediksi Suhu keseluruhan')\n",
        "ax_2.set_xlabel('Waktu')\n",
        "ax_2.set_ylabel('Suhu (Celcius)')\n",
        "ax_2.legend()\n",
        "\n",
        "plt.subplots_adjust(hspace = 0.2)\n",
        "plt.show()"
      ],
      "metadata": {
        "colab": {
          "base_uri": "https://localhost:8080/",
          "height": 893
        },
        "id": "qhXG8RUN1J_9",
        "outputId": "71311c28-4d7f-49d5-e5f8-5d9d2d906734"
      },
      "execution_count": 25,
      "outputs": [
        {
          "output_type": "display_data",
          "data": {
            "text/plain": [
              "<Figure size 1152x1008 with 2 Axes>"
            ],
            "image/png": "[encoded data removed]"
          },
          "metadata": {}
        }
      ]
    }
  ]
}