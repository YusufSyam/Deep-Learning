{
  "nbformat": 4,
  "nbformat_minor": 0,
  "metadata": {
    "colab": {
      "name": "Submission_Machine_Learning-NLP.ipynb",
      "provenance": [],
      "collapsed_sections": []
    },
    "kernelspec": {
      "name": "python3",
      "display_name": "Python 3"
    },
    "language_info": {
      "name": "python"
    },
    "accelerator": "GPU",
    "gpuClass": "standard"
  },
  "cells": [
    {
      "cell_type": "code",
      "source": [
        "import pandas as pd\n",
        "from sklearn.model_selection import train_test_split\n",
        "\n",
        "from tensorflow.keras.preprocessing.text import Tokenizer\n",
        "from tensorflow.keras.preprocessing.sequence import pad_sequences\n",
        "\n",
        "import tensorflow as tf\n",
        "from tensorflow import keras\n",
        "from tensorflow.keras import layers\n",
        "\n",
        "from matplotlib import pyplot as plt\n",
        "import os"
      ],
      "metadata": {
        "id": "2-HvFRbNvHPG"
      },
      "execution_count": 6,
      "outputs": []
    },
    {
      "cell_type": "markdown",
      "source": [
        "# Download dan ekstrak dataset (dari kaggle)"
      ],
      "metadata": {
        "id": "X0A3ZkkO9eXD"
      }
    },
    {
      "cell_type": "markdown",
      "source": [
        "Kode di bawah dapat berjalan jika terdapat file `kaggle.json` yang berisi username dan token dari kaggle API"
      ],
      "metadata": {
        "id": "_50KpKgn9kSL"
      }
    },
    {
      "cell_type": "code",
      "source": [
        "!mkdir ~/.kaggle\n",
        "!cp kaggle.json ~/.kaggle/\n",
        "!chmod 600 ~/.kaggle/kaggle.json"
      ],
      "metadata": {
        "id": "okqK42HmtkDj",
        "colab": {
          "base_uri": "https://localhost:8080/"
        },
        "outputId": "f168e6e1-f4bd-48d0-af9c-6be2f14664fa"
      },
      "execution_count": 7,
      "outputs": [
        {
          "output_type": "stream",
          "name": "stdout",
          "text": [
            "mkdir: cannot create directory ‘/root/.kaggle’: File exists\n"
          ]
        }
      ]
    },
    {
      "cell_type": "markdown",
      "source": [
        "Download dataset"
      ],
      "metadata": {
        "id": "7mOWutyH9vbK"
      }
    },
    {
      "cell_type": "code",
      "execution_count": 8,
      "metadata": {
        "id": "KqgknEGms5kv",
        "colab": {
          "base_uri": "https://localhost:8080/"
        },
        "outputId": "89787ea9-af90-4001-ec19-b6c564610b66"
      },
      "outputs": [
        {
          "output_type": "stream",
          "name": "stdout",
          "text": [
            "Downloading emotions-dataset-for-nlp.zip to /content\n",
            "\r  0% 0.00/721k [00:00<?, ?B/s]\n",
            "\r100% 721k/721k [00:00<00:00, 144MB/s]\n"
          ]
        }
      ],
      "source": [
        "!kaggle datasets download -d praveengovi/emotions-dataset-for-nlp"
      ]
    },
    {
      "cell_type": "markdown",
      "source": [
        "Ekstrak dataset"
      ],
      "metadata": {
        "id": "NO9ZPcJ49wml"
      }
    },
    {
      "cell_type": "code",
      "source": [
        "!unzip \"/content/emotions-dataset-for-nlp.zip\" -d \"/content/emotions-dataset-for-nlp\""
      ],
      "metadata": {
        "colab": {
          "base_uri": "https://localhost:8080/"
        },
        "id": "ZGYBnCihuMAh",
        "outputId": "c011be9f-1491-4baa-8fd4-b906a9fffb0c"
      },
      "execution_count": 9,
      "outputs": [
        {
          "output_type": "stream",
          "name": "stdout",
          "text": [
            "Archive:  /content/emotions-dataset-for-nlp.zip\n",
            "  inflating: /content/emotions-dataset-for-nlp/test.txt  \n",
            "  inflating: /content/emotions-dataset-for-nlp/train.txt  \n",
            "  inflating: /content/emotions-dataset-for-nlp/val.txt  \n"
          ]
        }
      ]
    },
    {
      "cell_type": "markdown",
      "source": [
        "# Load dataset menjadi pandas dataframe"
      ],
      "metadata": {
        "id": "qI_cRZXy95eM"
      }
    },
    {
      "cell_type": "code",
      "source": [
        "BASE_DIR= '/content/emotions-dataset-for-nlp'\n",
        "\n",
        "os.listdir(BASE_DIR)"
      ],
      "metadata": {
        "colab": {
          "base_uri": "https://localhost:8080/"
        },
        "id": "oEBYmcwVxQoa",
        "outputId": "c697187d-13a6-4b6d-a396-cf6e1a1584d0"
      },
      "execution_count": 10,
      "outputs": [
        {
          "output_type": "execute_result",
          "data": {
            "text/plain": [
              "['val.txt', 'train.txt', 'test.txt']"
            ]
          },
          "metadata": {},
          "execution_count": 10
        }
      ]
    },
    {
      "cell_type": "markdown",
      "source": [
        "Dataset terbagi menjadi 3, jadi terlebih dahulu kita menggabungkannya menjadi satu lalu barulah diload sebagai pandas dataframe."
      ],
      "metadata": {
        "id": "jtQm2JJL-J0G"
      }
    },
    {
      "cell_type": "code",
      "source": [
        "df= pd.concat([pd.read_csv(os.path.join(BASE_DIR, i), header=None, delimiter=';') for i in os.listdir(BASE_DIR)])\n",
        "df.columns= ['text', 'emotion']\n",
        "\n",
        "df.head()"
      ],
      "metadata": {
        "colab": {
          "base_uri": "https://localhost:8080/",
          "height": 206
        },
        "id": "W61_3rJhvCXV",
        "outputId": "f11f568c-175e-45f5-9bc5-dda2a6059bcb"
      },
      "execution_count": 11,
      "outputs": [
        {
          "output_type": "execute_result",
          "data": {
            "text/plain": [
              "                                                text  emotion\n",
              "0  im feeling quite sad and sorry for myself but ...  sadness\n",
              "1  i feel like i am still looking at a blank canv...  sadness\n",
              "2                     i feel like a faithful servant     love\n",
              "3                  i am just feeling cranky and blue    anger\n",
              "4  i can have for a treat or if i am feeling festive      joy"
            ],
            "text/html": [
              "\n",
              "  <div id=\"df-0c50e0d1-7cd2-433e-ad31-65b62dd164f0\">\n",
              "    <div class=\"colab-df-container\">\n",
              "      <div>\n",
              "<style scoped>\n",
              "    .dataframe tbody tr th:only-of-type {\n",
              "        vertical-align: middle;\n",
              "    }\n",
              "\n",
              "    .dataframe tbody tr th {\n",
              "        vertical-align: top;\n",
              "    }\n",
              "\n",
              "    .dataframe thead th {\n",
              "        text-align: right;\n",
              "    }\n",
              "</style>\n",
              "<table border=\"1\" class=\"dataframe\">\n",
              "  <thead>\n",
              "    <tr style=\"text-align: right;\">\n",
              "      <th></th>\n",
              "      <th>text</th>\n",
              "      <th>emotion</th>\n",
              "    </tr>\n",
              "  </thead>\n",
              "  <tbody>\n",
              "    <tr>\n",
              "      <th>0</th>\n",
              "      <td>im feeling quite sad and sorry for myself but ...</td>\n",
              "      <td>sadness</td>\n",
              "    </tr>\n",
              "    <tr>\n",
              "      <th>1</th>\n",
              "      <td>i feel like i am still looking at a blank canv...</td>\n",
              "      <td>sadness</td>\n",
              "    </tr>\n",
              "    <tr>\n",
              "      <th>2</th>\n",
              "      <td>i feel like a faithful servant</td>\n",
              "      <td>love</td>\n",
              "    </tr>\n",
              "    <tr>\n",
              "      <th>3</th>\n",
              "      <td>i am just feeling cranky and blue</td>\n",
              "      <td>anger</td>\n",
              "    </tr>\n",
              "    <tr>\n",
              "      <th>4</th>\n",
              "      <td>i can have for a treat or if i am feeling festive</td>\n",
              "      <td>joy</td>\n",
              "    </tr>\n",
              "  </tbody>\n",
              "</table>\n",
              "</div>\n",
              "      <button class=\"colab-df-convert\" onclick=\"convertToInteractive('df-0c50e0d1-7cd2-433e-ad31-65b62dd164f0')\"\n",
              "              title=\"Convert this dataframe to an interactive table.\"\n",
              "              style=\"display:none;\">\n",
              "        \n",
              "  <svg xmlns=\"http://www.w3.org/2000/svg\" height=\"24px\"viewBox=\"0 0 24 24\"\n",
              "       width=\"24px\">\n",
              "    <path d=\"M0 0h24v24H0V0z\" fill=\"none\"/>\n",
              "    <path d=\"M18.56 5.44l.94 2.06.94-2.06 2.06-.94-2.06-.94-.94-2.06-.94 2.06-2.06.94zm-11 1L8.5 8.5l.94-2.06 2.06-.94-2.06-.94L8.5 2.5l-.94 2.06-2.06.94zm10 10l.94 2.06.94-2.06 2.06-.94-2.06-.94-.94-2.06-.94 2.06-2.06.94z\"/><path d=\"M17.41 7.96l-1.37-1.37c-.4-.4-.92-.59-1.43-.59-.52 0-1.04.2-1.43.59L10.3 9.45l-7.72 7.72c-.78.78-.78 2.05 0 2.83L4 21.41c.39.39.9.59 1.41.59.51 0 1.02-.2 1.41-.59l7.78-7.78 2.81-2.81c.8-.78.8-2.07 0-2.86zM5.41 20L4 18.59l7.72-7.72 1.47 1.35L5.41 20z\"/>\n",
              "  </svg>\n",
              "      </button>\n",
              "      \n",
              "  <style>\n",
              "    .colab-df-container {\n",
              "      display:flex;\n",
              "      flex-wrap:wrap;\n",
              "      gap: 12px;\n",
              "    }\n",
              "\n",
              "    .colab-df-convert {\n",
              "      background-color: #E8F0FE;\n",
              "      border: none;\n",
              "      border-radius: 50%;\n",
              "      cursor: pointer;\n",
              "      display: none;\n",
              "      fill: #1967D2;\n",
              "      height: 32px;\n",
              "      padding: 0 0 0 0;\n",
              "      width: 32px;\n",
              "    }\n",
              "\n",
              "    .colab-df-convert:hover {\n",
              "      background-color: #E2EBFA;\n",
              "      box-shadow: 0px 1px 2px rgba(60, 64, 67, 0.3), 0px 1px 3px 1px rgba(60, 64, 67, 0.15);\n",
              "      fill: #174EA6;\n",
              "    }\n",
              "\n",
              "    [theme=dark] .colab-df-convert {\n",
              "      background-color: #3B4455;\n",
              "      fill: #D2E3FC;\n",
              "    }\n",
              "\n",
              "    [theme=dark] .colab-df-convert:hover {\n",
              "      background-color: #434B5C;\n",
              "      box-shadow: 0px 1px 3px 1px rgba(0, 0, 0, 0.15);\n",
              "      filter: drop-shadow(0px 1px 2px rgba(0, 0, 0, 0.3));\n",
              "      fill: #FFFFFF;\n",
              "    }\n",
              "  </style>\n",
              "\n",
              "      <script>\n",
              "        const buttonEl =\n",
              "          document.querySelector('#df-0c50e0d1-7cd2-433e-ad31-65b62dd164f0 button.colab-df-convert');\n",
              "        buttonEl.style.display =\n",
              "          google.colab.kernel.accessAllowed ? 'block' : 'none';\n",
              "\n",
              "        async function convertToInteractive(key) {\n",
              "          const element = document.querySelector('#df-0c50e0d1-7cd2-433e-ad31-65b62dd164f0');\n",
              "          const dataTable =\n",
              "            await google.colab.kernel.invokeFunction('convertToInteractive',\n",
              "                                                     [key], {});\n",
              "          if (!dataTable) return;\n",
              "\n",
              "          const docLinkHtml = 'Like what you see? Visit the ' +\n",
              "            '<a target=\"_blank\" href=https://colab.research.google.com/notebooks/data_table.ipynb>data table notebook</a>'\n",
              "            + ' to learn more about interactive tables.';\n",
              "          element.innerHTML = '';\n",
              "          dataTable['output_type'] = 'display_data';\n",
              "          await google.colab.output.renderOutput(dataTable, element);\n",
              "          const docLink = document.createElement('div');\n",
              "          docLink.innerHTML = docLinkHtml;\n",
              "          element.appendChild(docLink);\n",
              "        }\n",
              "      </script>\n",
              "    </div>\n",
              "  </div>\n",
              "  "
            ]
          },
          "metadata": {},
          "execution_count": 11
        }
      ]
    },
    {
      "cell_type": "markdown",
      "source": [
        "Dataset berisi 20 ribu sampel"
      ],
      "metadata": {
        "id": "NfNlCcEKHdZj"
      }
    },
    {
      "cell_type": "code",
      "source": [
        "len(df)"
      ],
      "metadata": {
        "colab": {
          "base_uri": "https://localhost:8080/"
        },
        "id": "C0EPavHfHXE1",
        "outputId": "877066f7-1cab-4a6a-d60f-4ceb7dbac685"
      },
      "execution_count": 12,
      "outputs": [
        {
          "output_type": "execute_result",
          "data": {
            "text/plain": [
              "20000"
            ]
          },
          "metadata": {},
          "execution_count": 12
        }
      ]
    },
    {
      "cell_type": "markdown",
      "source": [
        "Dataframe terdiri dari 2 kolom, `text` sebagai kalimatnya, dan kolom `emotion` yang merupakan emosi  atau perasaan dari kalimat bersangkutan, sebagai classnya. "
      ],
      "metadata": {
        "id": "WAVny0x_-XcA"
      }
    },
    {
      "cell_type": "code",
      "source": [
        "df['emotion'].unique()"
      ],
      "metadata": {
        "colab": {
          "base_uri": "https://localhost:8080/"
        },
        "id": "hV9-nWGvvh9T",
        "outputId": "13a81fd3-e713-47f1-f326-6c92c018f9e9"
      },
      "execution_count": 13,
      "outputs": [
        {
          "output_type": "execute_result",
          "data": {
            "text/plain": [
              "array(['sadness', 'love', 'anger', 'joy', 'fear', 'surprise'],\n",
              "      dtype=object)"
            ]
          },
          "metadata": {},
          "execution_count": 13
        }
      ]
    },
    {
      "cell_type": "markdown",
      "source": [
        "# Pra-proses dataframe"
      ],
      "metadata": {
        "id": "feIj6gET_GHW"
      }
    },
    {
      "cell_type": "markdown",
      "source": [
        "Melakukan One-Hot Encode pada kolom `emotion`"
      ],
      "metadata": {
        "id": "Np2NNpv5-D70"
      }
    },
    {
      "cell_type": "code",
      "source": [
        "emotion= pd.get_dummies(df['emotion'])\n",
        "df_encoded= pd.concat([df['text'], emotion], axis=1)\n",
        "\n",
        "df_encoded"
      ],
      "metadata": {
        "colab": {
          "base_uri": "https://localhost:8080/",
          "height": 424
        },
        "id": "oBjgookO2Z35",
        "outputId": "49793a79-af75-4ed5-80ff-1d02de17ee80"
      },
      "execution_count": 14,
      "outputs": [
        {
          "output_type": "execute_result",
          "data": {
            "text/plain": [
              "                                                   text  anger  fear  joy  \\\n",
              "0     im feeling quite sad and sorry for myself but ...      0     0    0   \n",
              "1     i feel like i am still looking at a blank canv...      0     0    0   \n",
              "2                        i feel like a faithful servant      0     0    0   \n",
              "3                     i am just feeling cranky and blue      1     0    0   \n",
              "4     i can have for a treat or if i am feeling festive      0     0    1   \n",
              "...                                                 ...    ...   ...  ...   \n",
              "1995  i just keep feeling like someone is being unki...      1     0    0   \n",
              "1996  im feeling a little cranky negative after this...      1     0    0   \n",
              "1997  i feel that i am useful to my people and that ...      0     0    1   \n",
              "1998  im feeling more comfortable with derby i feel ...      0     0    1   \n",
              "1999  i feel all weird when i have to meet w people ...      0     1    0   \n",
              "\n",
              "      love  sadness  surprise  \n",
              "0        0        1         0  \n",
              "1        0        1         0  \n",
              "2        1        0         0  \n",
              "3        0        0         0  \n",
              "4        0        0         0  \n",
              "...    ...      ...       ...  \n",
              "1995     0        0         0  \n",
              "1996     0        0         0  \n",
              "1997     0        0         0  \n",
              "1998     0        0         0  \n",
              "1999     0        0         0  \n",
              "\n",
              "[20000 rows x 7 columns]"
            ],
            "text/html": [
              "\n",
              "  <div id=\"df-2b869546-000a-4de0-bf35-e0698732a77c\">\n",
              "    <div class=\"colab-df-container\">\n",
              "      <div>\n",
              "<style scoped>\n",
              "    .dataframe tbody tr th:only-of-type {\n",
              "        vertical-align: middle;\n",
              "    }\n",
              "\n",
              "    .dataframe tbody tr th {\n",
              "        vertical-align: top;\n",
              "    }\n",
              "\n",
              "    .dataframe thead th {\n",
              "        text-align: right;\n",
              "    }\n",
              "</style>\n",
              "<table border=\"1\" class=\"dataframe\">\n",
              "  <thead>\n",
              "    <tr style=\"text-align: right;\">\n",
              "      <th></th>\n",
              "      <th>text</th>\n",
              "      <th>anger</th>\n",
              "      <th>fear</th>\n",
              "      <th>joy</th>\n",
              "      <th>love</th>\n",
              "      <th>sadness</th>\n",
              "      <th>surprise</th>\n",
              "    </tr>\n",
              "  </thead>\n",
              "  <tbody>\n",
              "    <tr>\n",
              "      <th>0</th>\n",
              "      <td>im feeling quite sad and sorry for myself but ...</td>\n",
              "      <td>0</td>\n",
              "      <td>0</td>\n",
              "      <td>0</td>\n",
              "      <td>0</td>\n",
              "      <td>1</td>\n",
              "      <td>0</td>\n",
              "    </tr>\n",
              "    <tr>\n",
              "      <th>1</th>\n",
              "      <td>i feel like i am still looking at a blank canv...</td>\n",
              "      <td>0</td>\n",
              "      <td>0</td>\n",
              "      <td>0</td>\n",
              "      <td>0</td>\n",
              "      <td>1</td>\n",
              "      <td>0</td>\n",
              "    </tr>\n",
              "    <tr>\n",
              "      <th>2</th>\n",
              "      <td>i feel like a faithful servant</td>\n",
              "      <td>0</td>\n",
              "      <td>0</td>\n",
              "      <td>0</td>\n",
              "      <td>1</td>\n",
              "      <td>0</td>\n",
              "      <td>0</td>\n",
              "    </tr>\n",
              "    <tr>\n",
              "      <th>3</th>\n",
              "      <td>i am just feeling cranky and blue</td>\n",
              "      <td>1</td>\n",
              "      <td>0</td>\n",
              "      <td>0</td>\n",
              "      <td>0</td>\n",
              "      <td>0</td>\n",
              "      <td>0</td>\n",
              "    </tr>\n",
              "    <tr>\n",
              "      <th>4</th>\n",
              "      <td>i can have for a treat or if i am feeling festive</td>\n",
              "      <td>0</td>\n",
              "      <td>0</td>\n",
              "      <td>1</td>\n",
              "      <td>0</td>\n",
              "      <td>0</td>\n",
              "      <td>0</td>\n",
              "    </tr>\n",
              "    <tr>\n",
              "      <th>...</th>\n",
              "      <td>...</td>\n",
              "      <td>...</td>\n",
              "      <td>...</td>\n",
              "      <td>...</td>\n",
              "      <td>...</td>\n",
              "      <td>...</td>\n",
              "      <td>...</td>\n",
              "    </tr>\n",
              "    <tr>\n",
              "      <th>1995</th>\n",
              "      <td>i just keep feeling like someone is being unki...</td>\n",
              "      <td>1</td>\n",
              "      <td>0</td>\n",
              "      <td>0</td>\n",
              "      <td>0</td>\n",
              "      <td>0</td>\n",
              "      <td>0</td>\n",
              "    </tr>\n",
              "    <tr>\n",
              "      <th>1996</th>\n",
              "      <td>im feeling a little cranky negative after this...</td>\n",
              "      <td>1</td>\n",
              "      <td>0</td>\n",
              "      <td>0</td>\n",
              "      <td>0</td>\n",
              "      <td>0</td>\n",
              "      <td>0</td>\n",
              "    </tr>\n",
              "    <tr>\n",
              "      <th>1997</th>\n",
              "      <td>i feel that i am useful to my people and that ...</td>\n",
              "      <td>0</td>\n",
              "      <td>0</td>\n",
              "      <td>1</td>\n",
              "      <td>0</td>\n",
              "      <td>0</td>\n",
              "      <td>0</td>\n",
              "    </tr>\n",
              "    <tr>\n",
              "      <th>1998</th>\n",
              "      <td>im feeling more comfortable with derby i feel ...</td>\n",
              "      <td>0</td>\n",
              "      <td>0</td>\n",
              "      <td>1</td>\n",
              "      <td>0</td>\n",
              "      <td>0</td>\n",
              "      <td>0</td>\n",
              "    </tr>\n",
              "    <tr>\n",
              "      <th>1999</th>\n",
              "      <td>i feel all weird when i have to meet w people ...</td>\n",
              "      <td>0</td>\n",
              "      <td>1</td>\n",
              "      <td>0</td>\n",
              "      <td>0</td>\n",
              "      <td>0</td>\n",
              "      <td>0</td>\n",
              "    </tr>\n",
              "  </tbody>\n",
              "</table>\n",
              "<p>20000 rows × 7 columns</p>\n",
              "</div>\n",
              "      <button class=\"colab-df-convert\" onclick=\"convertToInteractive('df-2b869546-000a-4de0-bf35-e0698732a77c')\"\n",
              "              title=\"Convert this dataframe to an interactive table.\"\n",
              "              style=\"display:none;\">\n",
              "        \n",
              "  <svg xmlns=\"http://www.w3.org/2000/svg\" height=\"24px\"viewBox=\"0 0 24 24\"\n",
              "       width=\"24px\">\n",
              "    <path d=\"M0 0h24v24H0V0z\" fill=\"none\"/>\n",
              "    <path d=\"M18.56 5.44l.94 2.06.94-2.06 2.06-.94-2.06-.94-.94-2.06-.94 2.06-2.06.94zm-11 1L8.5 8.5l.94-2.06 2.06-.94-2.06-.94L8.5 2.5l-.94 2.06-2.06.94zm10 10l.94 2.06.94-2.06 2.06-.94-2.06-.94-.94-2.06-.94 2.06-2.06.94z\"/><path d=\"M17.41 7.96l-1.37-1.37c-.4-.4-.92-.59-1.43-.59-.52 0-1.04.2-1.43.59L10.3 9.45l-7.72 7.72c-.78.78-.78 2.05 0 2.83L4 21.41c.39.39.9.59 1.41.59.51 0 1.02-.2 1.41-.59l7.78-7.78 2.81-2.81c.8-.78.8-2.07 0-2.86zM5.41 20L4 18.59l7.72-7.72 1.47 1.35L5.41 20z\"/>\n",
              "  </svg>\n",
              "      </button>\n",
              "      \n",
              "  <style>\n",
              "    .colab-df-container {\n",
              "      display:flex;\n",
              "      flex-wrap:wrap;\n",
              "      gap: 12px;\n",
              "    }\n",
              "\n",
              "    .colab-df-convert {\n",
              "      background-color: #E8F0FE;\n",
              "      border: none;\n",
              "      border-radius: 50%;\n",
              "      cursor: pointer;\n",
              "      display: none;\n",
              "      fill: #1967D2;\n",
              "      height: 32px;\n",
              "      padding: 0 0 0 0;\n",
              "      width: 32px;\n",
              "    }\n",
              "\n",
              "    .colab-df-convert:hover {\n",
              "      background-color: #E2EBFA;\n",
              "      box-shadow: 0px 1px 2px rgba(60, 64, 67, 0.3), 0px 1px 3px 1px rgba(60, 64, 67, 0.15);\n",
              "      fill: #174EA6;\n",
              "    }\n",
              "\n",
              "    [theme=dark] .colab-df-convert {\n",
              "      background-color: #3B4455;\n",
              "      fill: #D2E3FC;\n",
              "    }\n",
              "\n",
              "    [theme=dark] .colab-df-convert:hover {\n",
              "      background-color: #434B5C;\n",
              "      box-shadow: 0px 1px 3px 1px rgba(0, 0, 0, 0.15);\n",
              "      filter: drop-shadow(0px 1px 2px rgba(0, 0, 0, 0.3));\n",
              "      fill: #FFFFFF;\n",
              "    }\n",
              "  </style>\n",
              "\n",
              "      <script>\n",
              "        const buttonEl =\n",
              "          document.querySelector('#df-2b869546-000a-4de0-bf35-e0698732a77c button.colab-df-convert');\n",
              "        buttonEl.style.display =\n",
              "          google.colab.kernel.accessAllowed ? 'block' : 'none';\n",
              "\n",
              "        async function convertToInteractive(key) {\n",
              "          const element = document.querySelector('#df-2b869546-000a-4de0-bf35-e0698732a77c');\n",
              "          const dataTable =\n",
              "            await google.colab.kernel.invokeFunction('convertToInteractive',\n",
              "                                                     [key], {});\n",
              "          if (!dataTable) return;\n",
              "\n",
              "          const docLinkHtml = 'Like what you see? Visit the ' +\n",
              "            '<a target=\"_blank\" href=https://colab.research.google.com/notebooks/data_table.ipynb>data table notebook</a>'\n",
              "            + ' to learn more about interactive tables.';\n",
              "          element.innerHTML = '';\n",
              "          dataTable['output_type'] = 'display_data';\n",
              "          await google.colab.output.renderOutput(dataTable, element);\n",
              "          const docLink = document.createElement('div');\n",
              "          docLink.innerHTML = docLinkHtml;\n",
              "          element.appendChild(docLink);\n",
              "        }\n",
              "      </script>\n",
              "    </div>\n",
              "  </div>\n",
              "  "
            ]
          },
          "metadata": {},
          "execution_count": 14
        }
      ]
    },
    {
      "cell_type": "markdown",
      "source": [
        "Melakukan splitting data"
      ],
      "metadata": {
        "id": "h-YIbOpc-1TC"
      }
    },
    {
      "cell_type": "code",
      "source": [
        "X= df_encoded['text'].values\n",
        "y= df_encoded.drop('text', axis=1).values\n",
        "\n",
        "x_train, x_val, y_train, y_val= train_test_split(X, y, test_size=0.2)\n",
        "\n",
        "len(x_train), len(x_val)"
      ],
      "metadata": {
        "colab": {
          "base_uri": "https://localhost:8080/"
        },
        "id": "eBjYE7PW2HRc",
        "outputId": "5029cd83-c6c1-412c-939a-18f46d401c89"
      },
      "execution_count": 15,
      "outputs": [
        {
          "output_type": "execute_result",
          "data": {
            "text/plain": [
              "(16000, 4000)"
            ]
          },
          "metadata": {},
          "execution_count": 15
        }
      ]
    },
    {
      "cell_type": "markdown",
      "source": [
        "Melakukan tokenizing"
      ],
      "metadata": {
        "id": "rKzjDY9c_Kuj"
      }
    },
    {
      "cell_type": "code",
      "source": [
        "num_words= 10000\n",
        "\n",
        "tokenizer = Tokenizer(num_words= num_words, oov_token='-')\n",
        "\n",
        "tokenizer.fit_on_texts(x_train)\n",
        "tokenizer.fit_on_texts(x_val)\n",
        "\n",
        "x_train = tokenizer.texts_to_sequences(x_train)\n",
        "x_val = tokenizer.texts_to_sequences(x_val)"
      ],
      "metadata": {
        "id": "qNApnR_Xy4MJ"
      },
      "execution_count": 16,
      "outputs": []
    },
    {
      "cell_type": "markdown",
      "source": [
        "Menentukan batas/threshold kata per kalimat, berdasarkan kalimat terpanjang pada data dikurangi 20."
      ],
      "metadata": {
        "id": "i22XfSZK_NOy"
      }
    },
    {
      "cell_type": "code",
      "source": [
        "max_text_words= max(df['text'].map(lambda x: len(x.split(' '))))-25\n",
        "# max_text_words= int(df['text'].map(lambda x: len(x.split(' '))).mean()) + 20\n",
        "\n",
        "max_text_words"
      ],
      "metadata": {
        "colab": {
          "base_uri": "https://localhost:8080/"
        },
        "id": "l4N14SIGy1SB",
        "outputId": "598883f0-c368-4717-9e6f-d59a2e6afeac"
      },
      "execution_count": 17,
      "outputs": [
        {
          "output_type": "execute_result",
          "data": {
            "text/plain": [
              "41"
            ]
          },
          "metadata": {},
          "execution_count": 17
        }
      ]
    },
    {
      "cell_type": "markdown",
      "source": [
        " Kemudian padding"
      ],
      "metadata": {
        "id": "1phydbej_brj"
      }
    },
    {
      "cell_type": "code",
      "source": [
        "x_train_padded= pad_sequences(x_train, maxlen=max_text_words, padding='post', truncating = 'post')\n",
        "x_val_padded= pad_sequences(x_val, maxlen=max_text_words, padding='post', truncating = 'post')\n",
        "\n",
        "x_train_padded"
      ],
      "metadata": {
        "colab": {
          "base_uri": "https://localhost:8080/"
        },
        "id": "7DjsGTXdzhIo",
        "outputId": "691eb253-cae8-4a8b-da68-c1d823eee2a6"
      },
      "execution_count": 18,
      "outputs": [
        {
          "output_type": "execute_result",
          "data": {
            "text/plain": [
              "array([[  2, 117,  41, ...,   0,   0,   0],\n",
              "       [  2,  90,  72, ...,   2, 138,  84],\n",
              "       [ 16,  26, 224, ...,   0,   0,   0],\n",
              "       ...,\n",
              "       [  2, 215,   5, ...,   0,   0,   0],\n",
              "       [  2,   3, 902, ...,   0,   0,   0],\n",
              "       [ 16, 157,  84, ...,   0,   0,   0]], dtype=int32)"
            ]
          },
          "metadata": {},
          "execution_count": 18
        }
      ]
    },
    {
      "cell_type": "markdown",
      "source": [
        "# Pelatihan Model"
      ],
      "metadata": {
        "id": "oEUkcioX_dTX"
      }
    },
    {
      "cell_type": "code",
      "source": [
        "EMBEDDING_DIM= 128\n",
        "\n",
        "model = keras.models.Sequential([\n",
        "    layers.Embedding(num_words, EMBEDDING_DIM, input_length=max_text_words),\n",
        "    layers.LSTM(64, return_sequences=True),\n",
        "    layers.Dropout(0.25),\n",
        "    layers.LSTM(128, return_sequences=True),\n",
        "    layers.Dropout(0.25),\n",
        "    layers.LSTM(256),\n",
        "    layers.Dropout(0.3),\n",
        "    layers.Dense(128, activation='relu'),\n",
        "    layers.Dropout(0.25),\n",
        "    layers.Dense(32, activation='relu'),\n",
        "    layers.Dropout(0.1),\n",
        "    layers.Dense(6, activation='softmax')\n",
        "])\n",
        "\n",
        "model.compile(loss='categorical_crossentropy',optimizer='adam',metrics=['accuracy'])"
      ],
      "metadata": {
        "id": "naVGLcBS0R3T"
      },
      "execution_count": 19,
      "outputs": []
    },
    {
      "cell_type": "code",
      "source": [
        "reduce_lr= keras.callbacks.ReduceLROnPlateau(monitor='accuracy', factor= 0.1, patience=0, min_lr=1e-5, min_delta=0.01)\n",
        "\n",
        "history = model.fit(x_train_padded, y_train, epochs=10, \n",
        "                    validation_data=(x_val_padded, y_val), verbose=2, callbacks=[reduce_lr])"
      ],
      "metadata": {
        "colab": {
          "base_uri": "https://localhost:8080/"
        },
        "id": "Vim0r8K04iOM",
        "outputId": "1cb16ccf-849c-42c6-e39b-19a22d591fbd"
      },
      "execution_count": 20,
      "outputs": [
        {
          "output_type": "stream",
          "name": "stdout",
          "text": [
            "Epoch 1/10\n",
            "500/500 - 16s - loss: 1.4254 - accuracy: 0.3587 - val_loss: 1.1054 - val_accuracy: 0.4495 - lr: 0.0010 - 16s/epoch - 31ms/step\n",
            "Epoch 2/10\n",
            "500/500 - 6s - loss: 0.9964 - accuracy: 0.4703 - val_loss: 0.9857 - val_accuracy: 0.4947 - lr: 0.0010 - 6s/epoch - 12ms/step\n",
            "Epoch 3/10\n",
            "500/500 - 6s - loss: 0.8657 - accuracy: 0.5306 - val_loss: 0.9100 - val_accuracy: 0.5335 - lr: 0.0010 - 6s/epoch - 12ms/step\n",
            "Epoch 4/10\n",
            "500/500 - 6s - loss: 0.7115 - accuracy: 0.6253 - val_loss: 0.6790 - val_accuracy: 0.7418 - lr: 0.0010 - 6s/epoch - 12ms/step\n",
            "Epoch 5/10\n",
            "500/500 - 6s - loss: 0.3654 - accuracy: 0.8853 - val_loss: 0.3837 - val_accuracy: 0.8920 - lr: 0.0010 - 6s/epoch - 13ms/step\n",
            "Epoch 6/10\n",
            "500/500 - 6s - loss: 0.2208 - accuracy: 0.9289 - val_loss: 0.3417 - val_accuracy: 0.9000 - lr: 0.0010 - 6s/epoch - 12ms/step\n",
            "Epoch 7/10\n",
            "500/500 - 6s - loss: 0.1584 - accuracy: 0.9461 - val_loss: 0.2717 - val_accuracy: 0.9087 - lr: 0.0010 - 6s/epoch - 13ms/step\n",
            "Epoch 8/10\n",
            "500/500 - 6s - loss: 0.1176 - accuracy: 0.9570 - val_loss: 0.3208 - val_accuracy: 0.8997 - lr: 0.0010 - 6s/epoch - 13ms/step\n",
            "Epoch 9/10\n",
            "500/500 - 6s - loss: 0.1167 - accuracy: 0.9594 - val_loss: 0.3148 - val_accuracy: 0.9125 - lr: 0.0010 - 6s/epoch - 12ms/step\n",
            "Epoch 10/10\n",
            "500/500 - 6s - loss: 0.0699 - accuracy: 0.9719 - val_loss: 0.3348 - val_accuracy: 0.9165 - lr: 1.0000e-04 - 6s/epoch - 12ms/step\n"
          ]
        }
      ]
    },
    {
      "cell_type": "markdown",
      "source": [
        "# Visualisasi akurasi dan loss saat proses pelatihan"
      ],
      "metadata": {
        "id": "EPgWKpzcG3hR"
      }
    },
    {
      "cell_type": "code",
      "source": [
        "plt.style.use('seaborn')\n",
        "\n",
        "loss= history.history['loss']\n",
        "val_loss= history.history['val_loss']\n",
        "\n",
        "accuracy= history.history['accuracy']\n",
        "val_accuracy= history.history['val_accuracy']\n",
        "\n",
        "plt.figure(figsize=(18, 4))\n",
        "\n",
        "plt.subplot(1, 2, 1)\n",
        "plt.title('Loss')\n",
        "plt.xlabel('Epoch')\n",
        "plt.ylabel('Loss')\n",
        "plt.plot(loss, label='Training set')\n",
        "plt.plot(val_loss, label='Test set', linestyle='--')\n",
        "plt.legend()\n",
        "\n",
        "plt.subplot(1, 2, 2)\n",
        "plt.title('Accuracy')\n",
        "plt.xlabel('Epoch')\n",
        "plt.ylabel('Accuracy')\n",
        "plt.plot(accuracy, label='Training set')\n",
        "plt.plot(val_accuracy, label='Test set', linestyle='--')\n",
        "plt.legend()\n",
        "\n",
        "plt.show()"
      ],
      "metadata": {
        "colab": {
          "base_uri": "https://localhost:8080/",
          "height": 294
        },
        "id": "AbChYbqF5F4N",
        "outputId": "9f665f93-e386-4549-ae20-4d06b83eac06"
      },
      "execution_count": 21,
      "outputs": [
        {
          "output_type": "display_data",
          "data": {
            "text/plain": [
              "<Figure size 1296x288 with 2 Axes>"
            ],
            "image/png": "[encoded data removed]"
          },
          "metadata": {}
        }
      ]
    }
  ]
}