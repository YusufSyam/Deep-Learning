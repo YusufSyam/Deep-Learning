{
 "cells": [
  {
   "cell_type": "code",
   "execution_count": 1,
   "id": "06e0890b",
   "metadata": {},
   "outputs": [],
   "source": [
    "import os\n",
    "import cv2\n",
    "from PIL import Image\n",
    "import pytesseract as pt\n",
    "from matplotlib import pyplot as plt\n",
    "from pdf2image import convert_from_path\n",
    "import re"
   ]
  },
  {
   "cell_type": "code",
   "execution_count": 2,
   "id": "695524aa",
   "metadata": {},
   "outputs": [],
   "source": [
    "pt.pytesseract.tesseract_cmd = r\"C:\\Program Files\\Tesseract-OCR\\tesseract.exe\""
   ]
  },
  {
   "cell_type": "code",
   "execution_count": 3,
   "id": "0df01e59",
   "metadata": {},
   "outputs": [
    {
     "data": {
      "text/plain": [
       "['.ipynb_checkpoints', 'extracting_information_from_krs.ipynb', 'my_krs.jpg']"
      ]
     },
     "execution_count": 3,
     "metadata": {},
     "output_type": "execute_result"
    }
   ],
   "source": [
    "os.listdir()"
   ]
  },
  {
   "cell_type": "code",
   "execution_count": 4,
   "id": "e70dd7cf",
   "metadata": {},
   "outputs": [],
   "source": [
    "data_path = 'my_krs.jpg'"
   ]
  },
  {
   "cell_type": "code",
   "execution_count": 5,
   "id": "1a1e2396",
   "metadata": {},
   "outputs": [
    {
     "data": {
      "image/png": "[encoded data removed]",
      "text/plain": [
       "<Figure size 432x288 with 1 Axes>"
      ]
     },
     "metadata": {
      "needs_background": "light"
     },
     "output_type": "display_data"
    }
   ],
   "source": [
    "img= Image.open(data_path)\n",
    "plt.imshow(img)\n",
    "plt.show()"
   ]
  },
  {
   "cell_type": "code",
   "execution_count": 6,
   "id": "a763f563",
   "metadata": {},
   "outputs": [
    {
     "name": "stdout",
     "output_type": "stream",
     "text": [
      "Program Studi\n",
      "\n",
      "SISTEM INFORMASI - S1\n",
      "Universitas Hasanuddin\n",
      "\n",
      "eA\n",
      "Nama Muh. Yusuf Syam\n",
      "NIM HO71191044\n",
      "Program Studi Sistem Informasi - $1\n",
      "Pembimbing Akademik Rozalina Amran, S.T., M.Eng.\n",
      "Matakuliah Jadwal Kuliah\n",
      "No Kelas SKS Ruangan\n",
      "Kode Nama Senin | Selasa | Rabu | Kal Jumat | Sabtu | Ahad\n",
      "Pengantar Deep Pengantar Deep TMI Perkuliahan | 13:10-\n",
      "* | Learning 18H07132408 | | earning 3 | Bersama (PB 132) | 15:40\n",
      "ML Perkuliahan 07:30-\n",
      "2 | Kompresi Data 1807131503 | Kompresi Data 3 | Became (e132) Toon.\n",
      "TML Perkuliahan 4010-\n",
      "3. | Data Sains oT 1807132703 | Data Sains lot 3 | Bersama Teknik eo\n",
      "(PBT 302)\n",
      "TMI Perkuliahan\n",
      "4 | Analisis sistem | grovrar4os | Analisis Sistem a | Bersama Teknik 1540\n",
      "P per (PBT 303)\n",
      "Pengantar Pengantar ML Perkuliahan 10:10-\n",
      "5 | Datawarehousing | 107192803 | patawarehousing 3 | Bersama (PB 125) 1240\n",
      "ML Perkuliahan\n",
      "6 | Konvergensi Cloud | sero71aze0a | KonvergensiCloud | 5 | percama Teknik Lie\n",
      "(PBT 303)\n",
      "TML Perkuliahan\n",
      "7 | Sistem Basis Data? | + s07121908| sistem Basis Data2| 3 | Bersama Teknik coor\n",
      "(PBT 301)\n",
      "Total 21\n",
      "\n",
      "\n"
     ]
    }
   ],
   "source": [
    "text = pt.image_to_string(data_path)\n",
    "\n",
    "print(text)"
   ]
  },
  {
   "cell_type": "code",
   "execution_count": 7,
   "id": "6cc699b2",
   "metadata": {},
   "outputs": [
    {
     "data": {
      "text/plain": [
       "['Program Studi',\n",
       " '',\n",
       " 'SISTEM INFORMASI - S1',\n",
       " 'Universitas Hasanuddin',\n",
       " '',\n",
       " 'eA',\n",
       " 'Nama Muh. Yusuf Syam',\n",
       " 'NIM HO71191044',\n",
       " 'Program Studi Sistem Informasi - $1',\n",
       " 'Pembimbing Akademik Rozalina Amran, S.T., M.Eng.',\n",
       " 'Matakuliah Jadwal Kuliah',\n",
       " 'No Kelas SKS Ruangan',\n",
       " 'Kode Nama Senin | Selasa | Rabu | Kal Jumat | Sabtu | Ahad',\n",
       " 'Pengantar Deep Pengantar Deep TMI Perkuliahan | 13:10-',\n",
       " '* | Learning 18H07132408 | | earning 3 | Bersama (PB 132) | 15:40',\n",
       " 'ML Perkuliahan 07:30-',\n",
       " '2 | Kompresi Data 1807131503 | Kompresi Data 3 | Became (e132) Toon.',\n",
       " 'TML Perkuliahan 4010-',\n",
       " '3. | Data Sains oT 1807132703 | Data Sains lot 3 | Bersama Teknik eo',\n",
       " '(PBT 302)',\n",
       " 'TMI Perkuliahan',\n",
       " '4 | Analisis sistem | grovrar4os | Analisis Sistem a | Bersama Teknik 1540',\n",
       " 'P per (PBT 303)',\n",
       " 'Pengantar Pengantar ML Perkuliahan 10:10-',\n",
       " '5 | Datawarehousing | 107192803 | patawarehousing 3 | Bersama (PB 125) 1240',\n",
       " 'ML Perkuliahan',\n",
       " '6 | Konvergensi Cloud | sero71aze0a | KonvergensiCloud | 5 | percama Teknik Lie',\n",
       " '(PBT 303)',\n",
       " 'TML Perkuliahan',\n",
       " '7 | Sistem Basis Data? | + s07121908| sistem Basis Data2| 3 | Bersama Teknik coor',\n",
       " '(PBT 301)',\n",
       " 'Total 21',\n",
       " '',\n",
       " '']"
      ]
     },
     "execution_count": 7,
     "metadata": {},
     "output_type": "execute_result"
    }
   ],
   "source": [
    "text_list= text.split('\\n')\n",
    "text_list"
   ]
  },
  {
   "cell_type": "code",
   "execution_count": 8,
   "id": "36f9be27",
   "metadata": {},
   "outputs": [],
   "source": [
    "name= text_list[6]\n",
    "major= text_list[8].split('-')[0]"
   ]
  },
  {
   "cell_type": "code",
   "execution_count": 9,
   "id": "4cb67822",
   "metadata": {},
   "outputs": [
    {
     "name": "stdout",
     "output_type": "stream",
     "text": [
      "Nama Muh. Yusuf Syam\n",
      "Program Studi Sistem Informasi \n"
     ]
    }
   ],
   "source": [
    "print(f'{name}\\n{major}')"
   ]
  }
 ],
 "metadata": {
  "kernelspec": {
   "display_name": "Python 3 (ipykernel)",
   "language": "python",
   "name": "python3"
  },
  "language_info": {
   "codemirror_mode": {
    "name": "ipython",
    "version": 3
   },
   "file_extension": ".py",
   "mimetype": "text/x-python",
   "name": "python",
   "nbconvert_exporter": "python",
   "pygments_lexer": "ipython3",
   "version": "3.7.7"
  }
 },
 "nbformat": 4,
 "nbformat_minor": 5
}
