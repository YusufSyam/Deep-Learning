{
  "nbformat": 4,
  "nbformat_minor": 0,
  "metadata": {
    "colab": {
      "name": "google_stock_price_prediction.ipynb",
      "provenance": [],
      "collapsed_sections": []
    },
    "kernelspec": {
      "name": "python3",
      "display_name": "Python 3"
    },
    "language_info": {
      "name": "python"
    },
    "accelerator": "GPU",
    "gpuClass": "standard"
  },
  "cells": [
    {
      "cell_type": "markdown",
      "source": [
        "Memprediksi harga <a href='https://finance.yahoo.com/quote/GOOG/history/'> saham google </a> berdasarkan saham 64 hari yang lalu"
      ],
      "metadata": {
        "id": "bm8DZYPnTydQ"
      }
    },
    {
      "cell_type": "markdown",
      "source": [
        "# Load data dan preprocessing"
      ],
      "metadata": {
        "id": "Cizhab4aZFpc"
      }
    },
    {
      "cell_type": "code",
      "execution_count": 2,
      "metadata": {
        "colab": {
          "base_uri": "https://localhost:8080/"
        },
        "id": "cdvrqg4aRbbJ",
        "outputId": "077cbdbe-84b4-42ff-ad25-30ac84bf8d77"
      },
      "outputs": [
        {
          "output_type": "stream",
          "name": "stdout",
          "text": [
            "Mounted at /content/drive\n"
          ]
        }
      ],
      "source": [
        "from google.colab import drive\n",
        "drive.mount('/content/drive')"
      ]
    },
    {
      "cell_type": "code",
      "source": [
        "import tensorflow as tf\n",
        "from tensorflow import keras\n",
        "import numpy as np\n",
        "\n",
        "import pandas as pd\n",
        "from sklearn.preprocessing import MinMaxScaler\n",
        "from sklearn.metrics import mean_squared_error\n",
        "\n",
        "import matplotlib.pyplot as plt\n",
        "from matplotlib import cm, colors\n",
        "from matplotlib.pyplot import colormaps\n",
        "plt.style.use('fivethirtyeight')"
      ],
      "metadata": {
        "id": "s1NzMBIeSAKL"
      },
      "execution_count": 3,
      "outputs": []
    },
    {
      "cell_type": "code",
      "source": [
        "data= pd.read_csv('/content/drive/MyDrive/Datasets/stock_price/google_stock_price.csv', date_parser= True)\n",
        "\n",
        "data"
      ],
      "metadata": {
        "colab": {
          "base_uri": "https://localhost:8080/",
          "height": 424
        },
        "id": "hS6ojGhfSKgW",
        "outputId": "f94c9580-5a79-4e17-c144-6a26f2d9c51c"
      },
      "execution_count": 4,
      "outputs": [
        {
          "output_type": "execute_result",
          "data": {
            "text/plain": [
              "            Date         Open         High          Low        Close  \\\n",
              "0     2004-08-20    50.316402    54.336334    50.062355    53.952770   \n",
              "1     2004-08-23    55.168217    56.528118    54.321388    54.495735   \n",
              "2     2004-08-24    55.412300    55.591629    51.591621    52.239197   \n",
              "3     2004-08-25    52.284027    53.798351    51.746044    52.802086   \n",
              "4     2004-08-26    52.279045    53.773445    52.134586    53.753517   \n",
              "...          ...          ...          ...          ...          ...   \n",
              "4480  2022-06-07  2312.959961  2354.972900  2302.510010  2344.590088   \n",
              "4481  2022-06-08  2337.530029  2372.919922  2333.935059  2344.760010   \n",
              "4482  2022-06-09  2326.830078  2367.000000  2297.340088  2298.360107   \n",
              "4483  2022-06-10  2255.625000  2269.939941  2217.219971  2228.550049   \n",
              "4484  2022-06-13  2148.919922  2184.370117  2131.760986  2137.530029   \n",
              "\n",
              "        Adj Close    Volume  \n",
              "0       53.952770  22942874  \n",
              "1       54.495735  18342897  \n",
              "2       52.239197  15319808  \n",
              "3       52.802086   9232276  \n",
              "4       53.753517   7128620  \n",
              "...           ...       ...  \n",
              "4480  2344.590088   1320700  \n",
              "4481  2344.760010   1127200  \n",
              "4482  2298.360107   1157100  \n",
              "4483  2228.550049   1566200  \n",
              "4484  2137.530029   1835700  \n",
              "\n",
              "[4485 rows x 7 columns]"
            ],
            "text/html": [
              "\n",
              "  <div id=\"df-67605ccf-c14d-49c8-bdcd-35c11c7e1502\">\n",
              "    <div class=\"colab-df-container\">\n",
              "      <div>\n",
              "<style scoped>\n",
              "    .dataframe tbody tr th:only-of-type {\n",
              "        vertical-align: middle;\n",
              "    }\n",
              "\n",
              "    .dataframe tbody tr th {\n",
              "        vertical-align: top;\n",
              "    }\n",
              "\n",
              "    .dataframe thead th {\n",
              "        text-align: right;\n",
              "    }\n",
              "</style>\n",
              "<table border=\"1\" class=\"dataframe\">\n",
              "  <thead>\n",
              "    <tr style=\"text-align: right;\">\n",
              "      <th></th>\n",
              "      <th>Date</th>\n",
              "      <th>Open</th>\n",
              "      <th>High</th>\n",
              "      <th>Low</th>\n",
              "      <th>Close</th>\n",
              "      <th>Adj Close</th>\n",
              "      <th>Volume</th>\n",
              "    </tr>\n",
              "  </thead>\n",
              "  <tbody>\n",
              "    <tr>\n",
              "      <th>0</th>\n",
              "      <td>2004-08-20</td>\n",
              "      <td>50.316402</td>\n",
              "      <td>54.336334</td>\n",
              "      <td>50.062355</td>\n",
              "      <td>53.952770</td>\n",
              "      <td>53.952770</td>\n",
              "      <td>22942874</td>\n",
              "    </tr>\n",
              "    <tr>\n",
              "      <th>1</th>\n",
              "      <td>2004-08-23</td>\n",
              "      <td>55.168217</td>\n",
              "      <td>56.528118</td>\n",
              "      <td>54.321388</td>\n",
              "      <td>54.495735</td>\n",
              "      <td>54.495735</td>\n",
              "      <td>18342897</td>\n",
              "    </tr>\n",
              "    <tr>\n",
              "      <th>2</th>\n",
              "      <td>2004-08-24</td>\n",
              "      <td>55.412300</td>\n",
              "      <td>55.591629</td>\n",
              "      <td>51.591621</td>\n",
              "      <td>52.239197</td>\n",
              "      <td>52.239197</td>\n",
              "      <td>15319808</td>\n",
              "    </tr>\n",
              "    <tr>\n",
              "      <th>3</th>\n",
              "      <td>2004-08-25</td>\n",
              "      <td>52.284027</td>\n",
              "      <td>53.798351</td>\n",
              "      <td>51.746044</td>\n",
              "      <td>52.802086</td>\n",
              "      <td>52.802086</td>\n",
              "      <td>9232276</td>\n",
              "    </tr>\n",
              "    <tr>\n",
              "      <th>4</th>\n",
              "      <td>2004-08-26</td>\n",
              "      <td>52.279045</td>\n",
              "      <td>53.773445</td>\n",
              "      <td>52.134586</td>\n",
              "      <td>53.753517</td>\n",
              "      <td>53.753517</td>\n",
              "      <td>7128620</td>\n",
              "    </tr>\n",
              "    <tr>\n",
              "      <th>...</th>\n",
              "      <td>...</td>\n",
              "      <td>...</td>\n",
              "      <td>...</td>\n",
              "      <td>...</td>\n",
              "      <td>...</td>\n",
              "      <td>...</td>\n",
              "      <td>...</td>\n",
              "    </tr>\n",
              "    <tr>\n",
              "      <th>4480</th>\n",
              "      <td>2022-06-07</td>\n",
              "      <td>2312.959961</td>\n",
              "      <td>2354.972900</td>\n",
              "      <td>2302.510010</td>\n",
              "      <td>2344.590088</td>\n",
              "      <td>2344.590088</td>\n",
              "      <td>1320700</td>\n",
              "    </tr>\n",
              "    <tr>\n",
              "      <th>4481</th>\n",
              "      <td>2022-06-08</td>\n",
              "      <td>2337.530029</td>\n",
              "      <td>2372.919922</td>\n",
              "      <td>2333.935059</td>\n",
              "      <td>2344.760010</td>\n",
              "      <td>2344.760010</td>\n",
              "      <td>1127200</td>\n",
              "    </tr>\n",
              "    <tr>\n",
              "      <th>4482</th>\n",
              "      <td>2022-06-09</td>\n",
              "      <td>2326.830078</td>\n",
              "      <td>2367.000000</td>\n",
              "      <td>2297.340088</td>\n",
              "      <td>2298.360107</td>\n",
              "      <td>2298.360107</td>\n",
              "      <td>1157100</td>\n",
              "    </tr>\n",
              "    <tr>\n",
              "      <th>4483</th>\n",
              "      <td>2022-06-10</td>\n",
              "      <td>2255.625000</td>\n",
              "      <td>2269.939941</td>\n",
              "      <td>2217.219971</td>\n",
              "      <td>2228.550049</td>\n",
              "      <td>2228.550049</td>\n",
              "      <td>1566200</td>\n",
              "    </tr>\n",
              "    <tr>\n",
              "      <th>4484</th>\n",
              "      <td>2022-06-13</td>\n",
              "      <td>2148.919922</td>\n",
              "      <td>2184.370117</td>\n",
              "      <td>2131.760986</td>\n",
              "      <td>2137.530029</td>\n",
              "      <td>2137.530029</td>\n",
              "      <td>1835700</td>\n",
              "    </tr>\n",
              "  </tbody>\n",
              "</table>\n",
              "<p>4485 rows × 7 columns</p>\n",
              "</div>\n",
              "      <button class=\"colab-df-convert\" onclick=\"convertToInteractive('df-67605ccf-c14d-49c8-bdcd-35c11c7e1502')\"\n",
              "              title=\"Convert this dataframe to an interactive table.\"\n",
              "              style=\"display:none;\">\n",
              "        \n",
              "  <svg xmlns=\"http://www.w3.org/2000/svg\" height=\"24px\"viewBox=\"0 0 24 24\"\n",
              "       width=\"24px\">\n",
              "    <path d=\"M0 0h24v24H0V0z\" fill=\"none\"/>\n",
              "    <path d=\"M18.56 5.44l.94 2.06.94-2.06 2.06-.94-2.06-.94-.94-2.06-.94 2.06-2.06.94zm-11 1L8.5 8.5l.94-2.06 2.06-.94-2.06-.94L8.5 2.5l-.94 2.06-2.06.94zm10 10l.94 2.06.94-2.06 2.06-.94-2.06-.94-.94-2.06-.94 2.06-2.06.94z\"/><path d=\"M17.41 7.96l-1.37-1.37c-.4-.4-.92-.59-1.43-.59-.52 0-1.04.2-1.43.59L10.3 9.45l-7.72 7.72c-.78.78-.78 2.05 0 2.83L4 21.41c.39.39.9.59 1.41.59.51 0 1.02-.2 1.41-.59l7.78-7.78 2.81-2.81c.8-.78.8-2.07 0-2.86zM5.41 20L4 18.59l7.72-7.72 1.47 1.35L5.41 20z\"/>\n",
              "  </svg>\n",
              "      </button>\n",
              "      \n",
              "  <style>\n",
              "    .colab-df-container {\n",
              "      display:flex;\n",
              "      flex-wrap:wrap;\n",
              "      gap: 12px;\n",
              "    }\n",
              "\n",
              "    .colab-df-convert {\n",
              "      background-color: #E8F0FE;\n",
              "      border: none;\n",
              "      border-radius: 50%;\n",
              "      cursor: pointer;\n",
              "      display: none;\n",
              "      fill: #1967D2;\n",
              "      height: 32px;\n",
              "      padding: 0 0 0 0;\n",
              "      width: 32px;\n",
              "    }\n",
              "\n",
              "    .colab-df-convert:hover {\n",
              "      background-color: #E2EBFA;\n",
              "      box-shadow: 0px 1px 2px rgba(60, 64, 67, 0.3), 0px 1px 3px 1px rgba(60, 64, 67, 0.15);\n",
              "      fill: #174EA6;\n",
              "    }\n",
              "\n",
              "    [theme=dark] .colab-df-convert {\n",
              "      background-color: #3B4455;\n",
              "      fill: #D2E3FC;\n",
              "    }\n",
              "\n",
              "    [theme=dark] .colab-df-convert:hover {\n",
              "      background-color: #434B5C;\n",
              "      box-shadow: 0px 1px 3px 1px rgba(0, 0, 0, 0.15);\n",
              "      filter: drop-shadow(0px 1px 2px rgba(0, 0, 0, 0.3));\n",
              "      fill: #FFFFFF;\n",
              "    }\n",
              "  </style>\n",
              "\n",
              "      <script>\n",
              "        const buttonEl =\n",
              "          document.querySelector('#df-67605ccf-c14d-49c8-bdcd-35c11c7e1502 button.colab-df-convert');\n",
              "        buttonEl.style.display =\n",
              "          google.colab.kernel.accessAllowed ? 'block' : 'none';\n",
              "\n",
              "        async function convertToInteractive(key) {\n",
              "          const element = document.querySelector('#df-67605ccf-c14d-49c8-bdcd-35c11c7e1502');\n",
              "          const dataTable =\n",
              "            await google.colab.kernel.invokeFunction('convertToInteractive',\n",
              "                                                     [key], {});\n",
              "          if (!dataTable) return;\n",
              "\n",
              "          const docLinkHtml = 'Like what you see? Visit the ' +\n",
              "            '<a target=\"_blank\" href=https://colab.research.google.com/notebooks/data_table.ipynb>data table notebook</a>'\n",
              "            + ' to learn more about interactive tables.';\n",
              "          element.innerHTML = '';\n",
              "          dataTable['output_type'] = 'display_data';\n",
              "          await google.colab.output.renderOutput(dataTable, element);\n",
              "          const docLink = document.createElement('div');\n",
              "          docLink.innerHTML = docLinkHtml;\n",
              "          element.appendChild(docLink);\n",
              "        }\n",
              "      </script>\n",
              "    </div>\n",
              "  </div>\n",
              "  "
            ]
          },
          "metadata": {},
          "execution_count": 4
        }
      ]
    },
    {
      "cell_type": "code",
      "source": [
        "date_threshold= '2021-01-01'\n",
        "data[data['Date']>= date_threshold]"
      ],
      "metadata": {
        "colab": {
          "base_uri": "https://localhost:8080/",
          "height": 424
        },
        "id": "i_dL_S2tSdyp",
        "outputId": "213c8e39-2eac-4e50-d7d2-7fb9cf073b92"
      },
      "execution_count": 5,
      "outputs": [
        {
          "output_type": "execute_result",
          "data": {
            "text/plain": [
              "            Date         Open         High          Low        Close  \\\n",
              "4121  2021-01-04  1757.540039  1760.650024  1707.849976  1728.239990   \n",
              "4122  2021-01-05  1725.000000  1747.670044  1718.015015  1740.920044   \n",
              "4123  2021-01-06  1702.630005  1748.000000  1699.000000  1735.290039   \n",
              "4124  2021-01-07  1740.060059  1788.400024  1737.050049  1787.250000   \n",
              "4125  2021-01-08  1787.979980  1809.839966  1773.535034  1807.209961   \n",
              "...          ...          ...          ...          ...          ...   \n",
              "4480  2022-06-07  2312.959961  2354.972900  2302.510010  2344.590088   \n",
              "4481  2022-06-08  2337.530029  2372.919922  2333.935059  2344.760010   \n",
              "4482  2022-06-09  2326.830078  2367.000000  2297.340088  2298.360107   \n",
              "4483  2022-06-10  2255.625000  2269.939941  2217.219971  2228.550049   \n",
              "4484  2022-06-13  2148.919922  2184.370117  2131.760986  2137.530029   \n",
              "\n",
              "        Adj Close   Volume  \n",
              "4121  1728.239990  1901900  \n",
              "4122  1740.920044  1145300  \n",
              "4123  1735.290039  2602100  \n",
              "4124  1787.250000  2265000  \n",
              "4125  1807.209961  2050600  \n",
              "...           ...      ...  \n",
              "4480  2344.590088  1320700  \n",
              "4481  2344.760010  1127200  \n",
              "4482  2298.360107  1157100  \n",
              "4483  2228.550049  1566200  \n",
              "4484  2137.530029  1835700  \n",
              "\n",
              "[364 rows x 7 columns]"
            ],
            "text/html": [
              "\n",
              "  <div id=\"df-7473e7a7-d588-4047-a9fe-004c4a68bb35\">\n",
              "    <div class=\"colab-df-container\">\n",
              "      <div>\n",
              "<style scoped>\n",
              "    .dataframe tbody tr th:only-of-type {\n",
              "        vertical-align: middle;\n",
              "    }\n",
              "\n",
              "    .dataframe tbody tr th {\n",
              "        vertical-align: top;\n",
              "    }\n",
              "\n",
              "    .dataframe thead th {\n",
              "        text-align: right;\n",
              "    }\n",
              "</style>\n",
              "<table border=\"1\" class=\"dataframe\">\n",
              "  <thead>\n",
              "    <tr style=\"text-align: right;\">\n",
              "      <th></th>\n",
              "      <th>Date</th>\n",
              "      <th>Open</th>\n",
              "      <th>High</th>\n",
              "      <th>Low</th>\n",
              "      <th>Close</th>\n",
              "      <th>Adj Close</th>\n",
              "      <th>Volume</th>\n",
              "    </tr>\n",
              "  </thead>\n",
              "  <tbody>\n",
              "    <tr>\n",
              "      <th>4121</th>\n",
              "      <td>2021-01-04</td>\n",
              "      <td>1757.540039</td>\n",
              "      <td>1760.650024</td>\n",
              "      <td>1707.849976</td>\n",
              "      <td>1728.239990</td>\n",
              "      <td>1728.239990</td>\n",
              "      <td>1901900</td>\n",
              "    </tr>\n",
              "    <tr>\n",
              "      <th>4122</th>\n",
              "      <td>2021-01-05</td>\n",
              "      <td>1725.000000</td>\n",
              "      <td>1747.670044</td>\n",
              "      <td>1718.015015</td>\n",
              "      <td>1740.920044</td>\n",
              "      <td>1740.920044</td>\n",
              "      <td>1145300</td>\n",
              "    </tr>\n",
              "    <tr>\n",
              "      <th>4123</th>\n",
              "      <td>2021-01-06</td>\n",
              "      <td>1702.630005</td>\n",
              "      <td>1748.000000</td>\n",
              "      <td>1699.000000</td>\n",
              "      <td>1735.290039</td>\n",
              "      <td>1735.290039</td>\n",
              "      <td>2602100</td>\n",
              "    </tr>\n",
              "    <tr>\n",
              "      <th>4124</th>\n",
              "      <td>2021-01-07</td>\n",
              "      <td>1740.060059</td>\n",
              "      <td>1788.400024</td>\n",
              "      <td>1737.050049</td>\n",
              "      <td>1787.250000</td>\n",
              "      <td>1787.250000</td>\n",
              "      <td>2265000</td>\n",
              "    </tr>\n",
              "    <tr>\n",
              "      <th>4125</th>\n",
              "      <td>2021-01-08</td>\n",
              "      <td>1787.979980</td>\n",
              "      <td>1809.839966</td>\n",
              "      <td>1773.535034</td>\n",
              "      <td>1807.209961</td>\n",
              "      <td>1807.209961</td>\n",
              "      <td>2050600</td>\n",
              "    </tr>\n",
              "    <tr>\n",
              "      <th>...</th>\n",
              "      <td>...</td>\n",
              "      <td>...</td>\n",
              "      <td>...</td>\n",
              "      <td>...</td>\n",
              "      <td>...</td>\n",
              "      <td>...</td>\n",
              "      <td>...</td>\n",
              "    </tr>\n",
              "    <tr>\n",
              "      <th>4480</th>\n",
              "      <td>2022-06-07</td>\n",
              "      <td>2312.959961</td>\n",
              "      <td>2354.972900</td>\n",
              "      <td>2302.510010</td>\n",
              "      <td>2344.590088</td>\n",
              "      <td>2344.590088</td>\n",
              "      <td>1320700</td>\n",
              "    </tr>\n",
              "    <tr>\n",
              "      <th>4481</th>\n",
              "      <td>2022-06-08</td>\n",
              "      <td>2337.530029</td>\n",
              "      <td>2372.919922</td>\n",
              "      <td>2333.935059</td>\n",
              "      <td>2344.760010</td>\n",
              "      <td>2344.760010</td>\n",
              "      <td>1127200</td>\n",
              "    </tr>\n",
              "    <tr>\n",
              "      <th>4482</th>\n",
              "      <td>2022-06-09</td>\n",
              "      <td>2326.830078</td>\n",
              "      <td>2367.000000</td>\n",
              "      <td>2297.340088</td>\n",
              "      <td>2298.360107</td>\n",
              "      <td>2298.360107</td>\n",
              "      <td>1157100</td>\n",
              "    </tr>\n",
              "    <tr>\n",
              "      <th>4483</th>\n",
              "      <td>2022-06-10</td>\n",
              "      <td>2255.625000</td>\n",
              "      <td>2269.939941</td>\n",
              "      <td>2217.219971</td>\n",
              "      <td>2228.550049</td>\n",
              "      <td>2228.550049</td>\n",
              "      <td>1566200</td>\n",
              "    </tr>\n",
              "    <tr>\n",
              "      <th>4484</th>\n",
              "      <td>2022-06-13</td>\n",
              "      <td>2148.919922</td>\n",
              "      <td>2184.370117</td>\n",
              "      <td>2131.760986</td>\n",
              "      <td>2137.530029</td>\n",
              "      <td>2137.530029</td>\n",
              "      <td>1835700</td>\n",
              "    </tr>\n",
              "  </tbody>\n",
              "</table>\n",
              "<p>364 rows × 7 columns</p>\n",
              "</div>\n",
              "      <button class=\"colab-df-convert\" onclick=\"convertToInteractive('df-7473e7a7-d588-4047-a9fe-004c4a68bb35')\"\n",
              "              title=\"Convert this dataframe to an interactive table.\"\n",
              "              style=\"display:none;\">\n",
              "        \n",
              "  <svg xmlns=\"http://www.w3.org/2000/svg\" height=\"24px\"viewBox=\"0 0 24 24\"\n",
              "       width=\"24px\">\n",
              "    <path d=\"M0 0h24v24H0V0z\" fill=\"none\"/>\n",
              "    <path d=\"M18.56 5.44l.94 2.06.94-2.06 2.06-.94-2.06-.94-.94-2.06-.94 2.06-2.06.94zm-11 1L8.5 8.5l.94-2.06 2.06-.94-2.06-.94L8.5 2.5l-.94 2.06-2.06.94zm10 10l.94 2.06.94-2.06 2.06-.94-2.06-.94-.94-2.06-.94 2.06-2.06.94z\"/><path d=\"M17.41 7.96l-1.37-1.37c-.4-.4-.92-.59-1.43-.59-.52 0-1.04.2-1.43.59L10.3 9.45l-7.72 7.72c-.78.78-.78 2.05 0 2.83L4 21.41c.39.39.9.59 1.41.59.51 0 1.02-.2 1.41-.59l7.78-7.78 2.81-2.81c.8-.78.8-2.07 0-2.86zM5.41 20L4 18.59l7.72-7.72 1.47 1.35L5.41 20z\"/>\n",
              "  </svg>\n",
              "      </button>\n",
              "      \n",
              "  <style>\n",
              "    .colab-df-container {\n",
              "      display:flex;\n",
              "      flex-wrap:wrap;\n",
              "      gap: 12px;\n",
              "    }\n",
              "\n",
              "    .colab-df-convert {\n",
              "      background-color: #E8F0FE;\n",
              "      border: none;\n",
              "      border-radius: 50%;\n",
              "      cursor: pointer;\n",
              "      display: none;\n",
              "      fill: #1967D2;\n",
              "      height: 32px;\n",
              "      padding: 0 0 0 0;\n",
              "      width: 32px;\n",
              "    }\n",
              "\n",
              "    .colab-df-convert:hover {\n",
              "      background-color: #E2EBFA;\n",
              "      box-shadow: 0px 1px 2px rgba(60, 64, 67, 0.3), 0px 1px 3px 1px rgba(60, 64, 67, 0.15);\n",
              "      fill: #174EA6;\n",
              "    }\n",
              "\n",
              "    [theme=dark] .colab-df-convert {\n",
              "      background-color: #3B4455;\n",
              "      fill: #D2E3FC;\n",
              "    }\n",
              "\n",
              "    [theme=dark] .colab-df-convert:hover {\n",
              "      background-color: #434B5C;\n",
              "      box-shadow: 0px 1px 3px 1px rgba(0, 0, 0, 0.15);\n",
              "      filter: drop-shadow(0px 1px 2px rgba(0, 0, 0, 0.3));\n",
              "      fill: #FFFFFF;\n",
              "    }\n",
              "  </style>\n",
              "\n",
              "      <script>\n",
              "        const buttonEl =\n",
              "          document.querySelector('#df-7473e7a7-d588-4047-a9fe-004c4a68bb35 button.colab-df-convert');\n",
              "        buttonEl.style.display =\n",
              "          google.colab.kernel.accessAllowed ? 'block' : 'none';\n",
              "\n",
              "        async function convertToInteractive(key) {\n",
              "          const element = document.querySelector('#df-7473e7a7-d588-4047-a9fe-004c4a68bb35');\n",
              "          const dataTable =\n",
              "            await google.colab.kernel.invokeFunction('convertToInteractive',\n",
              "                                                     [key], {});\n",
              "          if (!dataTable) return;\n",
              "\n",
              "          const docLinkHtml = 'Like what you see? Visit the ' +\n",
              "            '<a target=\"_blank\" href=https://colab.research.google.com/notebooks/data_table.ipynb>data table notebook</a>'\n",
              "            + ' to learn more about interactive tables.';\n",
              "          element.innerHTML = '';\n",
              "          dataTable['output_type'] = 'display_data';\n",
              "          await google.colab.output.renderOutput(dataTable, element);\n",
              "          const docLink = document.createElement('div');\n",
              "          docLink.innerHTML = docLinkHtml;\n",
              "          element.appendChild(docLink);\n",
              "        }\n",
              "      </script>\n",
              "    </div>\n",
              "  </div>\n",
              "  "
            ]
          },
          "metadata": {},
          "execution_count": 5
        }
      ]
    },
    {
      "cell_type": "code",
      "source": [
        "data_training = data[data['Date']<date_threshold].copy()\n",
        "data_test = data[data['Date']>=date_threshold].copy()"
      ],
      "metadata": {
        "id": "0wl1iF1zTHnY"
      },
      "execution_count": 6,
      "outputs": []
    },
    {
      "cell_type": "code",
      "source": [
        "data_training"
      ],
      "metadata": {
        "colab": {
          "base_uri": "https://localhost:8080/",
          "height": 424
        },
        "id": "qRHjPtaKS92k",
        "outputId": "a8be4375-6f4e-4b4b-b30c-1ceebe52b73c"
      },
      "execution_count": 7,
      "outputs": [
        {
          "output_type": "execute_result",
          "data": {
            "text/plain": [
              "            Date         Open         High          Low        Close  \\\n",
              "0     2004-08-20    50.316402    54.336334    50.062355    53.952770   \n",
              "1     2004-08-23    55.168217    56.528118    54.321388    54.495735   \n",
              "2     2004-08-24    55.412300    55.591629    51.591621    52.239197   \n",
              "3     2004-08-25    52.284027    53.798351    51.746044    52.802086   \n",
              "4     2004-08-26    52.279045    53.773445    52.134586    53.753517   \n",
              "...          ...          ...          ...          ...          ...   \n",
              "4116  2020-12-24  1735.000000  1746.000000  1729.109985  1738.849976   \n",
              "4117  2020-12-28  1751.635010  1790.728027  1746.334961  1776.089966   \n",
              "4118  2020-12-29  1787.790039  1792.439941  1756.089966  1758.719971   \n",
              "4119  2020-12-30  1762.010010  1765.094971  1725.599976  1739.520020   \n",
              "4120  2020-12-31  1735.420044  1758.930054  1735.420044  1751.880005   \n",
              "\n",
              "        Adj Close    Volume  \n",
              "0       53.952770  22942874  \n",
              "1       54.495735  18342897  \n",
              "2       52.239197  15319808  \n",
              "3       52.802086   9232276  \n",
              "4       53.753517   7128620  \n",
              "...           ...       ...  \n",
              "4116  1738.849976    346800  \n",
              "4117  1776.089966   1393000  \n",
              "4118  1758.719971   1299400  \n",
              "4119  1739.520020   1306100  \n",
              "4120  1751.880005   1011900  \n",
              "\n",
              "[4121 rows x 7 columns]"
            ],
            "text/html": [
              "\n",
              "  <div id=\"df-96969391-f7a4-408d-aeef-04738b943f92\">\n",
              "    <div class=\"colab-df-container\">\n",
              "      <div>\n",
              "<style scoped>\n",
              "    .dataframe tbody tr th:only-of-type {\n",
              "        vertical-align: middle;\n",
              "    }\n",
              "\n",
              "    .dataframe tbody tr th {\n",
              "        vertical-align: top;\n",
              "    }\n",
              "\n",
              "    .dataframe thead th {\n",
              "        text-align: right;\n",
              "    }\n",
              "</style>\n",
              "<table border=\"1\" class=\"dataframe\">\n",
              "  <thead>\n",
              "    <tr style=\"text-align: right;\">\n",
              "      <th></th>\n",
              "      <th>Date</th>\n",
              "      <th>Open</th>\n",
              "      <th>High</th>\n",
              "      <th>Low</th>\n",
              "      <th>Close</th>\n",
              "      <th>Adj Close</th>\n",
              "      <th>Volume</th>\n",
              "    </tr>\n",
              "  </thead>\n",
              "  <tbody>\n",
              "    <tr>\n",
              "      <th>0</th>\n",
              "      <td>2004-08-20</td>\n",
              "      <td>50.316402</td>\n",
              "      <td>54.336334</td>\n",
              "      <td>50.062355</td>\n",
              "      <td>53.952770</td>\n",
              "      <td>53.952770</td>\n",
              "      <td>22942874</td>\n",
              "    </tr>\n",
              "    <tr>\n",
              "      <th>1</th>\n",
              "      <td>2004-08-23</td>\n",
              "      <td>55.168217</td>\n",
              "      <td>56.528118</td>\n",
              "      <td>54.321388</td>\n",
              "      <td>54.495735</td>\n",
              "      <td>54.495735</td>\n",
              "      <td>18342897</td>\n",
              "    </tr>\n",
              "    <tr>\n",
              "      <th>2</th>\n",
              "      <td>2004-08-24</td>\n",
              "      <td>55.412300</td>\n",
              "      <td>55.591629</td>\n",
              "      <td>51.591621</td>\n",
              "      <td>52.239197</td>\n",
              "      <td>52.239197</td>\n",
              "      <td>15319808</td>\n",
              "    </tr>\n",
              "    <tr>\n",
              "      <th>3</th>\n",
              "      <td>2004-08-25</td>\n",
              "      <td>52.284027</td>\n",
              "      <td>53.798351</td>\n",
              "      <td>51.746044</td>\n",
              "      <td>52.802086</td>\n",
              "      <td>52.802086</td>\n",
              "      <td>9232276</td>\n",
              "    </tr>\n",
              "    <tr>\n",
              "      <th>4</th>\n",
              "      <td>2004-08-26</td>\n",
              "      <td>52.279045</td>\n",
              "      <td>53.773445</td>\n",
              "      <td>52.134586</td>\n",
              "      <td>53.753517</td>\n",
              "      <td>53.753517</td>\n",
              "      <td>7128620</td>\n",
              "    </tr>\n",
              "    <tr>\n",
              "      <th>...</th>\n",
              "      <td>...</td>\n",
              "      <td>...</td>\n",
              "      <td>...</td>\n",
              "      <td>...</td>\n",
              "      <td>...</td>\n",
              "      <td>...</td>\n",
              "      <td>...</td>\n",
              "    </tr>\n",
              "    <tr>\n",
              "      <th>4116</th>\n",
              "      <td>2020-12-24</td>\n",
              "      <td>1735.000000</td>\n",
              "      <td>1746.000000</td>\n",
              "      <td>1729.109985</td>\n",
              "      <td>1738.849976</td>\n",
              "      <td>1738.849976</td>\n",
              "      <td>346800</td>\n",
              "    </tr>\n",
              "    <tr>\n",
              "      <th>4117</th>\n",
              "      <td>2020-12-28</td>\n",
              "      <td>1751.635010</td>\n",
              "      <td>1790.728027</td>\n",
              "      <td>1746.334961</td>\n",
              "      <td>1776.089966</td>\n",
              "      <td>1776.089966</td>\n",
              "      <td>1393000</td>\n",
              "    </tr>\n",
              "    <tr>\n",
              "      <th>4118</th>\n",
              "      <td>2020-12-29</td>\n",
              "      <td>1787.790039</td>\n",
              "      <td>1792.439941</td>\n",
              "      <td>1756.089966</td>\n",
              "      <td>1758.719971</td>\n",
              "      <td>1758.719971</td>\n",
              "      <td>1299400</td>\n",
              "    </tr>\n",
              "    <tr>\n",
              "      <th>4119</th>\n",
              "      <td>2020-12-30</td>\n",
              "      <td>1762.010010</td>\n",
              "      <td>1765.094971</td>\n",
              "      <td>1725.599976</td>\n",
              "      <td>1739.520020</td>\n",
              "      <td>1739.520020</td>\n",
              "      <td>1306100</td>\n",
              "    </tr>\n",
              "    <tr>\n",
              "      <th>4120</th>\n",
              "      <td>2020-12-31</td>\n",
              "      <td>1735.420044</td>\n",
              "      <td>1758.930054</td>\n",
              "      <td>1735.420044</td>\n",
              "      <td>1751.880005</td>\n",
              "      <td>1751.880005</td>\n",
              "      <td>1011900</td>\n",
              "    </tr>\n",
              "  </tbody>\n",
              "</table>\n",
              "<p>4121 rows × 7 columns</p>\n",
              "</div>\n",
              "      <button class=\"colab-df-convert\" onclick=\"convertToInteractive('df-96969391-f7a4-408d-aeef-04738b943f92')\"\n",
              "              title=\"Convert this dataframe to an interactive table.\"\n",
              "              style=\"display:none;\">\n",
              "        \n",
              "  <svg xmlns=\"http://www.w3.org/2000/svg\" height=\"24px\"viewBox=\"0 0 24 24\"\n",
              "       width=\"24px\">\n",
              "    <path d=\"M0 0h24v24H0V0z\" fill=\"none\"/>\n",
              "    <path d=\"M18.56 5.44l.94 2.06.94-2.06 2.06-.94-2.06-.94-.94-2.06-.94 2.06-2.06.94zm-11 1L8.5 8.5l.94-2.06 2.06-.94-2.06-.94L8.5 2.5l-.94 2.06-2.06.94zm10 10l.94 2.06.94-2.06 2.06-.94-2.06-.94-.94-2.06-.94 2.06-2.06.94z\"/><path d=\"M17.41 7.96l-1.37-1.37c-.4-.4-.92-.59-1.43-.59-.52 0-1.04.2-1.43.59L10.3 9.45l-7.72 7.72c-.78.78-.78 2.05 0 2.83L4 21.41c.39.39.9.59 1.41.59.51 0 1.02-.2 1.41-.59l7.78-7.78 2.81-2.81c.8-.78.8-2.07 0-2.86zM5.41 20L4 18.59l7.72-7.72 1.47 1.35L5.41 20z\"/>\n",
              "  </svg>\n",
              "      </button>\n",
              "      \n",
              "  <style>\n",
              "    .colab-df-container {\n",
              "      display:flex;\n",
              "      flex-wrap:wrap;\n",
              "      gap: 12px;\n",
              "    }\n",
              "\n",
              "    .colab-df-convert {\n",
              "      background-color: #E8F0FE;\n",
              "      border: none;\n",
              "      border-radius: 50%;\n",
              "      cursor: pointer;\n",
              "      display: none;\n",
              "      fill: #1967D2;\n",
              "      height: 32px;\n",
              "      padding: 0 0 0 0;\n",
              "      width: 32px;\n",
              "    }\n",
              "\n",
              "    .colab-df-convert:hover {\n",
              "      background-color: #E2EBFA;\n",
              "      box-shadow: 0px 1px 2px rgba(60, 64, 67, 0.3), 0px 1px 3px 1px rgba(60, 64, 67, 0.15);\n",
              "      fill: #174EA6;\n",
              "    }\n",
              "\n",
              "    [theme=dark] .colab-df-convert {\n",
              "      background-color: #3B4455;\n",
              "      fill: #D2E3FC;\n",
              "    }\n",
              "\n",
              "    [theme=dark] .colab-df-convert:hover {\n",
              "      background-color: #434B5C;\n",
              "      box-shadow: 0px 1px 3px 1px rgba(0, 0, 0, 0.15);\n",
              "      filter: drop-shadow(0px 1px 2px rgba(0, 0, 0, 0.3));\n",
              "      fill: #FFFFFF;\n",
              "    }\n",
              "  </style>\n",
              "\n",
              "      <script>\n",
              "        const buttonEl =\n",
              "          document.querySelector('#df-96969391-f7a4-408d-aeef-04738b943f92 button.colab-df-convert');\n",
              "        buttonEl.style.display =\n",
              "          google.colab.kernel.accessAllowed ? 'block' : 'none';\n",
              "\n",
              "        async function convertToInteractive(key) {\n",
              "          const element = document.querySelector('#df-96969391-f7a4-408d-aeef-04738b943f92');\n",
              "          const dataTable =\n",
              "            await google.colab.kernel.invokeFunction('convertToInteractive',\n",
              "                                                     [key], {});\n",
              "          if (!dataTable) return;\n",
              "\n",
              "          const docLinkHtml = 'Like what you see? Visit the ' +\n",
              "            '<a target=\"_blank\" href=https://colab.research.google.com/notebooks/data_table.ipynb>data table notebook</a>'\n",
              "            + ' to learn more about interactive tables.';\n",
              "          element.innerHTML = '';\n",
              "          dataTable['output_type'] = 'display_data';\n",
              "          await google.colab.output.renderOutput(dataTable, element);\n",
              "          const docLink = document.createElement('div');\n",
              "          docLink.innerHTML = docLinkHtml;\n",
              "          element.appendChild(docLink);\n",
              "        }\n",
              "      </script>\n",
              "    </div>\n",
              "  </div>\n",
              "  "
            ]
          },
          "metadata": {},
          "execution_count": 7
        }
      ]
    },
    {
      "cell_type": "code",
      "source": [
        "data_training = data_training.drop(['Date', 'Adj Close'], axis = 1)"
      ],
      "metadata": {
        "id": "d4aLu4w7TSuM"
      },
      "execution_count": 8,
      "outputs": []
    },
    {
      "cell_type": "code",
      "source": [
        "scaler = MinMaxScaler()\n",
        "scaled_data_training = scaler.fit_transform(data_training)\n",
        "scaled_data_training"
      ],
      "metadata": {
        "colab": {
          "base_uri": "https://localhost:8080/"
        },
        "id": "E2OwQHwiTk4v",
        "outputId": "7855acf0-b680-4965-a582-9d5920c8c594"
      },
      "execution_count": 9,
      "outputs": [
        {
          "output_type": "execute_result",
          "data": {
            "text/plain": [
              "array([[5.10729413e-04, 2.03521039e-03, 4.38199754e-04, 2.32514214e-03,\n",
              "        2.77885876e-01],\n",
              "       [3.24397659e-03, 3.25522693e-03, 2.83986753e-03, 2.63049229e-03,\n",
              "        2.22151352e-01],\n",
              "       [3.38147960e-03, 2.73394743e-03, 1.30055252e-03, 1.36147087e-03,\n",
              "        1.85522815e-01],\n",
              "       ...,\n",
              "       [9.79308338e-01, 9.69518841e-01, 9.62466798e-01, 9.61044247e-01,\n",
              "        1.56478852e-02],\n",
              "       [9.64785280e-01, 9.54297762e-01, 9.45273499e-01, 9.50246667e-01,\n",
              "        1.57290641e-02],\n",
              "       [9.49805947e-01, 9.50866174e-01, 9.50811033e-01, 9.57197618e-01,\n",
              "        1.21644600e-02]])"
            ]
          },
          "metadata": {},
          "execution_count": 9
        }
      ]
    },
    {
      "cell_type": "code",
      "source": [
        "scaled_data_training.shape"
      ],
      "metadata": {
        "colab": {
          "base_uri": "https://localhost:8080/"
        },
        "id": "P-y3uC6tU9Nm",
        "outputId": "851a989a-ec23-4df8-8e81-bb5f1818412b"
      },
      "execution_count": 10,
      "outputs": [
        {
          "output_type": "execute_result",
          "data": {
            "text/plain": [
              "(4121, 5)"
            ]
          },
          "metadata": {},
          "execution_count": 10
        }
      ]
    },
    {
      "cell_type": "code",
      "source": [
        "batch= 64\n",
        "\n",
        "X_train= []\n",
        "y_train= []\n",
        "\n",
        "for i in range(batch, scaled_data_training.shape[0]):\n",
        "    X_train.append(scaled_data_training[i-batch:i])\n",
        "    y_train.append(scaled_data_training[i, 0])"
      ],
      "metadata": {
        "id": "lO6mqpeTTlmY"
      },
      "execution_count": 11,
      "outputs": []
    },
    {
      "cell_type": "code",
      "source": [
        "X_train, y_train= np.array(X_train), np.array(y_train)\n",
        "\n",
        "X_train.shape"
      ],
      "metadata": {
        "colab": {
          "base_uri": "https://localhost:8080/"
        },
        "id": "nbJhncn4VUjq",
        "outputId": "71131b96-70bd-40d9-b5e6-a92deccf2c2e"
      },
      "execution_count": 12,
      "outputs": [
        {
          "output_type": "execute_result",
          "data": {
            "text/plain": [
              "(4057, 64, 5)"
            ]
          },
          "metadata": {},
          "execution_count": 12
        }
      ]
    },
    {
      "cell_type": "markdown",
      "source": [
        "# Modeling"
      ],
      "metadata": {
        "id": "BkiLlKiDZIxt"
      }
    },
    {
      "cell_type": "markdown",
      "source": [
        "### LSTM"
      ],
      "metadata": {
        "id": "TyC6vUIHZT81"
      }
    },
    {
      "cell_type": "code",
      "source": [
        "lstm_model= keras.Sequential([\n",
        "    keras.layers.Input(X_train.shape[1:]),\n",
        "    keras.layers.LSTM(256, 'tanh', return_sequences= True),\n",
        "    keras.layers.Dropout(0.2),\n",
        "    keras.layers.LSTM(256, 'tanh'),\n",
        "    keras.layers.Dropout(0.2),\n",
        "    keras.layers.Dense(1)\n",
        "])"
      ],
      "metadata": {
        "id": "XlNV7QRmZK3k"
      },
      "execution_count": 13,
      "outputs": []
    },
    {
      "cell_type": "code",
      "source": [
        "lstm_model_path= 'weight_checkpoints/lstm-epoch:{epoch:0.1f}.ckpt'\n",
        "model_checkpoint= keras.callbacks.ModelCheckpoint(lstm_model_path, monitor='loss', verbose=0, save_best_only=True, save_weights_only=True, mode='auto')\n",
        "\n",
        "reduce_lr= keras.callbacks.ReduceLROnPlateau(monitor='loss', factor= 0.75, patience=1, min_lr=0.00001, min_delta=0.0001)"
      ],
      "metadata": {
        "id": "9tmw9E_AqN0Y"
      },
      "execution_count": 14,
      "outputs": []
    },
    {
      "cell_type": "code",
      "source": [
        "lstm_model.compile(optimizer='adam', loss = 'mean_squared_error')\n",
        "lstm_model.fit(X_train, y_train, epochs=15, batch_size=16, callbacks=[model_checkpoint, reduce_lr])"
      ],
      "metadata": {
        "colab": {
          "base_uri": "https://localhost:8080/"
        },
        "id": "nIXaTmrBZer1",
        "outputId": "5dd4bdaa-8ca6-40b8-8630-21bd51745772"
      },
      "execution_count": 15,
      "outputs": [
        {
          "output_type": "stream",
          "name": "stdout",
          "text": [
            "Epoch 1/15\n",
            "254/254 [==============================] - 11s 13ms/step - loss: 0.0021 - lr: 0.0010\n",
            "Epoch 2/15\n",
            "254/254 [==============================] - 3s 12ms/step - loss: 5.5986e-04 - lr: 0.0010\n",
            "Epoch 3/15\n",
            "254/254 [==============================] - 3s 10ms/step - loss: 4.6476e-04 - lr: 0.0010\n",
            "Epoch 4/15\n",
            "254/254 [==============================] - 3s 11ms/step - loss: 4.8578e-04 - lr: 7.5000e-04\n",
            "Epoch 5/15\n",
            "254/254 [==============================] - 3s 12ms/step - loss: 4.3550e-04 - lr: 5.6250e-04\n",
            "Epoch 6/15\n",
            "254/254 [==============================] - 3s 10ms/step - loss: 4.9727e-04 - lr: 5.6250e-04\n",
            "Epoch 7/15\n",
            "254/254 [==============================] - 2s 10ms/step - loss: 4.1827e-04 - lr: 4.2187e-04\n",
            "Epoch 8/15\n",
            "254/254 [==============================] - 3s 10ms/step - loss: 3.4162e-04 - lr: 3.1641e-04\n",
            "Epoch 9/15\n",
            "254/254 [==============================] - 2s 10ms/step - loss: 2.9611e-04 - lr: 2.3730e-04\n",
            "Epoch 10/15\n",
            "254/254 [==============================] - 3s 10ms/step - loss: 2.8092e-04 - lr: 2.3730e-04\n",
            "Epoch 11/15\n",
            "254/254 [==============================] - 3s 10ms/step - loss: 2.6453e-04 - lr: 1.7798e-04\n",
            "Epoch 12/15\n",
            "254/254 [==============================] - 3s 10ms/step - loss: 2.5930e-04 - lr: 1.3348e-04\n",
            "Epoch 13/15\n",
            "254/254 [==============================] - 3s 10ms/step - loss: 2.4459e-04 - lr: 1.0011e-04\n",
            "Epoch 14/15\n",
            "254/254 [==============================] - 2s 10ms/step - loss: 2.4923e-04 - lr: 7.5085e-05\n",
            "Epoch 15/15\n",
            "254/254 [==============================] - 3s 10ms/step - loss: 2.3265e-04 - lr: 5.6314e-05\n"
          ]
        },
        {
          "output_type": "execute_result",
          "data": {
            "text/plain": [
              "<keras.callbacks.History at 0x7f35167e2350>"
            ]
          },
          "metadata": {},
          "execution_count": 15
        }
      ]
    },
    {
      "cell_type": "markdown",
      "source": [
        "### GRU"
      ],
      "metadata": {
        "id": "5BCK21lUhT1J"
      }
    },
    {
      "cell_type": "code",
      "source": [
        "gru_model= keras.Sequential([\n",
        "    keras.layers.Input(X_train.shape[1:]),\n",
        "    keras.layers.GRU(256, 'tanh', return_sequences= True),\n",
        "    keras.layers.Dropout(0.2),\n",
        "    keras.layers.GRU(256, 'tanh'),\n",
        "    keras.layers.Dropout(0.2),\n",
        "    keras.layers.Dense(1)\n",
        "])"
      ],
      "metadata": {
        "id": "zGA97yZthVe0"
      },
      "execution_count": 16,
      "outputs": []
    },
    {
      "cell_type": "code",
      "source": [
        "gru_model_path= 'weight_checkpoints/gru-epoch:{epoch:0.1f}.ckpt'\n",
        "model_checkpoint= keras.callbacks.ModelCheckpoint(gru_model_path, monitor='loss', verbose=0, save_best_only=True, save_weights_only=True, mode='auto')"
      ],
      "metadata": {
        "id": "2qpheYCAnRHS"
      },
      "execution_count": 17,
      "outputs": []
    },
    {
      "cell_type": "code",
      "source": [
        "gru_model.compile(optimizer='adam', loss = 'mean_squared_error')\n",
        "gru_model.fit(X_train, y_train, epochs=15, batch_size=16, callbacks=[model_checkpoint, reduce_lr])"
      ],
      "metadata": {
        "colab": {
          "base_uri": "https://localhost:8080/"
        },
        "id": "hDcYWWSehZX6",
        "outputId": "25deccd8-d7e3-4e8b-eebb-262a504267ee"
      },
      "execution_count": 18,
      "outputs": [
        {
          "output_type": "stream",
          "name": "stdout",
          "text": [
            "Epoch 1/15\n",
            "254/254 [==============================] - 5s 10ms/step - loss: 0.0021 - lr: 0.0010\n",
            "Epoch 2/15\n",
            "254/254 [==============================] - 2s 9ms/step - loss: 5.5582e-04 - lr: 0.0010\n",
            "Epoch 3/15\n",
            "254/254 [==============================] - 2s 9ms/step - loss: 5.6549e-04 - lr: 0.0010\n",
            "Epoch 4/15\n",
            "254/254 [==============================] - 2s 9ms/step - loss: 4.3833e-04 - lr: 7.5000e-04\n",
            "Epoch 5/15\n",
            "254/254 [==============================] - 2s 9ms/step - loss: 4.4051e-04 - lr: 7.5000e-04\n",
            "Epoch 6/15\n",
            "254/254 [==============================] - 2s 10ms/step - loss: 3.4006e-04 - lr: 5.6250e-04\n",
            "Epoch 7/15\n",
            "254/254 [==============================] - 2s 10ms/step - loss: 3.2520e-04 - lr: 4.2187e-04\n",
            "Epoch 8/15\n",
            "254/254 [==============================] - 2s 10ms/step - loss: 3.0531e-04 - lr: 4.2187e-04\n",
            "Epoch 9/15\n",
            "254/254 [==============================] - 3s 11ms/step - loss: 2.7055e-04 - lr: 3.1641e-04\n",
            "Epoch 10/15\n",
            "254/254 [==============================] - 4s 17ms/step - loss: 2.6718e-04 - lr: 2.3730e-04\n",
            "Epoch 11/15\n",
            "254/254 [==============================] - 4s 16ms/step - loss: 2.4201e-04 - lr: 1.7798e-04\n",
            "Epoch 12/15\n",
            "254/254 [==============================] - 4s 18ms/step - loss: 2.1860e-04 - lr: 1.3348e-04\n",
            "Epoch 13/15\n",
            "254/254 [==============================] - 4s 17ms/step - loss: 2.3344e-04 - lr: 1.3348e-04\n",
            "Epoch 14/15\n",
            "254/254 [==============================] - 5s 18ms/step - loss: 1.9356e-04 - lr: 1.0011e-04\n",
            "Epoch 15/15\n",
            "254/254 [==============================] - 4s 16ms/step - loss: 2.1734e-04 - lr: 7.5085e-05\n"
          ]
        },
        {
          "output_type": "execute_result",
          "data": {
            "text/plain": [
              "<keras.callbacks.History at 0x7f3511ed9190>"
            ]
          },
          "metadata": {},
          "execution_count": 18
        }
      ]
    },
    {
      "cell_type": "code",
      "source": [
        "gru_model.load_weights('/content/weight_checkpoints/gru-epoch:14.0.ckpt')"
      ],
      "metadata": {
        "colab": {
          "base_uri": "https://localhost:8080/"
        },
        "id": "NtdKmCaDpIqv",
        "outputId": "9f1e56d8-9bfb-4688-e1a2-b5e8ac136518"
      },
      "execution_count": 32,
      "outputs": [
        {
          "output_type": "execute_result",
          "data": {
            "text/plain": [
              "<tensorflow.python.training.tracking.util.CheckpointLoadStatus at 0x7f350fc4b850>"
            ]
          },
          "metadata": {},
          "execution_count": 32
        }
      ]
    },
    {
      "cell_type": "markdown",
      "source": [
        "# Evaluation"
      ],
      "metadata": {
        "id": "prqOccOwavKt"
      }
    },
    {
      "cell_type": "markdown",
      "source": [
        "### Preprocess data test"
      ],
      "metadata": {
        "id": "C8NSsWA1bqNp"
      }
    },
    {
      "cell_type": "code",
      "source": [
        "past_days = data_training.tail(batch)\n",
        "data_test = past_days.append(data_test, ignore_index = True)\n",
        "data_test = data_test.drop(['Date', 'Adj Close'], axis = 1)\n",
        "data_test.head()"
      ],
      "metadata": {
        "colab": {
          "base_uri": "https://localhost:8080/",
          "height": 206
        },
        "id": "mT5Dj5G_Ze2W",
        "outputId": "7efac469-994d-4245-f9fc-ecb71ca816bf"
      },
      "execution_count": 19,
      "outputs": [
        {
          "output_type": "execute_result",
          "data": {
            "text/plain": [
              "          Open         High          Low        Close   Volume\n",
              "0  1484.270020  1499.040039  1479.209961  1490.089966  1779500\n",
              "1  1462.030029  1483.199951  1450.920044  1458.420044  1284100\n",
              "2  1466.209961  1488.209961  1464.270020  1486.020020  1113300\n",
              "3  1475.579956  1486.760010  1448.589966  1453.439941  1245400\n",
              "4  1464.290039  1468.959961  1436.000000  1460.290039  1746200"
            ],
            "text/html": [
              "\n",
              "  <div id=\"df-bfded4bc-c3d4-4c2d-80fc-c5c420f1c60d\">\n",
              "    <div class=\"colab-df-container\">\n",
              "      <div>\n",
              "<style scoped>\n",
              "    .dataframe tbody tr th:only-of-type {\n",
              "        vertical-align: middle;\n",
              "    }\n",
              "\n",
              "    .dataframe tbody tr th {\n",
              "        vertical-align: top;\n",
              "    }\n",
              "\n",
              "    .dataframe thead th {\n",
              "        text-align: right;\n",
              "    }\n",
              "</style>\n",
              "<table border=\"1\" class=\"dataframe\">\n",
              "  <thead>\n",
              "    <tr style=\"text-align: right;\">\n",
              "      <th></th>\n",
              "      <th>Open</th>\n",
              "      <th>High</th>\n",
              "      <th>Low</th>\n",
              "      <th>Close</th>\n",
              "      <th>Volume</th>\n",
              "    </tr>\n",
              "  </thead>\n",
              "  <tbody>\n",
              "    <tr>\n",
              "      <th>0</th>\n",
              "      <td>1484.270020</td>\n",
              "      <td>1499.040039</td>\n",
              "      <td>1479.209961</td>\n",
              "      <td>1490.089966</td>\n",
              "      <td>1779500</td>\n",
              "    </tr>\n",
              "    <tr>\n",
              "      <th>1</th>\n",
              "      <td>1462.030029</td>\n",
              "      <td>1483.199951</td>\n",
              "      <td>1450.920044</td>\n",
              "      <td>1458.420044</td>\n",
              "      <td>1284100</td>\n",
              "    </tr>\n",
              "    <tr>\n",
              "      <th>2</th>\n",
              "      <td>1466.209961</td>\n",
              "      <td>1488.209961</td>\n",
              "      <td>1464.270020</td>\n",
              "      <td>1486.020020</td>\n",
              "      <td>1113300</td>\n",
              "    </tr>\n",
              "    <tr>\n",
              "      <th>3</th>\n",
              "      <td>1475.579956</td>\n",
              "      <td>1486.760010</td>\n",
              "      <td>1448.589966</td>\n",
              "      <td>1453.439941</td>\n",
              "      <td>1245400</td>\n",
              "    </tr>\n",
              "    <tr>\n",
              "      <th>4</th>\n",
              "      <td>1464.290039</td>\n",
              "      <td>1468.959961</td>\n",
              "      <td>1436.000000</td>\n",
              "      <td>1460.290039</td>\n",
              "      <td>1746200</td>\n",
              "    </tr>\n",
              "  </tbody>\n",
              "</table>\n",
              "</div>\n",
              "      <button class=\"colab-df-convert\" onclick=\"convertToInteractive('df-bfded4bc-c3d4-4c2d-80fc-c5c420f1c60d')\"\n",
              "              title=\"Convert this dataframe to an interactive table.\"\n",
              "              style=\"display:none;\">\n",
              "        \n",
              "  <svg xmlns=\"http://www.w3.org/2000/svg\" height=\"24px\"viewBox=\"0 0 24 24\"\n",
              "       width=\"24px\">\n",
              "    <path d=\"M0 0h24v24H0V0z\" fill=\"none\"/>\n",
              "    <path d=\"M18.56 5.44l.94 2.06.94-2.06 2.06-.94-2.06-.94-.94-2.06-.94 2.06-2.06.94zm-11 1L8.5 8.5l.94-2.06 2.06-.94-2.06-.94L8.5 2.5l-.94 2.06-2.06.94zm10 10l.94 2.06.94-2.06 2.06-.94-2.06-.94-.94-2.06-.94 2.06-2.06.94z\"/><path d=\"M17.41 7.96l-1.37-1.37c-.4-.4-.92-.59-1.43-.59-.52 0-1.04.2-1.43.59L10.3 9.45l-7.72 7.72c-.78.78-.78 2.05 0 2.83L4 21.41c.39.39.9.59 1.41.59.51 0 1.02-.2 1.41-.59l7.78-7.78 2.81-2.81c.8-.78.8-2.07 0-2.86zM5.41 20L4 18.59l7.72-7.72 1.47 1.35L5.41 20z\"/>\n",
              "  </svg>\n",
              "      </button>\n",
              "      \n",
              "  <style>\n",
              "    .colab-df-container {\n",
              "      display:flex;\n",
              "      flex-wrap:wrap;\n",
              "      gap: 12px;\n",
              "    }\n",
              "\n",
              "    .colab-df-convert {\n",
              "      background-color: #E8F0FE;\n",
              "      border: none;\n",
              "      border-radius: 50%;\n",
              "      cursor: pointer;\n",
              "      display: none;\n",
              "      fill: #1967D2;\n",
              "      height: 32px;\n",
              "      padding: 0 0 0 0;\n",
              "      width: 32px;\n",
              "    }\n",
              "\n",
              "    .colab-df-convert:hover {\n",
              "      background-color: #E2EBFA;\n",
              "      box-shadow: 0px 1px 2px rgba(60, 64, 67, 0.3), 0px 1px 3px 1px rgba(60, 64, 67, 0.15);\n",
              "      fill: #174EA6;\n",
              "    }\n",
              "\n",
              "    [theme=dark] .colab-df-convert {\n",
              "      background-color: #3B4455;\n",
              "      fill: #D2E3FC;\n",
              "    }\n",
              "\n",
              "    [theme=dark] .colab-df-convert:hover {\n",
              "      background-color: #434B5C;\n",
              "      box-shadow: 0px 1px 3px 1px rgba(0, 0, 0, 0.15);\n",
              "      filter: drop-shadow(0px 1px 2px rgba(0, 0, 0, 0.3));\n",
              "      fill: #FFFFFF;\n",
              "    }\n",
              "  </style>\n",
              "\n",
              "      <script>\n",
              "        const buttonEl =\n",
              "          document.querySelector('#df-bfded4bc-c3d4-4c2d-80fc-c5c420f1c60d button.colab-df-convert');\n",
              "        buttonEl.style.display =\n",
              "          google.colab.kernel.accessAllowed ? 'block' : 'none';\n",
              "\n",
              "        async function convertToInteractive(key) {\n",
              "          const element = document.querySelector('#df-bfded4bc-c3d4-4c2d-80fc-c5c420f1c60d');\n",
              "          const dataTable =\n",
              "            await google.colab.kernel.invokeFunction('convertToInteractive',\n",
              "                                                     [key], {});\n",
              "          if (!dataTable) return;\n",
              "\n",
              "          const docLinkHtml = 'Like what you see? Visit the ' +\n",
              "            '<a target=\"_blank\" href=https://colab.research.google.com/notebooks/data_table.ipynb>data table notebook</a>'\n",
              "            + ' to learn more about interactive tables.';\n",
              "          element.innerHTML = '';\n",
              "          dataTable['output_type'] = 'display_data';\n",
              "          await google.colab.output.renderOutput(dataTable, element);\n",
              "          const docLink = document.createElement('div');\n",
              "          docLink.innerHTML = docLinkHtml;\n",
              "          element.appendChild(docLink);\n",
              "        }\n",
              "      </script>\n",
              "    </div>\n",
              "  </div>\n",
              "  "
            ]
          },
          "metadata": {},
          "execution_count": 19
        }
      ]
    },
    {
      "cell_type": "code",
      "source": [
        "scaled_data_test= scaler.transform(data_test)\n",
        "\n",
        "scaled_data_test.shape"
      ],
      "metadata": {
        "colab": {
          "base_uri": "https://localhost:8080/"
        },
        "id": "vZTMb3IJbAb8",
        "outputId": "95c44040-0c64-4a19-8a85-7abd2e983192"
      },
      "execution_count": 20,
      "outputs": [
        {
          "output_type": "execute_result",
          "data": {
            "text/plain": [
              "(428, 5)"
            ]
          },
          "metadata": {},
          "execution_count": 20
        }
      ]
    },
    {
      "cell_type": "code",
      "source": [
        "batch= 64\n",
        "\n",
        "X_test= []\n",
        "y_test= []\n",
        "\n",
        "for i in range(batch, scaled_data_test.shape[0]):\n",
        "    X_test.append(scaled_data_test[i-batch:i])\n",
        "    y_test.append(scaled_data_test[i, 0])"
      ],
      "metadata": {
        "id": "0CA4e9lEbmdt"
      },
      "execution_count": 21,
      "outputs": []
    },
    {
      "cell_type": "code",
      "source": [
        "X_test, y_test= np.array(X_test), np.array(y_test)\n",
        "\n",
        "X_test.shape"
      ],
      "metadata": {
        "colab": {
          "base_uri": "https://localhost:8080/"
        },
        "id": "8F4Kq6fXbz6B",
        "outputId": "80c18c3c-7156-44fa-bb43-98d0ab4a937b"
      },
      "execution_count": 22,
      "outputs": [
        {
          "output_type": "execute_result",
          "data": {
            "text/plain": [
              "(364, 64, 5)"
            ]
          },
          "metadata": {},
          "execution_count": 22
        }
      ]
    },
    {
      "cell_type": "markdown",
      "source": [
        "### Prediction and evaluating error"
      ],
      "metadata": {
        "id": "PoiAZd7jb9Pg"
      }
    },
    {
      "cell_type": "code",
      "source": [
        "scaler.scale_"
      ],
      "metadata": {
        "colab": {
          "base_uri": "https://localhost:8080/"
        },
        "id": "vZOSdNSHcGot",
        "outputId": "396a2215-54f1-4944-b65b-99d557b0ff93"
      },
      "execution_count": 23,
      "outputs": [
        {
          "output_type": "execute_result",
          "data": {
            "text/plain": [
              "array([5.63345301e-04, 5.56631737e-04, 5.63899782e-04, 5.62375381e-04,\n",
              "       1.21162615e-08])"
            ]
          },
          "metadata": {},
          "execution_count": 23
        }
      ]
    },
    {
      "cell_type": "code",
      "source": [
        "y_scale= 1/scaler.scale_[0]\n",
        "\n",
        "y_scale"
      ],
      "metadata": {
        "colab": {
          "base_uri": "https://localhost:8080/"
        },
        "id": "wjCahHi-cIxR",
        "outputId": "bd758b77-b466-459b-9574-0d7835f389c3"
      },
      "execution_count": 24,
      "outputs": [
        {
          "output_type": "execute_result",
          "data": {
            "text/plain": [
              "1775.110219"
            ]
          },
          "metadata": {},
          "execution_count": 24
        }
      ]
    },
    {
      "cell_type": "code",
      "source": [
        "y_test = y_test*y_scale\n",
        "y_train_2 = y_train*y_scale"
      ],
      "metadata": {
        "id": "rcW7zwWgcXkx"
      },
      "execution_count": 25,
      "outputs": []
    },
    {
      "cell_type": "code",
      "source": [
        "lstm_y_pred = lstm_model.predict(X_test)\n",
        "lstm_y_pred = lstm_y_pred*y_scale\n",
        "\n",
        "gru_y_pred = gru_model.predict(X_test)\n",
        "gru_y_pred = gru_y_pred*y_scale"
      ],
      "metadata": {
        "id": "w7QrNsb1b-kK"
      },
      "execution_count": 33,
      "outputs": []
    },
    {
      "cell_type": "code",
      "source": [
        "print(f'LSTM MRE: {mean_squared_error(y_test, lstm_y_pred)}')\n",
        "print(f'GRU MRE: {mean_squared_error(y_test, gru_y_pred)}')"
      ],
      "metadata": {
        "colab": {
          "base_uri": "https://localhost:8080/"
        },
        "id": "wnKOYqMmduvJ",
        "outputId": "d11a496e-47a4-4147-824e-f66ef96eccf9"
      },
      "execution_count": 34,
      "outputs": [
        {
          "output_type": "stream",
          "name": "stdout",
          "text": [
            "LSTM MRE: 6587.087830806544\n",
            "GRU MRE: 1936.2902988034073\n"
          ]
        }
      ]
    },
    {
      "cell_type": "markdown",
      "source": [
        "### Plot LSTM-GRU model comparison"
      ],
      "metadata": {
        "id": "-QA3dGhus0E2"
      }
    },
    {
      "cell_type": "code",
      "source": [
        "cmap = cm.get_cmap('Paired')\n",
        "c= [colors.rgb2hex(cmap(ci)) for ci in range(len(cmap.colors))]\n",
        "\n",
        "plt.figure(figsize=(16,6))\n",
        "\n",
        "plt.plot(lstm_y_pred, color = c[0], label = 'LSTM Predict Stock Price', linewidth= 3)\n",
        "plt.plot(gru_y_pred, color = c[2], label = 'GRU Predict Stock Price', linewidth= 3)\n",
        "plt.plot(y_test, color = c[7], label = 'True Stock Price', linewidth= 3)\n",
        "\n",
        "plt.title('Stock Price Prediction')\n",
        "plt.xlabel('Time (Day)')\n",
        "plt.ylabel('Stock Price')\n",
        "plt.legend()\n",
        "plt.show()"
      ],
      "metadata": {
        "colab": {
          "base_uri": "https://localhost:8080/",
          "height": 441
        },
        "id": "QcLRUFwuca2J",
        "outputId": "9c2086c3-631b-47b2-f01a-634220a57d39"
      },
      "execution_count": 35,
      "outputs": [
        {
          "output_type": "display_data",
          "data": {
            "text/plain": [
              "<Figure size 1152x432 with 1 Axes>"
            ],
            "image/png": "[encoded data removed]"
          },
          "metadata": {}
        }
      ]
    }
  ]
}