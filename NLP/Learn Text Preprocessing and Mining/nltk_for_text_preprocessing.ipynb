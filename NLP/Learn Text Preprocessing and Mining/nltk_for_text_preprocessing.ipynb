{
 "cells": [
  {
   "cell_type": "markdown",
   "id": "373d6819",
   "metadata": {},
   "source": [
    "Learn nltk for text preprocessing"
   ]
  },
  {
   "cell_type": "markdown",
   "id": "76255b79",
   "metadata": {},
   "source": [
    "# Tokenization"
   ]
  },
  {
   "cell_type": "code",
   "execution_count": 1,
   "id": "c5bf54cc",
   "metadata": {},
   "outputs": [],
   "source": [
    "from nltk.tokenize import sent_tokenize, word_tokenize"
   ]
  },
  {
   "cell_type": "markdown",
   "id": "320466fb",
   "metadata": {},
   "source": [
    "Sentence Tokenizer"
   ]
  },
  {
   "cell_type": "code",
   "execution_count": 2,
   "id": "b8294dc4",
   "metadata": {},
   "outputs": [
    {
     "name": "stdout",
     "output_type": "stream",
     "text": [
      "['Hello there, how are u doing?', 'i will be travelling to your city!', 'Lets Chatch up.']\n",
      "['Sanggupkah kau dan aku, memulai kembali?', 'merangkai hati yang hancur berkeping-keping.']\n"
     ]
    }
   ],
   "source": [
    "text1= 'Hello there, how are u doing? i will be travelling to your city! Lets Chatch up.'\n",
    "text2= 'Sanggupkah kau dan aku, memulai kembali? merangkai hati yang hancur berkeping-keping.'\n",
    "\n",
    "print(sent_tokenize(text1))\n",
    "print(sent_tokenize(text2))"
   ]
  },
  {
   "cell_type": "markdown",
   "id": "5f64738b",
   "metadata": {},
   "source": [
    "Word Tokenizer"
   ]
  },
  {
   "cell_type": "code",
   "execution_count": 3,
   "id": "b6d50b22",
   "metadata": {},
   "outputs": [
    {
     "name": "stdout",
     "output_type": "stream",
     "text": [
      "['Hello', 'there', ',', 'how', 'are', 'u', 'doing', '?', 'i', 'will', 'be', 'travelling', 'to', 'your', 'city', '!', 'Lets', 'Chatch', 'up', '.']\n",
      "['Sanggupkah', 'kau', 'dan', 'aku', ',', 'memulai', 'kembali', '?', 'merangkai', 'hati', 'yang', 'hancur', 'berkeping-keping', '.']\n"
     ]
    }
   ],
   "source": [
    "print(word_tokenize(text1))\n",
    "print(word_tokenize(text2))"
   ]
  },
  {
   "cell_type": "markdown",
   "id": "33367539",
   "metadata": {},
   "source": [
    "Tokenizer yang lain"
   ]
  },
  {
   "cell_type": "code",
   "execution_count": 4,
   "id": "001c16a7",
   "metadata": {},
   "outputs": [],
   "source": [
    "# from nltk.tokenize import wordpunct_tokenize, WhitespaceTokenizer"
   ]
  },
  {
   "cell_type": "markdown",
   "id": "5c847bca",
   "metadata": {},
   "source": [
    "# Normalization"
   ]
  },
  {
   "cell_type": "markdown",
   "id": "9ad992f0",
   "metadata": {},
   "source": [
    "### Stemming"
   ]
  },
  {
   "cell_type": "code",
   "execution_count": 16,
   "id": "3a9bb37a",
   "metadata": {},
   "outputs": [
    {
     "name": "stdout",
     "output_type": "stream",
     "text": [
      "rain\n",
      "decreas\n"
     ]
    }
   ],
   "source": [
    "from nltk.stem import PorterStemmer\n",
    "\n",
    "stemmer= PorterStemmer()\n",
    "\n",
    "print(stemmer.stem('raining'))\n",
    "print(stemmer.stem('decreases'))"
   ]
  },
  {
   "cell_type": "code",
   "execution_count": 6,
   "id": "8c27c13b",
   "metadata": {},
   "outputs": [
    {
     "name": "stdout",
     "output_type": "stream",
     "text": [
      "increas\n"
     ]
    }
   ],
   "source": [
    "print(stemmer.stem('increases'))"
   ]
  },
  {
   "cell_type": "markdown",
   "id": "0196864e",
   "metadata": {},
   "source": [
    "### Lemmatization"
   ]
  },
  {
   "cell_type": "code",
   "execution_count": 17,
   "id": "2aad0f55",
   "metadata": {},
   "outputs": [
    {
     "name": "stdout",
     "output_type": "stream",
     "text": [
      "increase\n",
      "controlling\n"
     ]
    }
   ],
   "source": [
    "from nltk.stem import WordNetLemmatizer\n",
    "\n",
    "lemm= WordNetLemmatizer()\n",
    "\n",
    "print(lemm.lemmatize('increases'))\n",
    "print(lemm.lemmatize('controlling'))"
   ]
  },
  {
   "cell_type": "markdown",
   "id": "014fdda1",
   "metadata": {},
   "source": [
    "Karena ini lemmatization kita harus tambahkan part of speech"
   ]
  },
  {
   "cell_type": "code",
   "execution_count": 8,
   "id": "86b5122f",
   "metadata": {},
   "outputs": [
    {
     "name": "stdout",
     "output_type": "stream",
     "text": [
      "run\n"
     ]
    }
   ],
   "source": [
    "print(lemm.lemmatize('running', pos= 'v'))"
   ]
  },
  {
   "cell_type": "markdown",
   "id": "2bb69cb4",
   "metadata": {},
   "source": [
    "# Part of Speech Tagging"
   ]
  },
  {
   "cell_type": "code",
   "execution_count": 9,
   "id": "f4918d1a",
   "metadata": {},
   "outputs": [
    {
     "data": {
      "text/plain": [
       "'Hello there, how are u doing? i will be travelling to your city! Lets Chatch up.'"
      ]
     },
     "execution_count": 9,
     "metadata": {},
     "output_type": "execute_result"
    }
   ],
   "source": [
    "from nltk import pos_tag\n",
    "\n",
    "text1"
   ]
  },
  {
   "cell_type": "code",
   "execution_count": 10,
   "id": "3bacbfb9",
   "metadata": {},
   "outputs": [
    {
     "data": {
      "text/plain": [
       "['Hello',\n",
       " 'there',\n",
       " ',',\n",
       " 'how',\n",
       " 'are',\n",
       " 'u',\n",
       " 'doing',\n",
       " '?',\n",
       " 'i',\n",
       " 'will',\n",
       " 'be',\n",
       " 'travelling',\n",
       " 'to',\n",
       " 'your',\n",
       " 'city',\n",
       " '!',\n",
       " 'Lets',\n",
       " 'Chatch',\n",
       " 'up',\n",
       " '.']"
      ]
     },
     "execution_count": 10,
     "metadata": {},
     "output_type": "execute_result"
    }
   ],
   "source": [
    "tokens= word_tokenize(text1)\n",
    "tokens"
   ]
  },
  {
   "cell_type": "code",
   "execution_count": 11,
   "id": "4bdc13e9",
   "metadata": {
    "scrolled": true
   },
   "outputs": [
    {
     "data": {
      "text/plain": [
       "[('Hello', 'NNP'),\n",
       " ('there', 'RB'),\n",
       " (',', ','),\n",
       " ('how', 'WRB'),\n",
       " ('are', 'VBP'),\n",
       " ('u', 'JJ'),\n",
       " ('doing', 'VBG'),\n",
       " ('?', '.'),\n",
       " ('i', 'NN'),\n",
       " ('will', 'MD'),\n",
       " ('be', 'VB'),\n",
       " ('travelling', 'VBG'),\n",
       " ('to', 'TO'),\n",
       " ('your', 'PRP$'),\n",
       " ('city', 'NN'),\n",
       " ('!', '.'),\n",
       " ('Lets', 'NNS'),\n",
       " ('Chatch', 'NNP'),\n",
       " ('up', 'RB'),\n",
       " ('.', '.')]"
      ]
     },
     "execution_count": 11,
     "metadata": {},
     "output_type": "execute_result"
    }
   ],
   "source": [
    "pos_tag(tokens)"
   ]
  },
  {
   "cell_type": "markdown",
   "id": "877583e6",
   "metadata": {},
   "source": [
    "# Mendapatkan Sinonim/Antonim"
   ]
  },
  {
   "cell_type": "code",
   "execution_count": 12,
   "id": "30672d0e",
   "metadata": {},
   "outputs": [
    {
     "data": {
      "text/plain": [
       "[Synset('love.n.01'),\n",
       " Synset('love.n.02'),\n",
       " Synset('beloved.n.01'),\n",
       " Synset('love.n.04'),\n",
       " Synset('love.n.05'),\n",
       " Synset('sexual_love.n.02'),\n",
       " Synset('love.v.01'),\n",
       " Synset('love.v.02'),\n",
       " Synset('love.v.03'),\n",
       " Synset('sleep_together.v.01')]"
      ]
     },
     "execution_count": 12,
     "metadata": {},
     "output_type": "execute_result"
    }
   ],
   "source": [
    "from nltk.corpus import wordnet\n",
    "\n",
    "wordnet.synsets('love')"
   ]
  },
  {
   "cell_type": "markdown",
   "id": "24af743b",
   "metadata": {},
   "source": [
    "# N-grams"
   ]
  },
  {
   "cell_type": "code",
   "execution_count": 13,
   "id": "e25ba6ee",
   "metadata": {},
   "outputs": [
    {
     "data": {
      "text/plain": [
       "<zip at 0x1ff4dce8408>"
      ]
     },
     "execution_count": 13,
     "metadata": {},
     "output_type": "execute_result"
    }
   ],
   "source": [
    "from nltk import ngrams\n",
    "\n",
    "sentence= 'Manchester United is the best club in the world'\n",
    "n= 3\n",
    "\n",
    "sentence_ngrams= ngrams(sentence, n)\n",
    "sentence_ngrams"
   ]
  },
  {
   "cell_type": "code",
   "execution_count": 14,
   "id": "ad7713ef",
   "metadata": {},
   "outputs": [
    {
     "name": "stdout",
     "output_type": "stream",
     "text": [
      "('M', 'a', 'n')\n",
      "('a', 'n', 'c')\n",
      "('n', 'c', 'h')\n",
      "('c', 'h', 'e')\n",
      "('h', 'e', 's')\n",
      "('e', 's', 't')\n",
      "('s', 't', 'e')\n",
      "('t', 'e', 'r')\n",
      "('e', 'r', ' ')\n",
      "('r', ' ', 'U')\n",
      "(' ', 'U', 'n')\n",
      "('U', 'n', 'i')\n",
      "('n', 'i', 't')\n",
      "('i', 't', 'e')\n",
      "('t', 'e', 'd')\n",
      "('e', 'd', ' ')\n",
      "('d', ' ', 'i')\n",
      "(' ', 'i', 's')\n",
      "('i', 's', ' ')\n",
      "('s', ' ', 't')\n",
      "(' ', 't', 'h')\n",
      "('t', 'h', 'e')\n",
      "('h', 'e', ' ')\n",
      "('e', ' ', 'b')\n",
      "(' ', 'b', 'e')\n",
      "('b', 'e', 's')\n",
      "('e', 's', 't')\n",
      "('s', 't', ' ')\n",
      "('t', ' ', 'c')\n",
      "(' ', 'c', 'l')\n",
      "('c', 'l', 'u')\n",
      "('l', 'u', 'b')\n",
      "('u', 'b', ' ')\n",
      "('b', ' ', 'i')\n",
      "(' ', 'i', 'n')\n",
      "('i', 'n', ' ')\n",
      "('n', ' ', 't')\n",
      "(' ', 't', 'h')\n",
      "('t', 'h', 'e')\n",
      "('h', 'e', ' ')\n",
      "('e', ' ', 'w')\n",
      "(' ', 'w', 'o')\n",
      "('w', 'o', 'r')\n",
      "('o', 'r', 'l')\n",
      "('r', 'l', 'd')\n"
     ]
    }
   ],
   "source": [
    "for i in sentence_ngrams:\n",
    "    print(i)"
   ]
  },
  {
   "cell_type": "code",
   "execution_count": 15,
   "id": "8f34d2ae",
   "metadata": {},
   "outputs": [
    {
     "name": "stdout",
     "output_type": "stream",
     "text": [
      "('Manchester', 'United', 'is')\n",
      "('United', 'is', 'the')\n",
      "('is', 'the', 'best')\n",
      "('the', 'best', 'club')\n",
      "('best', 'club', 'in')\n",
      "('club', 'in', 'the')\n",
      "('in', 'the', 'world')\n"
     ]
    }
   ],
   "source": [
    "sentence_ngrams= ngrams(word_tokenize(sentence), n)\n",
    "\n",
    "sentence_ngrams\n",
    "\n",
    "for i in sentence_ngrams:\n",
    "    print(i)"
   ]
  }
 ],
 "metadata": {
  "kernelspec": {
   "display_name": "Python 3 (ipykernel)",
   "language": "python",
   "name": "python3"
  },
  "language_info": {
   "codemirror_mode": {
    "name": "ipython",
    "version": 3
   },
   "file_extension": ".py",
   "mimetype": "text/x-python",
   "name": "python",
   "nbconvert_exporter": "python",
   "pygments_lexer": "ipython3",
   "version": "3.7.7"
  }
 },
 "nbformat": 4,
 "nbformat_minor": 5
}
