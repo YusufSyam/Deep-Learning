{
 "cells": [
  {
   "cell_type": "markdown",
   "id": "f2748259",
   "metadata": {},
   "source": [
    "Dokumentasi: https://spacy.io/api"
   ]
  },
  {
   "cell_type": "markdown",
   "id": "bb1ed6d1",
   "metadata": {},
   "source": [
    "Instalasi"
   ]
  },
  {
   "cell_type": "code",
   "execution_count": 1,
   "id": "6065eeaa",
   "metadata": {},
   "outputs": [
    {
     "name": "stdout",
     "output_type": "stream",
     "text": [
      "Collecting en-core-web-md==3.1.0 from https://github.com/explosion/spacy-models/releases/download/en_core_web_md-3.1.0/en_core_web_md-3.1.0-py3-none-any.whl#egg=en_core_web_md==3.1.0\n",
      "  Downloading https://github.com/explosion/spacy-models/releases/download/en_core_web_md-3.1.0/en_core_web_md-3.1.0-py3-none-any.whl (45.4MB)\n",
      "Requirement already satisfied: spacy<3.2.0,>=3.1.0 in c:\\users\\lenovo\\pycharmprojects\\data science\\venv\\lib\\site-packages (from en-core-web-md==3.1.0) (3.1.3)\n",
      "Requirement already satisfied: requests<3.0.0,>=2.13.0 in c:\\users\\lenovo\\pycharmprojects\\data science\\venv\\lib\\site-packages (from spacy<3.2.0,>=3.1.0->en-core-web-md==3.1.0) (2.26.0)\n",
      "Requirement already satisfied: jinja2 in c:\\users\\lenovo\\pycharmprojects\\data science\\venv\\lib\\site-packages (from spacy<3.2.0,>=3.1.0->en-core-web-md==3.1.0) (3.0.1)\n",
      "Requirement already satisfied: cymem<2.1.0,>=2.0.2 in c:\\users\\lenovo\\pycharmprojects\\data science\\venv\\lib\\site-packages (from spacy<3.2.0,>=3.1.0->en-core-web-md==3.1.0) (2.0.5)\n",
      "Requirement already satisfied: spacy-legacy<3.1.0,>=3.0.8 in c:\\users\\lenovo\\pycharmprojects\\data science\\venv\\lib\\site-packages (from spacy<3.2.0,>=3.1.0->en-core-web-md==3.1.0) (3.0.8)\n",
      "Requirement already satisfied: pydantic!=1.8,!=1.8.1,<1.9.0,>=1.7.4 in c:\\users\\lenovo\\pycharmprojects\\data science\\venv\\lib\\site-packages (from spacy<3.2.0,>=3.1.0->en-core-web-md==3.1.0) (1.8.2)\n",
      "Requirement already satisfied: srsly<3.0.0,>=2.4.1 in c:\\users\\lenovo\\pycharmprojects\\data science\\venv\\lib\\site-packages (from spacy<3.2.0,>=3.1.0->en-core-web-md==3.1.0) (2.4.1)\n",
      "Requirement already satisfied: wasabi<1.1.0,>=0.8.1 in c:\\users\\lenovo\\pycharmprojects\\data science\\venv\\lib\\site-packages (from spacy<3.2.0,>=3.1.0->en-core-web-md==3.1.0) (0.8.2)\n",
      "Requirement already satisfied: typing-extensions<4.0.0.0,>=3.7.4; python_version < \"3.8\" in c:\\users\\lenovo\\pycharmprojects\\data science\\venv\\lib\\site-packages (from spacy<3.2.0,>=3.1.0->en-core-web-md==3.1.0) (3.7.4.3)\n",
      "Requirement already satisfied: preshed<3.1.0,>=3.0.2 in c:\\users\\lenovo\\pycharmprojects\\data science\\venv\\lib\\site-packages (from spacy<3.2.0,>=3.1.0->en-core-web-md==3.1.0) (3.0.5)\n",
      "Requirement already satisfied: pathy>=0.3.5 in c:\\users\\lenovo\\pycharmprojects\\data science\\venv\\lib\\site-packages (from spacy<3.2.0,>=3.1.0->en-core-web-md==3.1.0) (0.6.0)\n"
     ]
    },
    {
     "name": "stderr",
     "output_type": "stream",
     "text": [
      "2022-01-30 02:52:03.391183: W tensorflow/stream_executor/platform/default/dso_loader.cc:64] Could not load dynamic library 'cudart64_110.dll'; dlerror: cudart64_110.dll not found\n",
      "2022-01-30 02:52:03.398184: I tensorflow/stream_executor/cuda/cudart_stub.cc:29] Ignore above cudart dlerror if you do not have a GPU set up on your machine.\n"
     ]
    },
    {
     "name": "stdout",
     "output_type": "stream",
     "text": [
      "Requirement already satisfied: setuptools in c:\\users\\lenovo\\pycharmprojects\\data science\\venv\\lib\\site-packages (from spacy<3.2.0,>=3.1.0->en-core-web-md==3.1.0) (58.2.0)\n",
      "Requirement already satisfied: numpy>=1.15.0 in c:\\users\\lenovo\\pycharmprojects\\data science\\venv\\lib\\site-packages (from spacy<3.2.0,>=3.1.0->en-core-web-md==3.1.0) (1.19.5)\n",
      "Requirement already satisfied: catalogue<2.1.0,>=2.0.6 in c:\\users\\lenovo\\pycharmprojects\\data science\\venv\\lib\\site-packages (from spacy<3.2.0,>=3.1.0->en-core-web-md==3.1.0) (2.0.6)\n",
      "Requirement already satisfied: murmurhash<1.1.0,>=0.28.0 in c:\\users\\lenovo\\pycharmprojects\\data science\\venv\\lib\\site-packages (from spacy<3.2.0,>=3.1.0->en-core-web-md==3.1.0) (1.0.5)\n",
      "Requirement already satisfied: thinc<8.1.0,>=8.0.9 in c:\\users\\lenovo\\pycharmprojects\\data science\\venv\\lib\\site-packages (from spacy<3.2.0,>=3.1.0->en-core-web-md==3.1.0) (8.0.10)\n",
      "Requirement already satisfied: tqdm<5.0.0,>=4.38.0 in c:\\users\\lenovo\\pycharmprojects\\data science\\venv\\lib\\site-packages (from spacy<3.2.0,>=3.1.0->en-core-web-md==3.1.0) (4.62.2)\n",
      "Requirement already satisfied: blis<0.8.0,>=0.4.0 in c:\\users\\lenovo\\pycharmprojects\\data science\\venv\\lib\\site-packages (from spacy<3.2.0,>=3.1.0->en-core-web-md==3.1.0) (0.7.4)\n",
      "Requirement already satisfied: packaging>=20.0 in c:\\users\\lenovo\\pycharmprojects\\data science\\venv\\lib\\site-packages (from spacy<3.2.0,>=3.1.0->en-core-web-md==3.1.0) (21.0)\n",
      "Requirement already satisfied: typer<0.5.0,>=0.3.0 in c:\\users\\lenovo\\pycharmprojects\\data science\\venv\\lib\\site-packages (from spacy<3.2.0,>=3.1.0->en-core-web-md==3.1.0) (0.4.0)\n",
      "Requirement already satisfied: idna<4,>=2.5; python_version >= \"3\" in c:\\users\\lenovo\\pycharmprojects\\data science\\venv\\lib\\site-packages (from requests<3.0.0,>=2.13.0->spacy<3.2.0,>=3.1.0->en-core-web-md==3.1.0) (3.2)\n",
      "Requirement already satisfied: charset-normalizer~=2.0.0; python_version >= \"3\" in c:\\users\\lenovo\\pycharmprojects\\data science\\venv\\lib\\site-packages (from requests<3.0.0,>=2.13.0->spacy<3.2.0,>=3.1.0->en-core-web-md==3.1.0) (2.0.4)\n",
      "Requirement already satisfied: urllib3<1.27,>=1.21.1 in c:\\users\\lenovo\\pycharmprojects\\data science\\venv\\lib\\site-packages (from requests<3.0.0,>=2.13.0->spacy<3.2.0,>=3.1.0->en-core-web-md==3.1.0) (1.26.6)\n",
      "Requirement already satisfied: certifi>=2017.4.17 in c:\\users\\lenovo\\pycharmprojects\\data science\\venv\\lib\\site-packages (from requests<3.0.0,>=2.13.0->spacy<3.2.0,>=3.1.0->en-core-web-md==3.1.0) (2021.5.30)\n",
      "Requirement already satisfied: MarkupSafe>=2.0 in c:\\users\\lenovo\\pycharmprojects\\data science\\venv\\lib\\site-packages (from jinja2->spacy<3.2.0,>=3.1.0->en-core-web-md==3.1.0) (2.0.1)\n",
      "Requirement already satisfied: smart-open<6.0.0,>=5.0.0 in c:\\users\\lenovo\\pycharmprojects\\data science\\venv\\lib\\site-packages (from pathy>=0.3.5->spacy<3.2.0,>=3.1.0->en-core-web-md==3.1.0) (5.2.1)\n",
      "Requirement already satisfied: zipp>=0.5; python_version < \"3.8\" in c:\\users\\lenovo\\pycharmprojects\\data science\\venv\\lib\\site-packages (from catalogue<2.1.0,>=2.0.6->spacy<3.2.0,>=3.1.0->en-core-web-md==3.1.0) (3.5.0)\n",
      "Requirement already satisfied: colorama; platform_system == \"Windows\" in c:\\users\\lenovo\\pycharmprojects\\data science\\venv\\lib\\site-packages (from tqdm<5.0.0,>=4.38.0->spacy<3.2.0,>=3.1.0->en-core-web-md==3.1.0) (0.4.4)\n",
      "Requirement already satisfied: pyparsing>=2.0.2 in c:\\users\\lenovo\\pycharmprojects\\data science\\venv\\lib\\site-packages (from packaging>=20.0->spacy<3.2.0,>=3.1.0->en-core-web-md==3.1.0) (2.4.7)\n",
      "Requirement already satisfied: click<9.0.0,>=7.1.1 in c:\\users\\lenovo\\pycharmprojects\\data science\\venv\\lib\\site-packages (from typer<0.5.0,>=0.3.0->spacy<3.2.0,>=3.1.0->en-core-web-md==3.1.0) (8.0.3)\n",
      "Requirement already satisfied: importlib-metadata; python_version < \"3.8\" in c:\\users\\lenovo\\pycharmprojects\\data science\\venv\\lib\\site-packages (from click<9.0.0,>=7.1.1->typer<0.5.0,>=0.3.0->spacy<3.2.0,>=3.1.0->en-core-web-md==3.1.0) (4.7.1)\n",
      "Installing collected packages: en-core-web-md\n",
      "Successfully installed en-core-web-md-3.1.0\n",
      "[+] Download and installation successful\n",
      "You can now load the package via spacy.load('en_core_web_md')\n"
     ]
    }
   ],
   "source": [
    "!python -m spacy download en_core_web_md"
   ]
  },
  {
   "cell_type": "code",
   "execution_count": 1,
   "id": "35c92fc2",
   "metadata": {},
   "outputs": [],
   "source": [
    "# # Mendownload library spacy\n",
    "# !pip install spacy\n",
    "\n",
    "# # Mendownload model nlp bahasa inggris\n",
    "# !python -m spacy download en_core_web_sm"
   ]
  },
  {
   "cell_type": "markdown",
   "id": "516599c9",
   "metadata": {},
   "source": [
    "Mengimport dan meload model"
   ]
  },
  {
   "cell_type": "code",
   "execution_count": 1,
   "id": "3f1a4b90",
   "metadata": {},
   "outputs": [],
   "source": [
    "import spacy\n",
    "\n",
    "# membuat model nlp berdasarkan model yang telah didownload\n",
    "nlp= spacy.load('en_core_web_sm')"
   ]
  },
  {
   "cell_type": "markdown",
   "id": "51db7539",
   "metadata": {},
   "source": [
    "Meload file text yang akan digunakan sebagai doc"
   ]
  },
  {
   "cell_type": "code",
   "execution_count": 2,
   "id": "e153a05b",
   "metadata": {},
   "outputs": [
    {
     "name": "stdout",
     "output_type": "stream",
     "text": [
      "ONCE there was a gentleman who married, for his second wife, the proudest and most haughty woman that was ever seen. She had, by a former husband, two daughters of her own humor, who were, indeed, exactly like her in all things. He had likewise, by another wife, a young daughter, but of unparalleled goodness and sweetness of temper, which she took from her mother, who was the best creature in the world.\n",
      "\n",
      "No sooner were the ceremonies of the wedding over but the mother-in-law began to show herself in her true colors. She could not bear the good qualities of this pretty girl, and the less because they made her own daughters appear the more odious. She employed her in the meanest work of the house: she scoured the dishes, tables, etc., and scrubbed madam's chamber, and those of misses, her daughters; she lay up in a sorry garret, upon a wretched straw bed, while her sisters lay in fine rooms, with floors all inlaid, upon beds of the very newest fashion, and where they had looking-glasses so large that they might see themselves at their full length from head to foot.\n",
      "\n",
      "The poor girl bore all patiently, and dared not tell her father, who would have rattled her off; for his wife governed him entirely. When she had done her work, she used to go into the chimney-corner, and sit down among cinders and ashes, which made her commonly be called Cinderwench; but the youngest, who was not so rude and uncivil as the eldest, called her Cinderella. However, Cinderella, notwithstanding her mean apparel, was a hundred times handsomer than her sisters, though they were always dressed very richly.\n",
      "\n",
      "It happened that the King's son gave a ball, and invited all persons of fashion to it. Our young misses were also invited, for they cut a very grand figure among the quality. They were mightily delighted at this invitation, and wonderfully busy in choosing out such gowns, petticoats, and head-clothes as might become them. This was a new trouble to Cinderella; for it was she who ironed her sisters' linen, and plaited their ruffles; they talked all day long of nothing but how they should be dressed.\n",
      "\n",
      "\"For my part,\" said the eldest, \"I will wear my red velvet suit with French trimming.\"\n",
      "\n",
      "\"And I,\" said the youngest, \"shall have my usual petticoat; but then, to make amends for that, I will put on my gold-flowered manteau, and my diamond stomacher, which is far from being the most ordinary one in the world.\"\n",
      "They sent for the best tire-woman they could get to make up their head-dresses and adjust their double pinners, and they had their red brushes and patches from Mademoiselle de la Poche.\n",
      "\n",
      "Cinderella was likewise called up to them to be consulted in all these matters, for she had excellent notions, and advised them always for the best, nay, and offered her services to dress their heads, which they were very willing she should do. As she was doing this, they said to her:\n",
      "\n",
      "\"Cinderella, would you not be glad to go to the ball?\"\n",
      "\n",
      "\"Alas!\" said she, \"you only jeer me; it is not for such as I am to go thither.\"\n",
      "\"Thou art in the right of it,\" replied they; \"it would make the people laugh to see a Cinderwench at a ball.\"\n",
      "\n",
      "Anyone but Cinderella would have dressed their heads awry, but she was very good, and dressed them perfectly well They were almost two days without eating, so much were they transported with joy. They broke above a dozen laces in trying to be laced up close, that they might have a fine slender shape, and they were continually at their looking-glass. At last the happy day came; they went to Court, and Cinderella followed them with her eyes as long as she could, and when she had lost sight of them, she fell a-crying.\n",
      "\n",
      "Her godmother, who saw her all in tears, asked her what was the matter.\n",
      "\"I wish I could--I wish I could--\"; she was not able to speak the rest, being interrupted by her tears and sobbing.\n",
      "\n",
      "This godmother of hers, who was a fairy, said to her, \"Thou wishest thou couldst go to the ball; is it not so?\"\n",
      "\n",
      "\"Y--es,\" cried Cinderella, with a great sigh.\n",
      "\n",
      "\"Well,\" said her godmother, \"be but a good girl, and I will contrive that thou shalt go.\" Then she took her into her chamber, and said to her, \"Run into the garden, and bring me a pumpkin.\"\n",
      "\n",
      "Cinderella went immediately to gather the finest she could get, and brought it to her godmother, not being able to imagine how this pumpkin could make her go to the ball. Her godmother scooped out all the inside of it, having left nothing but the rind; which done, she struck it with her wand, and the pumpkin was instantly turned into a fine coach, gilded all over with gold.\n",
      "\n",
      "She then went to look into her mouse-trap, where she found six mice, all alive, and ordered Cinderella to lift up a little the trapdoor, when, giving each mouse, as it went out, a little tap with her wand, the mouse was that moment turned into a fine horse, which altogether made a very fine set of six horses of a beautiful mouse-colored dapple-gray. Being at a loss for a coachman,\n",
      "\n",
      "\"I will go and see,\" says Cinderella, \"if there is never a rat in the rat-trap--we may make a coachman of him.\"\n",
      "\n",
      "\"Thou art in the right,\" replied her godmother; \"go and look.\"\n",
      "\n",
      "Cinderella brought the trap to her, and in it there were three huge rats. The fairy made choice of one of the three which had the largest beard, and, having touched him with her wand, he was turned into a fat, jolly coach- man, who had the smartest whiskers eyes ever beheld. After that, she said to her:\n",
      "\n",
      "\"Go again into the garden, and you will find six lizards behind the watering-pot, bring them to me.\"\n",
      "\n",
      "She had no sooner done so but her godmother turned them into six footmen, who skipped up immediately behind the coach, with their liveries all bedaubed with gold and silver, and clung as close behind each other as if they had done nothing else their whole lives. The Fairy then said to Cinderella:\n",
      "\n",
      "\"Well, you see here an equipage fit to go to the ball with; are you not pleased with it?\"\n",
      "\n",
      "\"Oh! yes,\" cried she; \"but must I go thither as I am, in these nasty rags?\"\n",
      "\n",
      "Her godmother only just touched her with her wand, and, at the same instant, her clothes were turned into cloth of gold and silver, all beset with jewels. This done, she gave her a pair of glass slippers, the prettiest in the whole world. Being thus decked out, she got up into her coach; but her godmother, above all things, commanded her not to stay till after midnight, telling her, at the same time, that if she stayed one moment longer, the coach would be a pumpkin again, her horses mice, her coachman a rat, her footmen lizards, and her clothes become just as they were before.\n",
      "\n",
      "She promised her godmother she would not fail of leaving the ball before midnight; and then away she drives, scarce able to contain herself for joy. The King's son who was told that a great princess, whom nobody knew, was come, ran out to receive her; he gave her his hand as she alighted out of the coach, and led her into the ball, among all the company. There was immediately a profound silence, they left off dancing, and the violins ceased to play, so attentive was everyone to contemplate the singular beauties of the unknown new-comer. Nothing was then heard but a confused noise of:\n",
      "\n",
      "\"Ha! how handsome she is! Ha! how handsome she is!\"\n",
      "\n",
      "The King himself, old as he was, could not help watching her, and telling the Queen softly that it was a long time since he had seen so beautiful and lovely a creature.\n",
      "\n",
      "All the ladies were busied in considering her clothes and headdress, that they might have some made next day after the same pattern, provided they could meet with such fine material and as able hands to make them.\n",
      "\n",
      "The King's son conducted her to the most honorable seat, and afterward took her out to dance with him; she danced so very gracefully that they all more and more admired her. A fine collation was served up, whereof the young prince ate not a morsel, so intently was he busied in gazing on her.\n",
      "\n",
      "She went and sat down by her sisters, showing them a thousand civilities, giving them part of the oranges and citrons which the Prince had presented her with, which very much surprised them, for they did not know her. While Cinderella was thus amusing her sisters, she heard the clock strike eleven and three-quarters, whereupon she immediately made a courtesy to the company and hasted away as fast as she could.\n",
      "\n",
      "When she got home she ran to seek out her godmother, and, after having thanked her, she said she could not but heartily wish she might go next day to the ball, because the King's son had desired her.\n",
      "\n",
      "As she was eagerly telling her godmother whatever had passed at the ball, her two sisters knocked at the door, which Cinderella ran and opened.\n",
      "\n",
      "\"How long you have stayed!\" cried she, gaping, rubbing her eyes and stretching herself as if she had been just waked out of her sleep; she had not, however, any manner of inclination to sleep since they went from home.\n",
      "\n",
      "\"If thou hadst been at the ball,\" said one of her sisters, \"thou wouldst not have been tired with it. There came thither the finest princess, the most beautiful ever was seen with mortal eyes; she showed us a thousand civilities, and gave us oranges and citrons.\"\n",
      "\n",
      "Cinderella seemed very indifferent in the matter; indeed, she asked them the name of that princess; but they told her they did not know it, and that the King's son was very uneasy on her account and would give all the world to know who she was. At this Cinderella, smiling, replied:\n",
      "\n",
      "\"She must, then, be very beautiful indeed; how happy you have been! Could not I see her? Ah! dear Miss Charlotte, do lend me your yellow suit of clothes which you wear every day.\"\n",
      "\n",
      "\"Ay, to be sure!\" cried Miss Charlotte; \"lend my clothes to such a dirty Cinderwench as thou art! I should be a fool.\"\n",
      "\n",
      "Cinderella, indeed, expected well such answer, and was very glad of the refusal; for she would have been sadly put to it if her sister had lent her what she asked for jestingly.\n",
      "\n",
      "The next day the two sisters were at the ball, and so was Cinderella, but dressed more magnificently than before. The King's son was always by her, and never ceased his compliments and kind speeches to her; to whom all this was so far from being tiresome that she quite forgot what her godmother had recommended to her; so that she, at last, counted the clock striking twelve when she took it to be no more than eleven; she then rose up and fled, as nimble as a deer. The Prince followed, but could not overtake her. She left behind one of her glass slippers, which the Prince took up most carefully. She got home but quite out of breath, and in her nasty old clothes, having nothing left her of all her finery but one of the little slippers, fellow to that she dropped. The guards at the palace gate were asked:\n",
      "\n",
      "If they had not seen a princess go out.\n",
      "\n",
      "Who said: They had seen nobody go out but a young girl, very meanly dressed, and who had more the air of a poor country wench than a gentlewoman.\n",
      "\n",
      "When the two sisters returned from the ball Cinderella asked them: If they had been well diverted, and if the fine lady had been there.\n",
      "\n",
      "They told her: Yes, but that she hurried away immediately when it struck twelve, and with so much haste that she dropped one of her little glass slippers, the prettiest in the world, which the King's son had taken up; that he had done nothing but look at her all the time at the ball, and that most certainly he was very much in love with the beautiful person who owned the glass slipper.\n",
      "\n",
      "What they said was very true; for a few days after the King's son caused it to be proclaimed, by sound of trumpet, that he would marry her whose foot the slipper would just fit. They whom he employed began to try it upon the princesses, then the duchesses and all the Court, but in vain; it was brought to the two sisters, who did all they possibly could to thrust their foot into the slipper, but they could not effect it. Cinderella, who saw all this, and knew her slipper, said to them, laughing:\n",
      "\n",
      "\"Let me see if it will not fit me.\"\n",
      "\n",
      "Her sisters burst out a-laughing, and began to banter her. The gentleman who was sent to try the slipper looked earnestly at Cinderella, and, finding her very handsome, said:\n",
      "\n",
      "It was but just that she should try, and that he had orders to let everyone make trial.\n",
      "\n",
      "He obliged Cinderella to sit down, and, putting the slipper to her foot, he found it went on very easily, and fitted her as if it had been made of wax. The astonishment her two sisters were in was excessively great, but still abundantly greater when Cinderella pulled out of her pocket the other slipper, and put it on her foot. Thereupon, in came her godmother, who, having touched with her wand Cinderella's clothes, made them richer and more magnificent than any of those she had before.\n",
      "\n",
      "And now her two sisters found her to be that fine, beautiful lady whom they had seen at the ball. They threw themselves at her feet to beg pardon for all the ill- treatment they had made her undergo. Cinderella took them up, and, as she embraced them, cried:\n",
      "\n",
      "That she forgave them with all her heart, and desired them always to love her.\n",
      "\n",
      "She was conducted to the young prince, dressed as she was; he thought her more charming than ever, and, a few days after, married her. Cinderella, who was no less good than beautiful, gave her two sisters lodgings in the palace.\n"
     ]
    }
   ],
   "source": [
    "with open('cinderella.txt', 'r') as f:\n",
    "    text= f.read()\n",
    "    \n",
    "print(text)"
   ]
  },
  {
   "cell_type": "markdown",
   "id": "ceec0315",
   "metadata": {},
   "source": [
    "Memasukkan text yang telah di-load ke model nlp"
   ]
  },
  {
   "cell_type": "code",
   "execution_count": 3,
   "id": "da46b101",
   "metadata": {},
   "outputs": [
    {
     "data": {
      "text/plain": [
       "ONCE there was a gentleman who married, for his second wife, the proudest and most haughty woman that was ever seen. She had, by a former husband, two daughters of her own humor, who were, indeed, exactly like her in all things. He had likewise, by another wife, a young daughter, but of unparalleled goodness and sweetness of temper, which she took from her mother, who was the best creature in the world.\n",
       "\n",
       "No sooner were the ceremonies of the wedding over but the mother-in-law began to show herself in her true colors. She could not bear the good qualities of this pretty girl, and the less because they made her own daughters appear the more odious. She employed her in the meanest work of the house: she scoured the dishes, tables, etc., and scrubbed madam's chamber, and those of misses, her daughters; she lay up in a sorry garret, upon a wretched straw bed, while her sisters lay in fine rooms, with floors all inlaid, upon beds of the very newest fashion, and where they had looking-glasses so large that they might see themselves at their full length from head to foot.\n",
       "\n",
       "The poor girl bore all patiently, and dared not tell her father, who would have rattled her off; for his wife governed him entirely. When she had done her work, she used to go into the chimney-corner, and sit down among cinders and ashes, which made her commonly be called Cinderwench; but the youngest, who was not so rude and uncivil as the eldest, called her Cinderella. However, Cinderella, notwithstanding her mean apparel, was a hundred times handsomer than her sisters, though they were always dressed very richly.\n",
       "\n",
       "It happened that the King's son gave a ball, and invited all persons of fashion to it. Our young misses were also invited, for they cut a very grand figure among the quality. They were mightily delighted at this invitation, and wonderfully busy in choosing out such gowns, petticoats, and head-clothes as might become them. This was a new trouble to Cinderella; for it was she who ironed her sisters' linen, and plaited their ruffles; they talked all day long of nothing but how they should be dressed.\n",
       "\n",
       "\"For my part,\" said the eldest, \"I will wear my red velvet suit with French trimming.\"\n",
       "\n",
       "\"And I,\" said the youngest, \"shall have my usual petticoat; but then, to make amends for that, I will put on my gold-flowered manteau, and my diamond stomacher, which is far from being the most ordinary one in the world.\"\n",
       "They sent for the best tire-woman they could get to make up their head-dresses and adjust their double pinners, and they had their red brushes and patches from Mademoiselle de la Poche.\n",
       "\n",
       "Cinderella was likewise called up to them to be consulted in all these matters, for she had excellent notions, and advised them always for the best, nay, and offered her services to dress their heads, which they were very willing she should do. As she was doing this, they said to her:\n",
       "\n",
       "\"Cinderella, would you not be glad to go to the ball?\"\n",
       "\n",
       "\"Alas!\" said she, \"you only jeer me; it is not for such as I am to go thither.\"\n",
       "\"Thou art in the right of it,\" replied they; \"it would make the people laugh to see a Cinderwench at a ball.\"\n",
       "\n",
       "Anyone but Cinderella would have dressed their heads awry, but she was very good, and dressed them perfectly well They were almost two days without eating, so much were they transported with joy. They broke above a dozen laces in trying to be laced up close, that they might have a fine slender shape, and they were continually at their looking-glass. At last the happy day came; they went to Court, and Cinderella followed them with her eyes as long as she could, and when she had lost sight of them, she fell a-crying.\n",
       "\n",
       "Her godmother, who saw her all in tears, asked her what was the matter.\n",
       "\"I wish I could--I wish I could--\"; she was not able to speak the rest, being interrupted by her tears and sobbing.\n",
       "\n",
       "This godmother of hers, who was a fairy, said to her, \"Thou wishest thou couldst go to the ball; is it not so?\"\n",
       "\n",
       "\"Y--es,\" cried Cinderella, with a great sigh.\n",
       "\n",
       "\"Well,\" said her godmother, \"be but a good girl, and I will contrive that thou shalt go.\" Then she took her into her chamber, and said to her, \"Run into the garden, and bring me a pumpkin.\"\n",
       "\n",
       "Cinderella went immediately to gather the finest she could get, and brought it to her godmother, not being able to imagine how this pumpkin could make her go to the ball. Her godmother scooped out all the inside of it, having left nothing but the rind; which done, she struck it with her wand, and the pumpkin was instantly turned into a fine coach, gilded all over with gold.\n",
       "\n",
       "She then went to look into her mouse-trap, where she found six mice, all alive, and ordered Cinderella to lift up a little the trapdoor, when, giving each mouse, as it went out, a little tap with her wand, the mouse was that moment turned into a fine horse, which altogether made a very fine set of six horses of a beautiful mouse-colored dapple-gray. Being at a loss for a coachman,\n",
       "\n",
       "\"I will go and see,\" says Cinderella, \"if there is never a rat in the rat-trap--we may make a coachman of him.\"\n",
       "\n",
       "\"Thou art in the right,\" replied her godmother; \"go and look.\"\n",
       "\n",
       "Cinderella brought the trap to her, and in it there were three huge rats. The fairy made choice of one of the three which had the largest beard, and, having touched him with her wand, he was turned into a fat, jolly coach- man, who had the smartest whiskers eyes ever beheld. After that, she said to her:\n",
       "\n",
       "\"Go again into the garden, and you will find six lizards behind the watering-pot, bring them to me.\"\n",
       "\n",
       "She had no sooner done so but her godmother turned them into six footmen, who skipped up immediately behind the coach, with their liveries all bedaubed with gold and silver, and clung as close behind each other as if they had done nothing else their whole lives. The Fairy then said to Cinderella:\n",
       "\n",
       "\"Well, you see here an equipage fit to go to the ball with; are you not pleased with it?\"\n",
       "\n",
       "\"Oh! yes,\" cried she; \"but must I go thither as I am, in these nasty rags?\"\n",
       "\n",
       "Her godmother only just touched her with her wand, and, at the same instant, her clothes were turned into cloth of gold and silver, all beset with jewels. This done, she gave her a pair of glass slippers, the prettiest in the whole world. Being thus decked out, she got up into her coach; but her godmother, above all things, commanded her not to stay till after midnight, telling her, at the same time, that if she stayed one moment longer, the coach would be a pumpkin again, her horses mice, her coachman a rat, her footmen lizards, and her clothes become just as they were before.\n",
       "\n",
       "She promised her godmother she would not fail of leaving the ball before midnight; and then away she drives, scarce able to contain herself for joy. The King's son who was told that a great princess, whom nobody knew, was come, ran out to receive her; he gave her his hand as she alighted out of the coach, and led her into the ball, among all the company. There was immediately a profound silence, they left off dancing, and the violins ceased to play, so attentive was everyone to contemplate the singular beauties of the unknown new-comer. Nothing was then heard but a confused noise of:\n",
       "\n",
       "\"Ha! how handsome she is! Ha! how handsome she is!\"\n",
       "\n",
       "The King himself, old as he was, could not help watching her, and telling the Queen softly that it was a long time since he had seen so beautiful and lovely a creature.\n",
       "\n",
       "All the ladies were busied in considering her clothes and headdress, that they might have some made next day after the same pattern, provided they could meet with such fine material and as able hands to make them.\n",
       "\n",
       "The King's son conducted her to the most honorable seat, and afterward took her out to dance with him; she danced so very gracefully that they all more and more admired her. A fine collation was served up, whereof the young prince ate not a morsel, so intently was he busied in gazing on her.\n",
       "\n",
       "She went and sat down by her sisters, showing them a thousand civilities, giving them part of the oranges and citrons which the Prince had presented her with, which very much surprised them, for they did not know her. While Cinderella was thus amusing her sisters, she heard the clock strike eleven and three-quarters, whereupon she immediately made a courtesy to the company and hasted away as fast as she could.\n",
       "\n",
       "When she got home she ran to seek out her godmother, and, after having thanked her, she said she could not but heartily wish she might go next day to the ball, because the King's son had desired her.\n",
       "\n",
       "As she was eagerly telling her godmother whatever had passed at the ball, her two sisters knocked at the door, which Cinderella ran and opened.\n",
       "\n",
       "\"How long you have stayed!\" cried she, gaping, rubbing her eyes and stretching herself as if she had been just waked out of her sleep; she had not, however, any manner of inclination to sleep since they went from home.\n",
       "\n",
       "\"If thou hadst been at the ball,\" said one of her sisters, \"thou wouldst not have been tired with it. There came thither the finest princess, the most beautiful ever was seen with mortal eyes; she showed us a thousand civilities, and gave us oranges and citrons.\"\n",
       "\n",
       "Cinderella seemed very indifferent in the matter; indeed, she asked them the name of that princess; but they told her they did not know it, and that the King's son was very uneasy on her account and would give all the world to know who she was. At this Cinderella, smiling, replied:\n",
       "\n",
       "\"She must, then, be very beautiful indeed; how happy you have been! Could not I see her? Ah! dear Miss Charlotte, do lend me your yellow suit of clothes which you wear every day.\"\n",
       "\n",
       "\"Ay, to be sure!\" cried Miss Charlotte; \"lend my clothes to such a dirty Cinderwench as thou art! I should be a fool.\"\n",
       "\n",
       "Cinderella, indeed, expected well such answer, and was very glad of the refusal; for she would have been sadly put to it if her sister had lent her what she asked for jestingly.\n",
       "\n",
       "The next day the two sisters were at the ball, and so was Cinderella, but dressed more magnificently than before. The King's son was always by her, and never ceased his compliments and kind speeches to her; to whom all this was so far from being tiresome that she quite forgot what her godmother had recommended to her; so that she, at last, counted the clock striking twelve when she took it to be no more than eleven; she then rose up and fled, as nimble as a deer. The Prince followed, but could not overtake her. She left behind one of her glass slippers, which the Prince took up most carefully. She got home but quite out of breath, and in her nasty old clothes, having nothing left her of all her finery but one of the little slippers, fellow to that she dropped. The guards at the palace gate were asked:\n",
       "\n",
       "If they had not seen a princess go out.\n",
       "\n",
       "Who said: They had seen nobody go out but a young girl, very meanly dressed, and who had more the air of a poor country wench than a gentlewoman.\n",
       "\n",
       "When the two sisters returned from the ball Cinderella asked them: If they had been well diverted, and if the fine lady had been there.\n",
       "\n",
       "They told her: Yes, but that she hurried away immediately when it struck twelve, and with so much haste that she dropped one of her little glass slippers, the prettiest in the world, which the King's son had taken up; that he had done nothing but look at her all the time at the ball, and that most certainly he was very much in love with the beautiful person who owned the glass slipper.\n",
       "\n",
       "What they said was very true; for a few days after the King's son caused it to be proclaimed, by sound of trumpet, that he would marry her whose foot the slipper would just fit. They whom he employed began to try it upon the princesses, then the duchesses and all the Court, but in vain; it was brought to the two sisters, who did all they possibly could to thrust their foot into the slipper, but they could not effect it. Cinderella, who saw all this, and knew her slipper, said to them, laughing:\n",
       "\n",
       "\"Let me see if it will not fit me.\"\n",
       "\n",
       "Her sisters burst out a-laughing, and began to banter her. The gentleman who was sent to try the slipper looked earnestly at Cinderella, and, finding her very handsome, said:\n",
       "\n",
       "It was but just that she should try, and that he had orders to let everyone make trial.\n",
       "\n",
       "He obliged Cinderella to sit down, and, putting the slipper to her foot, he found it went on very easily, and fitted her as if it had been made of wax. The astonishment her two sisters were in was excessively great, but still abundantly greater when Cinderella pulled out of her pocket the other slipper, and put it on her foot. Thereupon, in came her godmother, who, having touched with her wand Cinderella's clothes, made them richer and more magnificent than any of those she had before.\n",
       "\n",
       "And now her two sisters found her to be that fine, beautiful lady whom they had seen at the ball. They threw themselves at her feet to beg pardon for all the ill- treatment they had made her undergo. Cinderella took them up, and, as she embraced them, cried:\n",
       "\n",
       "That she forgave them with all her heart, and desired them always to love her.\n",
       "\n",
       "She was conducted to the young prince, dressed as she was; he thought her more charming than ever, and, a few days after, married her. Cinderella, who was no less good than beautiful, gave her two sisters lodgings in the palace."
      ]
     },
     "execution_count": 3,
     "metadata": {},
     "output_type": "execute_result"
    }
   ],
   "source": [
    "doc= nlp(text)\n",
    "\n",
    "# Melakukan print pada doc\n",
    "doc"
   ]
  },
  {
   "cell_type": "markdown",
   "id": "6ffe70bd",
   "metadata": {},
   "source": [
    "Variabel text dan doc kelihatannya sama namun sebenarnya berbeda, text mengandung string sedangkan doc mengandung token, sentence, span, dll"
   ]
  },
  {
   "cell_type": "code",
   "execution_count": 4,
   "id": "59ecc94d",
   "metadata": {},
   "outputs": [
    {
     "name": "stdout",
     "output_type": "stream",
     "text": [
      "O\n",
      "N\n",
      "C\n",
      "E\n",
      " \n",
      "ONCE\n",
      "there\n",
      "was\n",
      "a\n",
      "gentleman\n"
     ]
    }
   ],
   "source": [
    "for token in text[:5]:\n",
    "    print(token)\n",
    "\n",
    "for token in doc[:5]:\n",
    "    print(token)"
   ]
  },
  {
   "cell_type": "markdown",
   "id": "0aaf9625",
   "metadata": {},
   "source": [
    "#### Sentence"
   ]
  },
  {
   "cell_type": "markdown",
   "id": "14403443",
   "metadata": {},
   "source": [
    "Sentence simpelnya kalimat, untuk mengakses kalimat apa saja yang berada pada doc, kita bisa mengaksesnya dengan doc.sents. Mengapa menggunakan doc.sensts instead split('.') ? karena kalimat tidak sesederhana berdasarkan titik saja, ada beberapa rule yang mengindikasikan kalimat, yang telah diringkas oleh spacy"
   ]
  },
  {
   "cell_type": "code",
   "execution_count": 6,
   "id": "9fab6f6f",
   "metadata": {},
   "outputs": [
    {
     "name": "stdout",
     "output_type": "stream",
     "text": [
      "ONCE there was a gentleman who married, for his second wife, the proudest and most haughty woman that was ever seen.\n",
      "<class 'spacy.tokens.span.Span'>\n"
     ]
    }
   ],
   "source": [
    "# for sentence in doc.sents:\n",
    "#     print(sentence)\n",
    "\n",
    "# Mengakses sentence pertama\n",
    "sentence1= list(doc.sents)[0]\n",
    "\n",
    "print(sentence1)\n",
    "print(type(sentence1))"
   ]
  },
  {
   "cell_type": "markdown",
   "id": "87e9de42",
   "metadata": {},
   "source": [
    "#### Token"
   ]
  },
  {
   "cell_type": "markdown",
   "id": "cbea1c30",
   "metadata": {},
   "source": [
    "Sentence terdiri dari kumpulan token. Semisal kita ingin mendapatkan token/kata ke-empat dari sentence1"
   ]
  },
  {
   "cell_type": "code",
   "execution_count": 7,
   "id": "58006f99",
   "metadata": {},
   "outputs": [
    {
     "data": {
      "text/plain": [
       "gentleman"
      ]
     },
     "execution_count": 7,
     "metadata": {},
     "output_type": "execute_result"
    }
   ],
   "source": [
    "token1= sentence1[4]\n",
    "\n",
    "token1"
   ]
  },
  {
   "cell_type": "markdown",
   "id": "b3615edb",
   "metadata": {},
   "source": [
    "Token memiliki beberapa atribut, berikut beberapa di antaranya"
   ]
  },
  {
   "cell_type": "code",
   "execution_count": 8,
   "id": "8da33e56",
   "metadata": {},
   "outputs": [
    {
     "name": "stdout",
     "output_type": "stream",
     "text": [
      "token1.text : gentleman\n",
      "token1.left_edge : a\n",
      "token1.right_edge : seen\n",
      "token1.ent_type_ : \n",
      "token1.ent_iob_ : O\n",
      "token1.lemma_ : gentleman\n",
      "sentence1[6].lemma_ : marry\n",
      "token1.pos_ : NOUN\n",
      "token1.dep_ : attr\n",
      "token1.morph : Number=Sing\n"
     ]
    }
   ],
   "source": [
    "# Mendapatkan teks atau isi string dari token\n",
    "print('token1.text :', token1.text)\n",
    "\n",
    "# Mendapatkan kata seharusnya sebelum token\n",
    "print('token1.left_edge :', token1.left_edge)\n",
    "\n",
    "# Mendapatkan kata seharusnya setelah token\n",
    "print('token1.right_edge :', token1.right_edge)\n",
    "\n",
    "# Mendapatkan tipe entitas\n",
    "print('token1.ent_type_ :', token1.ent_type_)\n",
    "\n",
    "# iob artinya inside, outside, beginning, \n",
    "# Atribut ini menjelaskan jika token berada pada salah satu bagian tersebut atau tidak\n",
    "print('token1.ent_iob_ :', token1.ent_iob_)\n",
    "\n",
    "# Mendapatkan kata dasar dari token, pada kasus 'gentleman' atribut ini tidak akan menghasilkan -\n",
    "# output yang berbeda dengan .text karena gentleman sudah merupakan kata dasar\n",
    "print('token1.lemma_ :', token1.lemma_)\n",
    "\n",
    "# Berbeda untuk kasus 'married' seperti token di bawah, yang akan menghasilkan output 'marry' \n",
    "print('sentence1[6].lemma_ :', sentence1[6].lemma_)\n",
    "\n",
    "# Mendapatkan part of speech\n",
    "print('token1.pos_ :', token1.pos_)\n",
    "\n",
    "# Mendapatkan dependency relation\n",
    "print('token1.dep_ :', token1.dep_)\n",
    "\n",
    "# Atribut untuk analisis morphological\n",
    "print('token1.morph :', token1.morph)"
   ]
  },
  {
   "cell_type": "markdown",
   "id": "d5e1b11a",
   "metadata": {},
   "source": [
    "Misal ingin mengekstrak informasi seperti pos, dep dan lemma dari setiap kata dari sebah kalimat"
   ]
  },
  {
   "cell_type": "code",
   "execution_count": 9,
   "id": "d3f1da7e",
   "metadata": {},
   "outputs": [
    {
     "name": "stdout",
     "output_type": "stream",
     "text": [
      "This\t| DET\t| nsubj\t| this\n",
      "done\t| VERB\t| advcl\t| do\n",
      ",\t| PUNCT\t| punct\t| ,\n",
      "she\t| PRON\t| nsubj\t| she\n",
      "gave\t| VERB\t| ROOT\t| give\n",
      "her\t| PRON\t| dative\t| she\n",
      "a\t| DET\t| det\t| a\n",
      "pair\t| NOUN\t| dobj\t| pair\n",
      "of\t| ADP\t| prep\t| of\n",
      "glass\t| NOUN\t| compound\t| glass\n",
      "slippers\t| NOUN\t| pobj\t| slipper\n",
      ",\t| PUNCT\t| punct\t| ,\n",
      "the\t| DET\t| det\t| the\n",
      "prettiest\t| NOUN\t| appos\t| prettiest\n",
      "in\t| ADP\t| prep\t| in\n",
      "the\t| DET\t| det\t| the\n",
      "whole\t| ADJ\t| amod\t| whole\n",
      "world\t| NOUN\t| pobj\t| world\n",
      ".\t| PUNCT\t| punct\t| .\n"
     ]
    }
   ],
   "source": [
    "sentence2= list(doc.sents)[50]\n",
    "\n",
    "for token in sentence2:\n",
    "    print(f'{token.text}\\t| {token.pos_}\\t| {token.dep_}\\t| {token.lemma_}')"
   ]
  },
  {
   "cell_type": "markdown",
   "id": "033aad85",
   "metadata": {},
   "source": [
    "Terdapat kesalahan dalam mendapatkan kata dasar prettiest, namun itu lumrah karena dataset text yang dipakai relatif kecil"
   ]
  },
  {
   "cell_type": "markdown",
   "id": "a34a496b",
   "metadata": {},
   "source": [
    "#### Visualisasi hubungan antar token"
   ]
  },
  {
   "cell_type": "code",
   "execution_count": 10,
   "id": "d584efcb",
   "metadata": {},
   "outputs": [
    {
     "data": {
      "text/html": [
       "<span class=\"tex2jax_ignore\"><svg xmlns=\"http://www.w3.org/2000/svg\" xmlns:xlink=\"http://www.w3.org/1999/xlink\" xml:lang=\"en\" id=\"d7745dc6504545929722aad0b8c928e7-0\" class=\"displacy\" width=\"2850\" height=\"487.0\" direction=\"ltr\" style=\"max-width: none; height: 487.0px; color: #000000; background: #ffffff; font-family: Arial; direction: ltr\">\n",
       "<text class=\"displacy-token\" fill=\"currentColor\" text-anchor=\"middle\" y=\"397.0\">\n",
       "    <tspan class=\"displacy-word\" fill=\"currentColor\" x=\"50\">This</tspan>\n",
       "    <tspan class=\"displacy-tag\" dy=\"2em\" fill=\"currentColor\" x=\"50\">DET</tspan>\n",
       "</text>\n",
       "\n",
       "<text class=\"displacy-token\" fill=\"currentColor\" text-anchor=\"middle\" y=\"397.0\">\n",
       "    <tspan class=\"displacy-word\" fill=\"currentColor\" x=\"225\">done,</tspan>\n",
       "    <tspan class=\"displacy-tag\" dy=\"2em\" fill=\"currentColor\" x=\"225\">VERB</tspan>\n",
       "</text>\n",
       "\n",
       "<text class=\"displacy-token\" fill=\"currentColor\" text-anchor=\"middle\" y=\"397.0\">\n",
       "    <tspan class=\"displacy-word\" fill=\"currentColor\" x=\"400\">she</tspan>\n",
       "    <tspan class=\"displacy-tag\" dy=\"2em\" fill=\"currentColor\" x=\"400\">PRON</tspan>\n",
       "</text>\n",
       "\n",
       "<text class=\"displacy-token\" fill=\"currentColor\" text-anchor=\"middle\" y=\"397.0\">\n",
       "    <tspan class=\"displacy-word\" fill=\"currentColor\" x=\"575\">gave</tspan>\n",
       "    <tspan class=\"displacy-tag\" dy=\"2em\" fill=\"currentColor\" x=\"575\">VERB</tspan>\n",
       "</text>\n",
       "\n",
       "<text class=\"displacy-token\" fill=\"currentColor\" text-anchor=\"middle\" y=\"397.0\">\n",
       "    <tspan class=\"displacy-word\" fill=\"currentColor\" x=\"750\">her</tspan>\n",
       "    <tspan class=\"displacy-tag\" dy=\"2em\" fill=\"currentColor\" x=\"750\">PRON</tspan>\n",
       "</text>\n",
       "\n",
       "<text class=\"displacy-token\" fill=\"currentColor\" text-anchor=\"middle\" y=\"397.0\">\n",
       "    <tspan class=\"displacy-word\" fill=\"currentColor\" x=\"925\">a</tspan>\n",
       "    <tspan class=\"displacy-tag\" dy=\"2em\" fill=\"currentColor\" x=\"925\">DET</tspan>\n",
       "</text>\n",
       "\n",
       "<text class=\"displacy-token\" fill=\"currentColor\" text-anchor=\"middle\" y=\"397.0\">\n",
       "    <tspan class=\"displacy-word\" fill=\"currentColor\" x=\"1100\">pair</tspan>\n",
       "    <tspan class=\"displacy-tag\" dy=\"2em\" fill=\"currentColor\" x=\"1100\">NOUN</tspan>\n",
       "</text>\n",
       "\n",
       "<text class=\"displacy-token\" fill=\"currentColor\" text-anchor=\"middle\" y=\"397.0\">\n",
       "    <tspan class=\"displacy-word\" fill=\"currentColor\" x=\"1275\">of</tspan>\n",
       "    <tspan class=\"displacy-tag\" dy=\"2em\" fill=\"currentColor\" x=\"1275\">ADP</tspan>\n",
       "</text>\n",
       "\n",
       "<text class=\"displacy-token\" fill=\"currentColor\" text-anchor=\"middle\" y=\"397.0\">\n",
       "    <tspan class=\"displacy-word\" fill=\"currentColor\" x=\"1450\">glass</tspan>\n",
       "    <tspan class=\"displacy-tag\" dy=\"2em\" fill=\"currentColor\" x=\"1450\">NOUN</tspan>\n",
       "</text>\n",
       "\n",
       "<text class=\"displacy-token\" fill=\"currentColor\" text-anchor=\"middle\" y=\"397.0\">\n",
       "    <tspan class=\"displacy-word\" fill=\"currentColor\" x=\"1625\">slippers,</tspan>\n",
       "    <tspan class=\"displacy-tag\" dy=\"2em\" fill=\"currentColor\" x=\"1625\">NOUN</tspan>\n",
       "</text>\n",
       "\n",
       "<text class=\"displacy-token\" fill=\"currentColor\" text-anchor=\"middle\" y=\"397.0\">\n",
       "    <tspan class=\"displacy-word\" fill=\"currentColor\" x=\"1800\">the</tspan>\n",
       "    <tspan class=\"displacy-tag\" dy=\"2em\" fill=\"currentColor\" x=\"1800\">DET</tspan>\n",
       "</text>\n",
       "\n",
       "<text class=\"displacy-token\" fill=\"currentColor\" text-anchor=\"middle\" y=\"397.0\">\n",
       "    <tspan class=\"displacy-word\" fill=\"currentColor\" x=\"1975\">prettiest</tspan>\n",
       "    <tspan class=\"displacy-tag\" dy=\"2em\" fill=\"currentColor\" x=\"1975\">NOUN</tspan>\n",
       "</text>\n",
       "\n",
       "<text class=\"displacy-token\" fill=\"currentColor\" text-anchor=\"middle\" y=\"397.0\">\n",
       "    <tspan class=\"displacy-word\" fill=\"currentColor\" x=\"2150\">in</tspan>\n",
       "    <tspan class=\"displacy-tag\" dy=\"2em\" fill=\"currentColor\" x=\"2150\">ADP</tspan>\n",
       "</text>\n",
       "\n",
       "<text class=\"displacy-token\" fill=\"currentColor\" text-anchor=\"middle\" y=\"397.0\">\n",
       "    <tspan class=\"displacy-word\" fill=\"currentColor\" x=\"2325\">the</tspan>\n",
       "    <tspan class=\"displacy-tag\" dy=\"2em\" fill=\"currentColor\" x=\"2325\">DET</tspan>\n",
       "</text>\n",
       "\n",
       "<text class=\"displacy-token\" fill=\"currentColor\" text-anchor=\"middle\" y=\"397.0\">\n",
       "    <tspan class=\"displacy-word\" fill=\"currentColor\" x=\"2500\">whole</tspan>\n",
       "    <tspan class=\"displacy-tag\" dy=\"2em\" fill=\"currentColor\" x=\"2500\">ADJ</tspan>\n",
       "</text>\n",
       "\n",
       "<text class=\"displacy-token\" fill=\"currentColor\" text-anchor=\"middle\" y=\"397.0\">\n",
       "    <tspan class=\"displacy-word\" fill=\"currentColor\" x=\"2675\">world.</tspan>\n",
       "    <tspan class=\"displacy-tag\" dy=\"2em\" fill=\"currentColor\" x=\"2675\">NOUN</tspan>\n",
       "</text>\n",
       "\n",
       "<g class=\"displacy-arrow\">\n",
       "    <path class=\"displacy-arc\" id=\"arrow-d7745dc6504545929722aad0b8c928e7-0-0\" stroke-width=\"2px\" d=\"M70,352.0 C70,264.5 210.0,264.5 210.0,352.0\" fill=\"none\" stroke=\"currentColor\"/>\n",
       "    <text dy=\"1.25em\" style=\"font-size: 0.8em; letter-spacing: 1px\">\n",
       "        <textPath xlink:href=\"#arrow-d7745dc6504545929722aad0b8c928e7-0-0\" class=\"displacy-label\" startOffset=\"50%\" side=\"left\" fill=\"currentColor\" text-anchor=\"middle\">nsubj</textPath>\n",
       "    </text>\n",
       "    <path class=\"displacy-arrowhead\" d=\"M70,354.0 L62,342.0 78,342.0\" fill=\"currentColor\"/>\n",
       "</g>\n",
       "\n",
       "<g class=\"displacy-arrow\">\n",
       "    <path class=\"displacy-arc\" id=\"arrow-d7745dc6504545929722aad0b8c928e7-0-1\" stroke-width=\"2px\" d=\"M245,352.0 C245,177.0 565.0,177.0 565.0,352.0\" fill=\"none\" stroke=\"currentColor\"/>\n",
       "    <text dy=\"1.25em\" style=\"font-size: 0.8em; letter-spacing: 1px\">\n",
       "        <textPath xlink:href=\"#arrow-d7745dc6504545929722aad0b8c928e7-0-1\" class=\"displacy-label\" startOffset=\"50%\" side=\"left\" fill=\"currentColor\" text-anchor=\"middle\">advcl</textPath>\n",
       "    </text>\n",
       "    <path class=\"displacy-arrowhead\" d=\"M245,354.0 L237,342.0 253,342.0\" fill=\"currentColor\"/>\n",
       "</g>\n",
       "\n",
       "<g class=\"displacy-arrow\">\n",
       "    <path class=\"displacy-arc\" id=\"arrow-d7745dc6504545929722aad0b8c928e7-0-2\" stroke-width=\"2px\" d=\"M420,352.0 C420,264.5 560.0,264.5 560.0,352.0\" fill=\"none\" stroke=\"currentColor\"/>\n",
       "    <text dy=\"1.25em\" style=\"font-size: 0.8em; letter-spacing: 1px\">\n",
       "        <textPath xlink:href=\"#arrow-d7745dc6504545929722aad0b8c928e7-0-2\" class=\"displacy-label\" startOffset=\"50%\" side=\"left\" fill=\"currentColor\" text-anchor=\"middle\">nsubj</textPath>\n",
       "    </text>\n",
       "    <path class=\"displacy-arrowhead\" d=\"M420,354.0 L412,342.0 428,342.0\" fill=\"currentColor\"/>\n",
       "</g>\n",
       "\n",
       "<g class=\"displacy-arrow\">\n",
       "    <path class=\"displacy-arc\" id=\"arrow-d7745dc6504545929722aad0b8c928e7-0-3\" stroke-width=\"2px\" d=\"M595,352.0 C595,264.5 735.0,264.5 735.0,352.0\" fill=\"none\" stroke=\"currentColor\"/>\n",
       "    <text dy=\"1.25em\" style=\"font-size: 0.8em; letter-spacing: 1px\">\n",
       "        <textPath xlink:href=\"#arrow-d7745dc6504545929722aad0b8c928e7-0-3\" class=\"displacy-label\" startOffset=\"50%\" side=\"left\" fill=\"currentColor\" text-anchor=\"middle\">dative</textPath>\n",
       "    </text>\n",
       "    <path class=\"displacy-arrowhead\" d=\"M735.0,354.0 L743.0,342.0 727.0,342.0\" fill=\"currentColor\"/>\n",
       "</g>\n",
       "\n",
       "<g class=\"displacy-arrow\">\n",
       "    <path class=\"displacy-arc\" id=\"arrow-d7745dc6504545929722aad0b8c928e7-0-4\" stroke-width=\"2px\" d=\"M945,352.0 C945,264.5 1085.0,264.5 1085.0,352.0\" fill=\"none\" stroke=\"currentColor\"/>\n",
       "    <text dy=\"1.25em\" style=\"font-size: 0.8em; letter-spacing: 1px\">\n",
       "        <textPath xlink:href=\"#arrow-d7745dc6504545929722aad0b8c928e7-0-4\" class=\"displacy-label\" startOffset=\"50%\" side=\"left\" fill=\"currentColor\" text-anchor=\"middle\">det</textPath>\n",
       "    </text>\n",
       "    <path class=\"displacy-arrowhead\" d=\"M945,354.0 L937,342.0 953,342.0\" fill=\"currentColor\"/>\n",
       "</g>\n",
       "\n",
       "<g class=\"displacy-arrow\">\n",
       "    <path class=\"displacy-arc\" id=\"arrow-d7745dc6504545929722aad0b8c928e7-0-5\" stroke-width=\"2px\" d=\"M595,352.0 C595,89.5 1095.0,89.5 1095.0,352.0\" fill=\"none\" stroke=\"currentColor\"/>\n",
       "    <text dy=\"1.25em\" style=\"font-size: 0.8em; letter-spacing: 1px\">\n",
       "        <textPath xlink:href=\"#arrow-d7745dc6504545929722aad0b8c928e7-0-5\" class=\"displacy-label\" startOffset=\"50%\" side=\"left\" fill=\"currentColor\" text-anchor=\"middle\">dobj</textPath>\n",
       "    </text>\n",
       "    <path class=\"displacy-arrowhead\" d=\"M1095.0,354.0 L1103.0,342.0 1087.0,342.0\" fill=\"currentColor\"/>\n",
       "</g>\n",
       "\n",
       "<g class=\"displacy-arrow\">\n",
       "    <path class=\"displacy-arc\" id=\"arrow-d7745dc6504545929722aad0b8c928e7-0-6\" stroke-width=\"2px\" d=\"M1120,352.0 C1120,264.5 1260.0,264.5 1260.0,352.0\" fill=\"none\" stroke=\"currentColor\"/>\n",
       "    <text dy=\"1.25em\" style=\"font-size: 0.8em; letter-spacing: 1px\">\n",
       "        <textPath xlink:href=\"#arrow-d7745dc6504545929722aad0b8c928e7-0-6\" class=\"displacy-label\" startOffset=\"50%\" side=\"left\" fill=\"currentColor\" text-anchor=\"middle\">prep</textPath>\n",
       "    </text>\n",
       "    <path class=\"displacy-arrowhead\" d=\"M1260.0,354.0 L1268.0,342.0 1252.0,342.0\" fill=\"currentColor\"/>\n",
       "</g>\n",
       "\n",
       "<g class=\"displacy-arrow\">\n",
       "    <path class=\"displacy-arc\" id=\"arrow-d7745dc6504545929722aad0b8c928e7-0-7\" stroke-width=\"2px\" d=\"M1470,352.0 C1470,264.5 1610.0,264.5 1610.0,352.0\" fill=\"none\" stroke=\"currentColor\"/>\n",
       "    <text dy=\"1.25em\" style=\"font-size: 0.8em; letter-spacing: 1px\">\n",
       "        <textPath xlink:href=\"#arrow-d7745dc6504545929722aad0b8c928e7-0-7\" class=\"displacy-label\" startOffset=\"50%\" side=\"left\" fill=\"currentColor\" text-anchor=\"middle\">compound</textPath>\n",
       "    </text>\n",
       "    <path class=\"displacy-arrowhead\" d=\"M1470,354.0 L1462,342.0 1478,342.0\" fill=\"currentColor\"/>\n",
       "</g>\n",
       "\n",
       "<g class=\"displacy-arrow\">\n",
       "    <path class=\"displacy-arc\" id=\"arrow-d7745dc6504545929722aad0b8c928e7-0-8\" stroke-width=\"2px\" d=\"M1295,352.0 C1295,177.0 1615.0,177.0 1615.0,352.0\" fill=\"none\" stroke=\"currentColor\"/>\n",
       "    <text dy=\"1.25em\" style=\"font-size: 0.8em; letter-spacing: 1px\">\n",
       "        <textPath xlink:href=\"#arrow-d7745dc6504545929722aad0b8c928e7-0-8\" class=\"displacy-label\" startOffset=\"50%\" side=\"left\" fill=\"currentColor\" text-anchor=\"middle\">pobj</textPath>\n",
       "    </text>\n",
       "    <path class=\"displacy-arrowhead\" d=\"M1615.0,354.0 L1623.0,342.0 1607.0,342.0\" fill=\"currentColor\"/>\n",
       "</g>\n",
       "\n",
       "<g class=\"displacy-arrow\">\n",
       "    <path class=\"displacy-arc\" id=\"arrow-d7745dc6504545929722aad0b8c928e7-0-9\" stroke-width=\"2px\" d=\"M1820,352.0 C1820,264.5 1960.0,264.5 1960.0,352.0\" fill=\"none\" stroke=\"currentColor\"/>\n",
       "    <text dy=\"1.25em\" style=\"font-size: 0.8em; letter-spacing: 1px\">\n",
       "        <textPath xlink:href=\"#arrow-d7745dc6504545929722aad0b8c928e7-0-9\" class=\"displacy-label\" startOffset=\"50%\" side=\"left\" fill=\"currentColor\" text-anchor=\"middle\">det</textPath>\n",
       "    </text>\n",
       "    <path class=\"displacy-arrowhead\" d=\"M1820,354.0 L1812,342.0 1828,342.0\" fill=\"currentColor\"/>\n",
       "</g>\n",
       "\n",
       "<g class=\"displacy-arrow\">\n",
       "    <path class=\"displacy-arc\" id=\"arrow-d7745dc6504545929722aad0b8c928e7-0-10\" stroke-width=\"2px\" d=\"M1120,352.0 C1120,2.0 1975.0,2.0 1975.0,352.0\" fill=\"none\" stroke=\"currentColor\"/>\n",
       "    <text dy=\"1.25em\" style=\"font-size: 0.8em; letter-spacing: 1px\">\n",
       "        <textPath xlink:href=\"#arrow-d7745dc6504545929722aad0b8c928e7-0-10\" class=\"displacy-label\" startOffset=\"50%\" side=\"left\" fill=\"currentColor\" text-anchor=\"middle\">appos</textPath>\n",
       "    </text>\n",
       "    <path class=\"displacy-arrowhead\" d=\"M1975.0,354.0 L1983.0,342.0 1967.0,342.0\" fill=\"currentColor\"/>\n",
       "</g>\n",
       "\n",
       "<g class=\"displacy-arrow\">\n",
       "    <path class=\"displacy-arc\" id=\"arrow-d7745dc6504545929722aad0b8c928e7-0-11\" stroke-width=\"2px\" d=\"M1995,352.0 C1995,264.5 2135.0,264.5 2135.0,352.0\" fill=\"none\" stroke=\"currentColor\"/>\n",
       "    <text dy=\"1.25em\" style=\"font-size: 0.8em; letter-spacing: 1px\">\n",
       "        <textPath xlink:href=\"#arrow-d7745dc6504545929722aad0b8c928e7-0-11\" class=\"displacy-label\" startOffset=\"50%\" side=\"left\" fill=\"currentColor\" text-anchor=\"middle\">prep</textPath>\n",
       "    </text>\n",
       "    <path class=\"displacy-arrowhead\" d=\"M2135.0,354.0 L2143.0,342.0 2127.0,342.0\" fill=\"currentColor\"/>\n",
       "</g>\n",
       "\n",
       "<g class=\"displacy-arrow\">\n",
       "    <path class=\"displacy-arc\" id=\"arrow-d7745dc6504545929722aad0b8c928e7-0-12\" stroke-width=\"2px\" d=\"M2345,352.0 C2345,177.0 2665.0,177.0 2665.0,352.0\" fill=\"none\" stroke=\"currentColor\"/>\n",
       "    <text dy=\"1.25em\" style=\"font-size: 0.8em; letter-spacing: 1px\">\n",
       "        <textPath xlink:href=\"#arrow-d7745dc6504545929722aad0b8c928e7-0-12\" class=\"displacy-label\" startOffset=\"50%\" side=\"left\" fill=\"currentColor\" text-anchor=\"middle\">det</textPath>\n",
       "    </text>\n",
       "    <path class=\"displacy-arrowhead\" d=\"M2345,354.0 L2337,342.0 2353,342.0\" fill=\"currentColor\"/>\n",
       "</g>\n",
       "\n",
       "<g class=\"displacy-arrow\">\n",
       "    <path class=\"displacy-arc\" id=\"arrow-d7745dc6504545929722aad0b8c928e7-0-13\" stroke-width=\"2px\" d=\"M2520,352.0 C2520,264.5 2660.0,264.5 2660.0,352.0\" fill=\"none\" stroke=\"currentColor\"/>\n",
       "    <text dy=\"1.25em\" style=\"font-size: 0.8em; letter-spacing: 1px\">\n",
       "        <textPath xlink:href=\"#arrow-d7745dc6504545929722aad0b8c928e7-0-13\" class=\"displacy-label\" startOffset=\"50%\" side=\"left\" fill=\"currentColor\" text-anchor=\"middle\">amod</textPath>\n",
       "    </text>\n",
       "    <path class=\"displacy-arrowhead\" d=\"M2520,354.0 L2512,342.0 2528,342.0\" fill=\"currentColor\"/>\n",
       "</g>\n",
       "\n",
       "<g class=\"displacy-arrow\">\n",
       "    <path class=\"displacy-arc\" id=\"arrow-d7745dc6504545929722aad0b8c928e7-0-14\" stroke-width=\"2px\" d=\"M2170,352.0 C2170,89.5 2670.0,89.5 2670.0,352.0\" fill=\"none\" stroke=\"currentColor\"/>\n",
       "    <text dy=\"1.25em\" style=\"font-size: 0.8em; letter-spacing: 1px\">\n",
       "        <textPath xlink:href=\"#arrow-d7745dc6504545929722aad0b8c928e7-0-14\" class=\"displacy-label\" startOffset=\"50%\" side=\"left\" fill=\"currentColor\" text-anchor=\"middle\">pobj</textPath>\n",
       "    </text>\n",
       "    <path class=\"displacy-arrowhead\" d=\"M2670.0,354.0 L2678.0,342.0 2662.0,342.0\" fill=\"currentColor\"/>\n",
       "</g>\n",
       "</svg></span>"
      ],
      "text/plain": [
       "<IPython.core.display.HTML object>"
      ]
     },
     "metadata": {},
     "output_type": "display_data"
    }
   ],
   "source": [
    "from spacy import displacy\n",
    "\n",
    "displacy.render(sentence2, style='dep')"
   ]
  },
  {
   "cell_type": "markdown",
   "id": "29879d10",
   "metadata": {},
   "source": [
    "Karena saya baru belajar nlp saya agak bingung namun its okay"
   ]
  },
  {
   "cell_type": "markdown",
   "id": "dbf030d4",
   "metadata": {},
   "source": [
    "#### Entities"
   ]
  },
  {
   "cell_type": "markdown",
   "id": "763747c5",
   "metadata": {},
   "source": [
    "Entities atau entitas (seperti orang, tempat, kejadian, dll) yang di-recognize dalam text. Didapatkan dengan method doc.ents.\n",
    "\n",
    "Di sini kita akan mencoba mem-print entitas apa saja yang berada pada text, dan labelnya (apakah entitas itu merupakan orang, tempat, dll)"
   ]
  },
  {
   "cell_type": "code",
   "execution_count": 11,
   "id": "8a26078b",
   "metadata": {},
   "outputs": [
    {
     "name": "stdout",
     "output_type": "stream",
     "text": [
      "second\t| ORDINAL\n",
      "two\t| CARDINAL\n",
      "Cinderwench\t| PERSON\n",
      "Cinderella\t| PERSON\n",
      "Cinderella\t| PERSON\n",
      "a hundred\t| CARDINAL\n",
      "Cinderella\t| PERSON\n",
      "French\t| NORP\n",
      "Mademoiselle de la Poche\t| ORG\n",
      "Cinderella\t| PERSON\n",
      "Cinderella\t| PERSON\n",
      "Thou\t| PERSON\n",
      "Cinderella\t| PERSON\n",
      "almost two days\t| DATE\n",
      "dozen\t| CARDINAL\n",
      "Cinderella\t| PERSON\n",
      "Thou\t| GPE\n",
      "Cinderella\t| PERSON\n",
      "thou\t| GPE\n",
      "Cinderella\t| PERSON\n",
      "six\t| CARDINAL\n",
      "Cinderella\t| PERSON\n",
      "six\t| CARDINAL\n",
      "Cinderella\t| PERSON\n",
      "Thou\t| PERSON\n",
      "Cinderella\t| PERSON\n",
      "three\t| CARDINAL\n",
      "one\t| CARDINAL\n",
      "three\t| CARDINAL\n",
      "six\t| CARDINAL\n",
      "six\t| CARDINAL\n",
      "Fairy\t| PERSON\n",
      "Cinderella\t| PERSON\n",
      "midnight\t| TIME\n",
      "The King\t| WORK_OF_ART\n",
      "Queen\t| PERSON\n",
      "next day\t| DATE\n",
      "The King's\t| WORK_OF_ART\n",
      "thousand\t| CARDINAL\n",
      "Prince\t| ORG\n",
      "Cinderella\t| PERSON\n",
      "three-quarters\t| DATE\n",
      "next day\t| DATE\n",
      "two\t| CARDINAL\n",
      "Cinderella\t| PERSON\n",
      "one\t| CARDINAL\n",
      "Cinderella\t| PERSON\n",
      "Cinderella\t| PERSON\n",
      "Charlotte\t| PERSON\n",
      "Charlotte\t| PERSON\n",
      "Cinderwench\t| PERSON\n",
      "Cinderella\t| PERSON\n",
      "The next day\t| DATE\n",
      "two\t| CARDINAL\n",
      "Cinderella\t| PERSON\n",
      "twelve\t| CARDINAL\n",
      "one\t| CARDINAL\n",
      "Prince\t| GPE\n",
      "one\t| CARDINAL\n",
      "two\t| CARDINAL\n",
      "Cinderella\t| PERSON\n",
      "twelve\t| CARDINAL\n",
      "a few days\t| DATE\n",
      "Court\t| ORG\n",
      "two\t| CARDINAL\n",
      "Cinderella\t| PERSON\n",
      "Cinderella\t| PERSON\n",
      "Cinderella\t| PERSON\n",
      "two\t| CARDINAL\n",
      "Cinderella\t| PERSON\n",
      "Cinderella\t| PERSON\n",
      "two\t| CARDINAL\n",
      "Cinderella\t| PERSON\n",
      "a few days\t| DATE\n",
      "Cinderella\t| PERSON\n",
      "two\t| CARDINAL\n"
     ]
    }
   ],
   "source": [
    "for ent in doc.ents:\n",
    "    print(f'{ent.text}\\t| {ent.label_}')"
   ]
  },
  {
   "cell_type": "markdown",
   "id": "43eed416",
   "metadata": {},
   "source": [
    "Kita juga bisa melakukan visualisasi entitas yang berada pada doc"
   ]
  },
  {
   "cell_type": "code",
   "execution_count": 12,
   "id": "91c12653",
   "metadata": {},
   "outputs": [
    {
     "data": {
      "text/html": [
       "<span class=\"tex2jax_ignore\"><div class=\"entities\" style=\"line-height: 2.5; direction: ltr\">inlaid, upon beds of the very newest fashion, and where they had looking-glasses so large that they might see themselves at their full length from head to foot.</br></br>The poor girl bore all patiently, and dared not tell her father, who would have rattled her off; for his wife governed him entirely. When she had done her work, she used to go into the chimney-corner, and sit down among cinders and ashes, which made her commonly be called \n",
       "<mark class=\"entity\" style=\"background: #aa9cfc; padding: 0.45em 0.6em; margin: 0 0.25em; line-height: 1; border-radius: 0.35em;\">\n",
       "    Cinderwench\n",
       "    <span style=\"font-size: 0.8em; font-weight: bold; line-height: 1; border-radius: 0.35em; vertical-align: middle; margin-left: 0.5rem\">PERSON</span>\n",
       "</mark>\n",
       "; but the youngest, who was not so rude and uncivil as the eldest, called her \n",
       "<mark class=\"entity\" style=\"background: #aa9cfc; padding: 0.45em 0.6em; margin: 0 0.25em; line-height: 1; border-radius: 0.35em;\">\n",
       "    Cinderella\n",
       "    <span style=\"font-size: 0.8em; font-weight: bold; line-height: 1; border-radius: 0.35em; vertical-align: middle; margin-left: 0.5rem\">PERSON</span>\n",
       "</mark>\n",
       ". However, \n",
       "<mark class=\"entity\" style=\"background: #aa9cfc; padding: 0.45em 0.6em; margin: 0 0.25em; line-height: 1; border-radius: 0.35em;\">\n",
       "    Cinderella\n",
       "    <span style=\"font-size: 0.8em; font-weight: bold; line-height: 1; border-radius: 0.35em; vertical-align: middle; margin-left: 0.5rem\">PERSON</span>\n",
       "</mark>\n",
       ", notwithstanding her mean apparel, was \n",
       "<mark class=\"entity\" style=\"background: #e4e7d2; padding: 0.45em 0.6em; margin: 0 0.25em; line-height: 1; border-radius: 0.35em;\">\n",
       "    a hundred\n",
       "    <span style=\"font-size: 0.8em; font-weight: bold; line-height: 1; border-radius: 0.35em; vertical-align: middle; margin-left: 0.5rem\">CARDINAL</span>\n",
       "</mark>\n",
       " times handsomer than her sisters, though they were always dressed very richly.</br></br>It happened that the King's son gave a ball, and invited all persons of fashion to it. Our young misses were also invited, for they cut a very grand figure among the quality. They were mightily delighted at this invitation, and wonderfully busy in choosing out such gowns, petticoats, and head-clothes as might become them. This was a new trouble to \n",
       "<mark class=\"entity\" style=\"background: #aa9cfc; padding: 0.45em 0.6em; margin: 0 0.25em; line-height: 1; border-radius: 0.35em;\">\n",
       "    Cinderella\n",
       "    <span style=\"font-size: 0.8em; font-weight: bold; line-height: 1; border-radius: 0.35em; vertical-align: middle; margin-left: 0.5rem\">PERSON</span>\n",
       "</mark>\n",
       "; for it was she who ironed her sisters' linen, and plaited their ruffles; they talked all day long of nothing but how they should be dressed.</br></br>&quot;For my part,&quot; said the eldest, &quot;I will wear my red velvet suit with \n",
       "<mark class=\"entity\" style=\"background: #c887fb; padding: 0.45em 0.6em; margin: 0 0.25em; line-height: 1; border-radius: 0.35em;\">\n",
       "    French\n",
       "    <span style=\"font-size: 0.8em; font-weight: bold; line-height: 1; border-radius: 0.35em; vertical-align: middle; margin-left: 0.5rem\">NORP</span>\n",
       "</mark>\n",
       " trimming.&quot;</br></br>&quot;And I,&quot; said the youngest, &quot;shall have my usual petticoat; but then, to make amends for that, I will put on my gold-flowered manteau, and my diamond stomacher, which is far from being the most ordinary one in the world.&quot;</br>They sent for the best tire-woman they could get to make up their head-dresses and adjust their double pinners, and they had their red brushes and patches from \n",
       "<mark class=\"entity\" style=\"background: #7aecec; padding: 0.45em 0.6em; margin: 0 0.25em; line-height: 1; border-radius: 0.35em;\">\n",
       "    Mademoiselle de la Poche\n",
       "    <span style=\"font-size: 0.8em; font-weight: bold; line-height: 1; border-radius: 0.35em; vertical-align: middle; margin-left: 0.5rem\">ORG</span>\n",
       "</mark>\n",
       ".</br></br>\n",
       "<mark class=\"entity\" style=\"background: #aa9cfc; padding: 0.45em 0.6em; margin: 0 0.25em; line-height: 1; border-radius: 0.35em;\">\n",
       "    Cinderella\n",
       "    <span style=\"font-size: 0.8em; font-weight: bold; line-height: 1; border-radius: 0.35em; vertical-align: middle; margin-left: 0.5rem\">PERSON</span>\n",
       "</mark>\n",
       " was likewise called up to them to be consulted in all these matters, for she had excellent notions, and advised them always for the best, nay, and offered her services to dress their heads, which they were very willing she should do. As she was doing this, they said to her:</br></br>&quot;\n",
       "<mark class=\"entity\" style=\"background: #aa9cfc; padding: 0.45em 0.6em; margin: 0 0.25em; line-height: 1; border-radius: 0.35em;\">\n",
       "    Cinderella\n",
       "    <span style=\"font-size: 0.8em; font-weight: bold; line-height: 1; border-radius: 0.35em; vertical-align: middle; margin-left: 0.5rem\">PERSON</span>\n",
       "</mark>\n",
       ", would you not be glad to go to the ball?&quot;</br></br>&quot;Alas!&quot; said she, &quot;you only jeer me; it is not for such as I am to go thither.&quot;</br>&quot;\n",
       "<mark class=\"entity\" style=\"background: #aa9cfc; padding: 0.45em 0.6em; margin: 0 0.25em; line-height: 1; border-radius: 0.35em;\">\n",
       "    Thou\n",
       "    <span style=\"font-size: 0.8em; font-weight: bold; line-height: 1; border-radius: 0.35em; vertical-align: middle; margin-left: 0.5rem\">PERSON</span>\n",
       "</mark>\n",
       " art in the right of it,&quot; replied they; &quot;it would make the people laugh to see a Cinderwench at a ball.&quot;</br></br>Anyone but </div></span>"
      ],
      "text/plain": [
       "<IPython.core.display.HTML object>"
      ]
     },
     "metadata": {},
     "output_type": "display_data"
    }
   ],
   "source": [
    "displacy.render(doc[200:700], style='ent')"
   ]
  }
 ],
 "metadata": {
  "kernelspec": {
   "display_name": "Python 3 (ipykernel)",
   "language": "python",
   "name": "python3"
  },
  "language_info": {
   "codemirror_mode": {
    "name": "ipython",
    "version": 3
   },
   "file_extension": ".py",
   "mimetype": "text/x-python",
   "name": "python",
   "nbconvert_exporter": "python",
   "pygments_lexer": "ipython3",
   "version": "3.7.7"
  }
 },
 "nbformat": 4,
 "nbformat_minor": 5
}
